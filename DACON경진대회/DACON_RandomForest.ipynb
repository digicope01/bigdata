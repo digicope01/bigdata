{
 "cells": [
  {
   "cell_type": "code",
   "execution_count": null,
   "metadata": {},
   "outputs": [],
   "source": [
    "import os\n",
    "# os.chdir(\"참가자분들 각각의 데이터 경로 입력\")\n",
    "\n",
    "import numpy as np #데이터 처리\n",
    "import pandas as pd #데이터 처리\n",
    "import warnings\n",
    "warnings.filterwarnings('ignore')\n",
    "from collections import Counter # count 용도\n",
    "\n",
    "import matplotlib.pyplot as plt # 시각화\n",
    "import seaborn as sns #시각화\n",
    "\n",
    "import folium # 지도 관련 시각화\n",
    "from folium.plugins import MarkerCluster #지도 관련 시각화\n",
    "import geopy.distance #거리 계산해주는 패키지 사용\n",
    "\n",
    "import random #데이터 샘플링\n",
    "from sklearn.model_selection import GridSearchCV #모델링\n",
    "from sklearn.ensemble import RandomForestRegressor #모델링\n",
    "\n",
    "from datetime import datetime\n",
    "\n",
    "pd.set_option('display.max_rows', 5000)"
   ]
  },
  {
   "cell_type": "code",
   "execution_count": null,
   "metadata": {},
   "outputs": [],
   "source": [
    "train = pd.read_csv(\"train.csv\")\n",
    "test = pd.read_csv(\"test.csv\")"
   ]
  },
  {
   "cell_type": "code",
   "execution_count": null,
   "metadata": {},
   "outputs": [],
   "source": [
    "train['date2'] = pd.to_datetime(train['date'])\n",
    "train['weekday'] = train['date2'].dt.weekday\n",
    "train = pd.get_dummies(train,columns=['weekday'])\n",
    "test['date2'] = pd.to_datetime(test['date'])\n",
    "test['weekday'] = test['date2'].dt.weekday\n",
    "test = pd.get_dummies(test,columns=['weekday'])\n",
    "del train['date2']\n",
    "del test['date2']"
   ]
  },
  {
   "cell_type": "code",
   "execution_count": null,
   "metadata": {},
   "outputs": [],
   "source": [
    "train['in_out'].value_counts()\n",
    "train['in_out'] = train['in_out'].map({'시내':0,'시외':1})\n",
    "test['in_out'] = test['in_out'].map({'시내':0,'시외':1})"
   ]
  },
  {
   "cell_type": "code",
   "execution_count": null,
   "metadata": {},
   "outputs": [],
   "source": [
    "train['68a']=train['6~7_ride']+train['7~8_ride'] # 6 ~ 8시 승차인원\n",
    "train['810a']=train['8~9_ride']+train['9~10_ride']\n",
    "train['1012a']=train['10~11_ride']+train['11~12_ride']\n",
    "\n",
    "train['68b']=train['6~7_takeoff']+train['7~8_takeoff'] # 6 ~ 8시 하차인원\n",
    "train['810b']=train['8~9_takeoff']+train['9~10_takeoff']\n",
    "train['1012b']=train['10~11_takeoff']+train['11~12_takeoff']"
   ]
  },
  {
   "cell_type": "code",
   "execution_count": null,
   "metadata": {},
   "outputs": [],
   "source": [
    "train22=train[['68a','810a','1012a','68b','810b','1012b','18~20_ride']]\n",
    "\n",
    "cor=train22.corr()\n",
    "\n",
    "sns.set(style=\"white\")\n",
    "mask=np.zeros_like(cor,dtype=np.bool)\n",
    "mask[np.triu_indices_from(mask)]=True\n",
    "\n",
    "f,ax=plt.subplots(figsize=(20,15))\n",
    "cmap=sns.diverging_palette(200,10,as_cmap=True)\n",
    "sns.heatmap(cor,mask=mask,cmap=cmap,center=0,square=True,linewidths=0.5,cbar_kws={\"shrink\":1},annot=True); #히트맵 생성\n",
    "plt.xticks(size=20)\n",
    "plt.yticks(size=20,rotation=0)\n",
    "plt.title(\"arrive and leave correlation graph\",size=30);"
   ]
  },
  {
   "cell_type": "code",
   "execution_count": null,
   "metadata": {},
   "outputs": [],
   "source": [
    "test['68a']=test['6~7_ride']+test['7~8_ride']\n",
    "test['810a']=test['8~9_ride']+test['9~10_ride']\n",
    "test['1012a']=test['10~11_ride']+test['11~12_ride']\n",
    "\n",
    "test['68b']=test['6~7_takeoff']+test['7~8_takeoff']\n",
    "test['810b']=test['8~9_takeoff']+test['9~10_takeoff']\n",
    "test['1012b']=test['10~11_takeoff']+test['11~12_takeoff']"
   ]
  },
  {
   "cell_type": "code",
   "execution_count": null,
   "metadata": {},
   "outputs": [],
   "source": [
    "# 해당 주요 장소의 임의 지역 위도, 경도\n",
    "\n",
    "jeju=(33.51411, 126.52969) # 제주 측정소 근처\n",
    "gosan=(33.29382, 126.16283) #고산 측정소 근처\n",
    "seongsan=(33.38677, 126.8802) #성산 측정소 근처\n",
    "po=(33.24616, 126.5653) #서귀포 측정소 근처\n",
    "\n",
    "#제주도 지역이 보일 수 있는 위치의 위도, 경도를 표시한 뒤, folium.Map에 변수로 넣고, map_osm에 할당\n",
    "map_osm= folium.Map((33.399835, 126.506031),zoom_start=9)\n",
    "mc = MarkerCluster()\n",
    "\n",
    "mc.add_child( folium.Marker(location=jeju,popup='제주 측정소',icon=folium.Icon(color='red',icon='info-sign') ) ) #제주 측정소 마커 생성\n",
    "map_osm.add_child(mc) #마커를 map_osm에 추가\n",
    "\n",
    "mc.add_child( folium.Marker(location=gosan,popup='고산 측정소',icon=folium.Icon(color='red',icon='info-sign') ) )\n",
    "map_osm.add_child(mc) \n",
    "\n",
    "mc.add_child( folium.Marker(location=seongsan,popup='성산 측정소',icon=folium.Icon(color='red',icon='info-sign') ) )\n",
    "map_osm.add_child(mc) \n",
    "\n",
    "mc.add_child( folium.Marker(location=po,popup='서귀포 측정소',icon=folium.Icon(color='red',icon='info-sign') ) )\n",
    "map_osm.add_child(mc)"
   ]
  },
  {
   "cell_type": "code",
   "execution_count": null,
   "metadata": {},
   "outputs": [],
   "source": [
    "#정류장의 위치만 확인하기 위해 groupby를 실행함\n",
    "data=train[['latitude','longitude','station_name']].drop_duplicates(keep='first')\n",
    "\n",
    "data2=data.groupby(['station_name'])['latitude','longitude'].mean()\n",
    "\n",
    "data2.to_csv(\"folium.csv\")\n",
    "\n",
    "data2=pd.read_csv(\"folium.csv\")\n",
    "\n",
    "#정류장의 대략적인 위치를 확인하기 위하여, folium map에 해당 정류장을 표시\n",
    "for row in data2.itertuples():\n",
    "    mc.add_child(folium.Marker(location=[row.latitude,  row.longitude], popup=row.station_name)) #마커 생성\n",
    "    map_osm.add_child(mc) #마커를 map_osm에 추가\n",
    "    \n",
    "map_osm"
   ]
  },
  {
   "cell_type": "code",
   "execution_count": null,
   "metadata": {},
   "outputs": [],
   "source": [
    "t1 = [geopy.distance.vincenty( (i,j), jeju).km for i,j in list( zip( train['latitude'],train['longitude'] )) ]\n",
    "t2 = [geopy.distance.vincenty( (i,j), gosan).km for i,j in list( zip( train['latitude'],train['longitude'] )) ]\n",
    "t3 = [geopy.distance.vincenty( (i,j), seongsan).km for i,j in list( zip( train['latitude'],train['longitude'] )) ]\n",
    "t4 = [geopy.distance.vincenty( (i,j), po).km for i,j in list( zip( train['latitude'],train['longitude'] )) ]\n",
    "\n",
    "train['dis_jeju']=t1\n",
    "train['dis_gosan']=t2\n",
    "train['dis_seongsan']=t3\n",
    "train['dis_po']=t4"
   ]
  },
  {
   "cell_type": "code",
   "execution_count": null,
   "metadata": {},
   "outputs": [],
   "source": [
    "total=pd.DataFrame( list(zip( t1,t2,t3,t4)),columns=['jeju','gosan','seongsan','po'] )\n",
    "train['dist_name'] = total.apply(lambda x: x.argmin(), axis=1)\n",
    "\n",
    "data22=train[['station_name','latitude','longitude','dist_name']].drop_duplicates(keep='first')\n",
    "\n",
    "Counter(data22['dist_name'])"
   ]
  },
  {
   "cell_type": "code",
   "execution_count": null,
   "metadata": {},
   "outputs": [],
   "source": [
    "t1 = [geopy.distance.vincenty( (i,j), jeju).km for i,j in list( zip( test['latitude'],test['longitude'] )) ]\n",
    "t2 = [geopy.distance.vincenty( (i,j), gosan).km for i,j in list( zip( test['latitude'],test['longitude'] )) ]\n",
    "t3 = [geopy.distance.vincenty( (i,j), seongsan).km for i,j in list( zip( test['latitude'],test['longitude'] )) ]\n",
    "t4 = [geopy.distance.vincenty( (i,j), po).km for i,j in list( zip( test['latitude'],test['longitude'] )) ]\n",
    "\n",
    "test['dis_jeju']=t1\n",
    "test['dis_gosan']=t2\n",
    "test['dis_seongsan']=t3\n",
    "test['dis_po']=t4\n",
    "\n",
    "total=pd.DataFrame( list(zip( t1,t2,t3,t4)),columns=['jeju','gosan','seongsan','po'] )\n",
    "test['dist_name'] = total.apply(lambda x: x.argmin(), axis=1)"
   ]
  },
  {
   "cell_type": "code",
   "execution_count": null,
   "metadata": {},
   "outputs": [],
   "source": [
    "#데이터 불러오기\n",
    "# raining=pd.read_csv(\"기상청데이터.csv\",encoding='EUC-KR',engine='python')\n",
    "raining=pd.read_csv(\"기상청데이터.csv\",engine='python')\n",
    "#외부데이터에서 나오는 지점명들을 변경\n",
    "raining['지점'] = [ str(i) for i in raining['지점'] ]\n",
    "\n",
    "raining['지점'] = ['jeju' if i=='184' else i for i in raining['지점'] ]  # 위도 : 33.51411 경도 : 126.52969\n",
    "raining['지점'] = ['gosan' if i=='185' else i for i in raining['지점'] ]  # 위도 : 33.29382 경도 : 126.16283\n",
    "raining['지점'] = ['seongsan' if i=='188' else i for i in raining['지점'] ]  # 위도 : 33.38677 경도 : 126.8802\n",
    "raining['지점'] = ['po' if i=='189' else i for i in raining['지점'] ]  # 위도 : 33.24616 경도 : 126.5653\n",
    "\n",
    "raining.head()"
   ]
  },
  {
   "cell_type": "code",
   "execution_count": null,
   "metadata": {},
   "outputs": [],
   "source": [
    "raining['time'] = [ int( i.split(' ')[1].split(':')[0] ) for i in raining['일시']] \n",
    "\n",
    "raining['일시'] = [ i.split(' ')[0] for i in raining['일시'] ] \n",
    "\n",
    "# 실제 측정 데이터이기 때문에, 12시 이전의 시간대만 사용\n",
    "rain2 = raining[ (raining['time']>=6) & (raining['time']<12)  ]\n",
    "rain2"
   ]
  },
  {
   "cell_type": "code",
   "execution_count": null,
   "metadata": {},
   "outputs": [],
   "source": [
    "rain3 = rain2.groupby(['지점','일시'])[['기온(°C)','강수량(mm)']].mean()\n",
    "\n",
    "rain3.to_csv(\"rain3.csv\")\n",
    "\n",
    "rain3=pd.read_csv(\"rain3.csv\")\n",
    "\n",
    "# train, test의 변수명과 통일시키고, NaN의 값은 0.0000으로 변경\n",
    "rain3 = rain3.rename(columns={\"일시\":\"date\",\"지점\":\"dist_name\"})\n",
    "rain3= rain3.fillna(0.00000)\n",
    "rain3"
   ]
  },
  {
   "cell_type": "code",
   "execution_count": null,
   "metadata": {},
   "outputs": [],
   "source": [
    "train2=pd.merge(train,rain3,how='left',on=['dist_name','date'])\n",
    "test2=pd.merge(test,rain3,how='left',on=['dist_name','date'])\n",
    "train2"
   ]
  },
  {
   "cell_type": "code",
   "execution_count": null,
   "metadata": {},
   "outputs": [],
   "source": [
    "train2 = pd.get_dummies(train2,columns=['dist_name'])\n",
    "test2 = pd.get_dummies(test2,columns=['dist_name'])\n",
    "\n",
    "train2.shape, test2.shape, train.shape, test.shape"
   ]
  },
  {
   "cell_type": "code",
   "execution_count": null,
   "metadata": {},
   "outputs": [],
   "source": [
    "# input_var=['in_out','latitude', 'longitude', '68a', '810a', '1012a', '68b', '810b', '1012b',\n",
    "#            'weekday_0', 'weekday_1', 'weekday_2', 'weekday_3', 'weekday_4', 'weekday_5', 'weekday_6',\n",
    "#            'dis_jeju', 'dis_gosan','dis_seongsan', 'dis_po','기온(°C)', '강수량(mm)',            \n",
    "#            'dist_name_gosan', 'dist_name_jeju','dist_name_po', 'dist_name_seongsan']\n",
    "\n",
    "# 상관계수  0.01 보다 큰 피처들(15개)   --> RMSE: 2.7888439380810235\n",
    "# 상관계수  0.001 보다 큰 피처들(17개)  --> RMSE: 2.7990497959648586\n",
    "\n",
    "# 상관계수  절대값이 0.002 보다 큰 피처들(21개)  --> RMSE : test score 2.42520\n",
    "#           17개에 아래 4개 피쳐 추가함\n",
    "#             'weekday_0',         \n",
    "#             'weekday_1',         \n",
    "#             'weekday_2',\n",
    "#             'weekday_3',\n",
    "\n",
    "input_var=[ 'bus_route_id',\n",
    "            'in_out',            \n",
    "            'station_code',      \n",
    "            'latitude', \n",
    "            'longitude',\n",
    "            'weekday_0',\n",
    "            'weekday_1',\n",
    "            'weekday_2',\n",
    "            'weekday_3',           \n",
    "            '68a',              \n",
    "            '810a',              \n",
    "            '1012a',\n",
    "            '68b',               \n",
    "            '810b',              \n",
    "            '1012b', \n",
    "            'dis_jeju',\n",
    "            'dis_po', \n",
    "            'dist_name_gosan',            \n",
    "            'dist_name_jeju',\n",
    "            'dist_name_po',\n",
    "            'dist_name_seongsan']  \n",
    "\n",
    "target=['18~20_ride']"
   ]
  },
  {
   "cell_type": "code",
   "execution_count": null,
   "metadata": {},
   "outputs": [],
   "source": [
    "X_train=train2[input_var]\n",
    "random.seed(1217) #동일한 샘플링하기 위한 시드번호\n",
    "train_list=random.sample(list(range(X_train.shape[0])), int(round(X_train.shape[0]*0.01,0)) )\n",
    "\n",
    "X_train=train2[input_var]\n",
    "X_train=X_train.iloc[train_list,:]\n",
    "y_train=train2[target]\n",
    "y_train=y_train.iloc[train_list,:]\n",
    "\n",
    "X_test=test2[input_var]\n",
    "\n",
    "X_train.shape, y_train.shape"
   ]
  },
  {
   "cell_type": "code",
   "execution_count": 76,
   "metadata": {},
   "outputs": [
    {
     "name": "stdout",
     "output_type": "stream",
     "text": [
      "grid_search time taken: 0:02:06.565888\n"
     ]
    },
    {
     "data": {
      "text/plain": [
       "{'max_features': 3,\n",
       " 'min_samples_leaf': 2,\n",
       " 'min_samples_split': 2,\n",
       " 'n_estimators': 200}"
      ]
     },
     "execution_count": 76,
     "metadata": {},
     "output_type": "execute_result"
    }
   ],
   "source": [
    "# Create the parameter grid based on the results of random search \n",
    "param_grid = {\n",
    "    'max_features': [2,3,5],\n",
    "    'min_samples_leaf': [2,3],\n",
    "    'min_samples_split': [2,4,6],\n",
    "    'n_estimators': [100, 200,500]\n",
    "}\n",
    "\n",
    "start_time = datetime.now()\n",
    "\n",
    "# Create a based model\n",
    "rf = RandomForestRegressor(random_state=1217) # 랜덤포레스트 모델을 정의한다.\n",
    "# Instantiate the grid search model\n",
    "grid_search = GridSearchCV(estimator = rf, param_grid = param_grid) # GridSearchCV를 정의한다.\n",
    "\n",
    "grid_search.fit(X_train, y_train)\n",
    "\n",
    "print('grid_search time taken:',datetime.now() - start_time) # grid_search time taken: 0:02:07.198093\n",
    "#해당 코드 실행시간 2분 ~ 3분 소요\n",
    "\n",
    "grid_search.best_params_ #학습 이후 최적의 paramter를 출력"
   ]
  },
  {
   "cell_type": "code",
   "execution_count": null,
   "metadata": {},
   "outputs": [],
   "source": [
    "#전체 데이터로 적용\n",
    "X_train=train2[input_var]\n",
    "y_train=train2[target]\n",
    "\n",
    "X_test=test2[input_var]\n",
    "\n",
    "X_train.shape, y_train.shape, X_test.shape"
   ]
  },
  {
   "cell_type": "code",
   "execution_count": 82,
   "metadata": {},
   "outputs": [
    {
     "name": "stdout",
     "output_type": "stream",
     "text": [
      "X_train: (373880, 21)\n",
      "X_test: (41543, 21)\n"
     ]
    }
   ],
   "source": [
    "# train 데이터내에서 다시 train: 70% , test : 30%  데이터 추출\n",
    "from sklearn.model_selection import train_test_split\n",
    "import numpy as np\n",
    "from sklearn.metrics import mean_squared_error\n",
    "\n",
    "def get_train_test_split(X_train, y_train, test_size=0.3, random_state=0) :\n",
    "    X_train, X_test, y_train, y_test = train_test_split(X_train, y_train,\n",
    "                                       test_size=test_size, random_state=random_state)\n",
    "    print('X_train:',X_train.shape)\n",
    "    print('X_test:',X_test.shape)\n",
    "    return  X_train, X_test, y_train, y_test\n",
    "\n",
    "X_train, X_test, y_train, y_test = get_train_test_split(X_train, y_train, test_size=0.1, random_state=0)"
   ]
  },
  {
   "cell_type": "code",
   "execution_count": 83,
   "metadata": {},
   "outputs": [
    {
     "name": "stdout",
     "output_type": "stream",
     "text": [
      "start_time: 2019-12-05 15:56:07.244187\n",
      "RandomForestRegressor time taken: 0:01:39.256588\n",
      "RandomForestRegressor RMSE: 2.5322528363253087\n"
     ]
    },
    {
     "data": {
      "text/plain": [
       "(373880, 21)"
      ]
     },
     "execution_count": 83,
     "metadata": {},
     "output_type": "execute_result"
    }
   ],
   "source": [
    "# best_params_를 통해서 나온 값을 투입\n",
    "rf = RandomForestRegressor(max_features=3,min_samples_leaf=2,min_samples_split=2,n_estimators=200,random_state=1217)\n",
    "# rf = RandomForestRegressor(max_features=5,min_samples_leaf=2,min_samples_split=2,n_estimators=500,random_state=1217)\n",
    "\n",
    "# rf = RandomForestRegressor(max_features=3,min_samples_leaf=2,min_samples_split=2,n_estimators=100,random_state=1217)\n",
    "# train RMSE: 2.5054126217303216  , score :2.46\n",
    "\n",
    "\n",
    "# rf = RandomForestRegressor(max_features=5,min_samples_leaf=2,min_samples_split=2,n_estimators=100,random_state=1217)\n",
    "# RMSE: 2.5425250784597417\n",
    "\n",
    "start_time = datetime.now()\n",
    "print('start_time:',start_time)\n",
    "\n",
    "rf.fit(X_train,y_train) #학습 \n",
    "\n",
    "print('RandomForestRegressor time taken:',datetime.now() - start_time) # 0:01:44.079289\n",
    "\n",
    "pred = rf.predict(X_test)\n",
    "rmse = np.sqrt(mean_squared_error(y_test,pred))\n",
    "\n",
    "print('RandomForestRegressor RMSE:',rmse)   #   train rmse: 2.5322528363253087  , test_size=0.1\n",
    "\n",
    "\n",
    "# test['18~20_ride'] = rf.predict(X_test) #예측값 생성 후, test['18~20_ride']에 집어 넣는다.\n",
    "\n",
    "# test[['id','18~20_ride']].to_csv(\"2019-12-04-RF.csv\",index=False) # id와 18~20_ride만 선택 후 csv 파일로 내보낸다\n",
    "#  2019-12-03    RMSE: 2.54572\n",
    "#  2019-12-04    RMSE: 2.42520\n",
    "\n",
    "X_train.shape\n",
    "\n",
    "#  |상관계수| > 0.002 (21개 , weekday_0~3 4개 추가)              -->   RMSE  train: 2.5322528363253087 , test score: 2.42520    \n",
    "#  |상관계수| > 0.002 (17개)                                     -->   RMSE  train: 2.537708608500639  , 성능하락\n",
    "##  |상관계수| > 0.002 (23개 , weekday_0~3,기온,강수량  6개 추가) -->   RMSE  train: 2.624203398422346  , 성능하락 \n",
    "\n"
   ]
  },
  {
   "cell_type": "code",
   "execution_count": 87,
   "metadata": {},
   "outputs": [
    {
     "name": "stdout",
     "output_type": "stream",
     "text": [
      "start_time: 2019-12-05 16:06:01.504286\n",
      "RandomForestRegressor time taken: 0:01:39.861845\n"
     ]
    }
   ],
   "source": [
    "# 제출\n",
    "\n",
    "#전체 데이터로 적용\n",
    "X_train=train2[input_var]\n",
    "y_train=train2[target]\n",
    "\n",
    "X_test=test2[input_var]\n",
    "\n",
    "\n",
    "start_time = datetime.now()\n",
    "print('start_time:',start_time)\n",
    "\n",
    "rf.fit(X_train,y_train) #학습 \n",
    "\n",
    "print('RandomForestRegressor time taken:',datetime.now() - start_time) # 0:01:44.079289\n",
    "# 예측 결과 파일로 저장\n",
    "\n",
    "test['18~20_ride'] = rf.predict(X_test) #예측값 생성 후, test['18~20_ride']에 집어 넣는다.\n",
    "\n",
    "test[['id','18~20_ride']].to_csv(\"2019-12-05-RF-final.csv\",index=False) # id와 18~20_ride만 선택 후 csv 파일로 내보낸다\n",
    "#  2019-12-03    RMSE: 2.54572\n",
    "#  2019-12-04    RMSE: 2.42520\n"
   ]
  },
  {
   "cell_type": "code",
   "execution_count": 88,
   "metadata": {},
   "outputs": [
    {
     "data": {
      "text/html": [
       "<div>\n",
       "<style scoped>\n",
       "    .dataframe tbody tr th:only-of-type {\n",
       "        vertical-align: middle;\n",
       "    }\n",
       "\n",
       "    .dataframe tbody tr th {\n",
       "        vertical-align: top;\n",
       "    }\n",
       "\n",
       "    .dataframe thead th {\n",
       "        text-align: right;\n",
       "    }\n",
       "</style>\n",
       "<table border=\"1\" class=\"dataframe\">\n",
       "  <thead>\n",
       "    <tr style=\"text-align: right;\">\n",
       "      <th></th>\n",
       "      <th>id</th>\n",
       "      <th>date</th>\n",
       "      <th>bus_route_id</th>\n",
       "      <th>in_out</th>\n",
       "      <th>station_code</th>\n",
       "      <th>station_name</th>\n",
       "      <th>latitude</th>\n",
       "      <th>longitude</th>\n",
       "      <th>6~7_ride</th>\n",
       "      <th>7~8_ride</th>\n",
       "      <th>...</th>\n",
       "      <th>1012a</th>\n",
       "      <th>68b</th>\n",
       "      <th>810b</th>\n",
       "      <th>1012b</th>\n",
       "      <th>dis_jeju</th>\n",
       "      <th>dis_gosan</th>\n",
       "      <th>dis_seongsan</th>\n",
       "      <th>dis_po</th>\n",
       "      <th>dist_name</th>\n",
       "      <th>18~20_ride</th>\n",
       "    </tr>\n",
       "  </thead>\n",
       "  <tbody>\n",
       "  </tbody>\n",
       "</table>\n",
       "<p>0 rows × 39 columns</p>\n",
       "</div>"
      ],
      "text/plain": [
       "Empty DataFrame\n",
       "Columns: [id, date, bus_route_id, in_out, station_code, station_name, latitude, longitude, 6~7_ride, 7~8_ride, 8~9_ride, 9~10_ride, 10~11_ride, 11~12_ride, 6~7_takeoff, 7~8_takeoff, 8~9_takeoff, 9~10_takeoff, 10~11_takeoff, 11~12_takeoff, weekday_0, weekday_1, weekday_2, weekday_3, weekday_4, weekday_5, weekday_6, 68a, 810a, 1012a, 68b, 810b, 1012b, dis_jeju, dis_gosan, dis_seongsan, dis_po, dist_name, 18~20_ride]\n",
       "Index: []\n",
       "\n",
       "[0 rows x 39 columns]"
      ]
     },
     "execution_count": 88,
     "metadata": {},
     "output_type": "execute_result"
    }
   ],
   "source": [
    "minus= test[test['18~20_ride'] < 0]\n",
    "minus\n",
    "#  No minus data\n"
   ]
  },
  {
   "cell_type": "code",
   "execution_count": null,
   "metadata": {},
   "outputs": [],
   "source": []
  },
  {
   "cell_type": "code",
   "execution_count": 368,
   "metadata": {},
   "outputs": [
    {
     "data": {
      "text/plain": [
       "array([ 8., 10.,  3., ...,  0.,  1.,  0.])"
      ]
     },
     "execution_count": 368,
     "metadata": {},
     "output_type": "execute_result"
    }
   ],
   "source": [
    "round = np.round(test['18~20_ride'].values) \n",
    "round\n",
    "# 성능 저하"
   ]
  },
  {
   "cell_type": "code",
   "execution_count": null,
   "metadata": {},
   "outputs": [],
   "source": []
  },
  {
   "cell_type": "markdown",
   "metadata": {},
   "source": [
    "###  이상치 제거  : 성능 저하"
   ]
  },
  {
   "cell_type": "code",
   "execution_count": 309,
   "metadata": {},
   "outputs": [],
   "source": [
    "import numpy as np\n",
    "\n",
    "def get_outlier(df=None, weight=1.5):\n",
    "    # y_train의  1/4 분위와 3/4 분위 지점을 np.percentile로 구함. \n",
    "   \n",
    "    quantile_25 = np.percentile(y_train.values, 25)\n",
    "    quantile_75 = np.percentile(y_train.values, 99.7)\n",
    "    print('quantile_25:',quantile_25,'quantile_75:',quantile_75)\n",
    "    # IQR을 구하고, IQR에 1.5를 곱하여 최대값과 최소값 지점 구함. \n",
    "    iqr = quantile_75 - quantile_25\n",
    "    iqr_weight = iqr * weight\n",
    "    lowest_val = quantile_25 - iqr_weight\n",
    "    highest_val = quantile_75 + iqr_weight\n",
    "    print('lowest_val:',lowest_val ,'highest_val:',highest_val)\n",
    "    # 최대값 보다 크거나, 최소값 보다 작은 값을 아웃라이어로 설정하고 DataFrame index 반환. \n",
    "    outlier_index = y_train[(y_train['18~20_ride'] < lowest_val) | (y_train['18~20_ride'] > highest_val)].index\n",
    "    return outlier_index\n",
    "    "
   ]
  },
  {
   "cell_type": "code",
   "execution_count": 310,
   "metadata": {
    "scrolled": true
   },
   "outputs": [
    {
     "name": "stdout",
     "output_type": "stream",
     "text": [
      "quantile_25: 0.0 quantile_75: 35.0\n",
      "lowest_val: -52.5 highest_val: 87.5\n",
      "이상치 데이터 인덱스: 143\n"
     ]
    },
    {
     "data": {
      "text/plain": [
       "((415280, 21), (415280, 1))"
      ]
     },
     "execution_count": 310,
     "metadata": {},
     "output_type": "execute_result"
    }
   ],
   "source": [
    "#전체 데이터에서 이상치 제거\n",
    "X_train=train2[input_var]\n",
    "y_train=train2[target]\n",
    "\n",
    "X_test=test2[input_var]\n",
    "\n",
    "outlier_index = get_outlier(df=y_train, weight=1.5)\n",
    "print('이상치 데이터 인덱스:', len(outlier_index))\n",
    "X_train.drop(outlier_index, axis=0, inplace=True)\n",
    "y_train.drop(outlier_index, axis=0, inplace=True)\n",
    "X_train.shape,y_train.shape"
   ]
  },
  {
   "cell_type": "code",
   "execution_count": 311,
   "metadata": {},
   "outputs": [
    {
     "data": {
      "text/plain": [
       "((4153, 21), (4153, 1))"
      ]
     },
     "execution_count": 311,
     "metadata": {},
     "output_type": "execute_result"
    }
   ],
   "source": [
    "random.seed(1217) #동일한 샘플링하기 위한 시드번호\n",
    "train_list=random.sample(list(range(X_train.shape[0])), int(round(X_train.shape[0]*0.01,0)) )\n",
    "\n",
    "X_train=X_train.iloc[train_list,:]\n",
    "\n",
    "y_train=y_train.iloc[train_list,:]\n",
    "\n",
    "X_train.shape, y_train.shape"
   ]
  },
  {
   "cell_type": "code",
   "execution_count": 312,
   "metadata": {},
   "outputs": [
    {
     "name": "stdout",
     "output_type": "stream",
     "text": [
      "grid_search time taken: 0:02:01.225464\n"
     ]
    },
    {
     "data": {
      "text/plain": [
       "{'max_features': 5,\n",
       " 'min_samples_leaf': 2,\n",
       " 'min_samples_split': 6,\n",
       " 'n_estimators': 100}"
      ]
     },
     "execution_count": 312,
     "metadata": {},
     "output_type": "execute_result"
    }
   ],
   "source": [
    "# Create the parameter grid based on the results of random search \n",
    "param_grid = {\n",
    "    'max_features': [2,3,5],\n",
    "    'min_samples_leaf': [2,3],\n",
    "    'min_samples_split': [2,4,6],\n",
    "    'n_estimators': [100, 200,500]\n",
    "}\n",
    "\n",
    "start_time = datetime.now()\n",
    "\n",
    "# Create a based model\n",
    "rf = RandomForestRegressor(random_state=1217) # 랜덤포레스트 모델을 정의한다.\n",
    "# Instantiate the grid search model\n",
    "grid_search = GridSearchCV(estimator = rf, param_grid = param_grid) # GridSearchCV를 정의한다.\n",
    "\n",
    "grid_search.fit(X_train, y_train)\n",
    "\n",
    "print('grid_search time taken:',datetime.now() - start_time) # grid_search time taken: 0:02:07.198093\n",
    "#해당 코드 실행시간 2분 ~ 3분 소요\n",
    "\n",
    "grid_search.best_params_ #학습 이후 최적의 paramter를 출력"
   ]
  },
  {
   "cell_type": "code",
   "execution_count": 313,
   "metadata": {},
   "outputs": [
    {
     "name": "stdout",
     "output_type": "stream",
     "text": [
      "quantile_25: 0.0 quantile_75: 35.0\n",
      "lowest_val: -52.5 highest_val: 87.5\n",
      "이상치 데이터 인덱스: 143\n"
     ]
    },
    {
     "data": {
      "text/plain": [
       "((415280, 21), (415280, 1))"
      ]
     },
     "execution_count": 313,
     "metadata": {},
     "output_type": "execute_result"
    }
   ],
   "source": [
    "#전체 데이터에서 이상치 제거\n",
    "X_train=train2[input_var]\n",
    "y_train=train2[target]\n",
    "\n",
    "X_test=test2[input_var]\n",
    "\n",
    "outlier_index = get_outlier(df=y_train, weight=1.5)\n",
    "print('이상치 데이터 인덱스:', len(outlier_index))\n",
    "X_train.drop(outlier_index, axis=0, inplace=True)\n",
    "y_train.drop(outlier_index, axis=0, inplace=True)\n",
    "X_train.shape,y_train.shape"
   ]
  },
  {
   "cell_type": "code",
   "execution_count": 314,
   "metadata": {},
   "outputs": [
    {
     "name": "stdout",
     "output_type": "stream",
     "text": [
      "X_train: (290696, 21)\n",
      "X_test: (124584, 21)\n"
     ]
    }
   ],
   "source": [
    "# train 데이터내에서 다시 train: 70% , test : 30%  데이터 추출\n",
    "from sklearn.model_selection import train_test_split\n",
    "import numpy as np\n",
    "from sklearn.metrics import mean_squared_error\n",
    "\n",
    "def get_train_test_split(X_train, y_train, test_size=0.3, random_state=0) :\n",
    "    X_train, X_test, y_train, y_test = train_test_split(X_train, y_train,\n",
    "                                       test_size=test_size, random_state=random_state)\n",
    "    print('X_train:',X_train.shape)\n",
    "    print('X_test:',X_test.shape)\n",
    "    return  X_train, X_test, y_train, y_test\n",
    "\n",
    "X_train, X_test, y_train, y_test = get_train_test_split(X_train, y_train, test_size=0.3, random_state=0)"
   ]
  },
  {
   "cell_type": "code",
   "execution_count": 316,
   "metadata": {},
   "outputs": [
    {
     "name": "stdout",
     "output_type": "stream",
     "text": [
      "start_time: 2019-12-05 11:05:41.400680\n",
      "RandomForestRegressor time taken: 0:00:50.463420\n",
      "RandomForestRegressor RMSE: 2.398025812082043\n"
     ]
    },
    {
     "data": {
      "text/plain": [
       "(290696, 21)"
      ]
     },
     "execution_count": 316,
     "metadata": {},
     "output_type": "execute_result"
    }
   ],
   "source": [
    "# best_params_를 통해서 나온 값을 투입\n",
    "# rf = RandomForestRegressor(max_features=3,min_samples_leaf=2,min_samples_split=2,n_estimators=200,random_state=1217)\n",
    "# rf = RandomForestRegressor(max_features=3,min_samples_leaf=3,min_samples_split=2,n_estimators=500,random_state=1217)\n",
    "rf = RandomForestRegressor(max_features=5,min_samples_leaf=2,min_samples_split=6,n_estimators=100,random_state=1217)\n",
    "\n",
    "start_time = datetime.now()\n",
    "print('start_time:',start_time)\n",
    "\n",
    "rf.fit(X_train,y_train) #학습 \n",
    "\n",
    "print('RandomForestRegressor time taken:',datetime.now() - start_time) \n",
    "\n",
    "pred = rf.predict(X_test)\n",
    "rmse = np.sqrt(mean_squared_error(y_test,pred))\n",
    "\n",
    "print('RandomForestRegressor RMSE:',rmse)   #   train rmse:   , test_size=0.1\n",
    "\n",
    "\n",
    "# test['18~20_ride'] = rf.predict(X_test) #예측값 생성 후, test['18~20_ride']에 집어 넣는다.\n",
    "\n",
    "# test[['id','18~20_ride']].to_csv(\"2019-12-04-RF.csv\",index=False) # id와 18~20_ride만 선택 후 csv 파일로 내보낸다\n",
    "#  2019-12-03    RMSE: 2.54572\n",
    "#  2019-12-04    RMSE: 2.42520\n",
    "\n",
    "X_train.shape\n",
    "\n",
    "#  |상관계수| > 0.002 (21개 , weekday_0~3 4개 추가)              -->   RMSE  train: 2.5322528363253087 , test score: 2.42520    \n",
    "#  |상관계수| > 0.002 (17개)                                     -->   RMSE  train: 2.537708608500639  , 성능하락\n",
    "#  |상관계수| > 0.002 (23개 , weekday_0~3,기온,강수량  6개 추가) -->   RMSE  train: 2.624203398422346  , 성능하락 \n",
    "\n",
    "#  IQR 사용 이상치 제거 후 :  train RMSE: 0.4930277636540964   --->  test score : 4.366888762   성능하락"
   ]
  },
  {
   "cell_type": "code",
   "execution_count": 317,
   "metadata": {},
   "outputs": [
    {
     "data": {
      "text/plain": [
       "(228170, 21)"
      ]
     },
     "execution_count": 317,
     "metadata": {},
     "output_type": "execute_result"
    }
   ],
   "source": [
    "X_test=test2[input_var]\n",
    "X_test.shape"
   ]
  },
  {
   "cell_type": "code",
   "execution_count": 318,
   "metadata": {},
   "outputs": [],
   "source": [
    "test['18~20_ride'] = rf.predict(X_test) #예측값 생성 후, test['18~20_ride']에 집어 넣는다.\n",
    "\n",
    "test[['id','18~20_ride']].to_csv(\"2019-12-05-RF_outlier.csv\",index=False) # id와 18~20_ride만 선택 후 csv 파일로 내보낸다"
   ]
  },
  {
   "cell_type": "code",
   "execution_count": 375,
   "metadata": {},
   "outputs": [
    {
     "data": {
      "text/plain": [
       "0.0      266902\n",
       "1.0       39798\n",
       "2.0       21342\n",
       "3.0       12246\n",
       "4.0        7728\n",
       "5.0        5332\n",
       "6.0        3882\n",
       "7.0        2852\n",
       "8.0        2061\n",
       "9.0        1672\n",
       "10.0       1271\n",
       "11.0       1064\n",
       "12.0        888\n",
       "13.0        724\n",
       "14.0        584\n",
       "15.0        553\n",
       "16.0        456\n",
       "17.0        414\n",
       "18.0        360\n",
       "19.0        346\n",
       "20.0        298\n",
       "21.0        238\n",
       "22.0        209\n",
       "23.0        194\n",
       "24.0        181\n",
       "26.0        176\n",
       "25.0        144\n",
       "27.0        143\n",
       "28.0        127\n",
       "29.0        113\n",
       "30.0        105\n",
       "31.0         89\n",
       "32.0         75\n",
       "35.0         72\n",
       "34.0         69\n",
       "33.0         67\n",
       "38.0         61\n",
       "36.0         56\n",
       "37.0         55\n",
       "39.0         50\n",
       "41.0         48\n",
       "44.0         47\n",
       "42.0         40\n",
       "43.0         37\n",
       "40.0         34\n",
       "47.0         32\n",
       "45.0         32\n",
       "46.0         31\n",
       "50.0         23\n",
       "53.0         22\n",
       "49.0         22\n",
       "58.0         21\n",
       "51.0         20\n",
       "52.0         20\n",
       "55.0         20\n",
       "61.0         19\n",
       "56.0         19\n",
       "48.0         17\n",
       "54.0         17\n",
       "57.0         16\n",
       "65.0         15\n",
       "60.0         13\n",
       "64.0         13\n",
       "66.0         12\n",
       "59.0         12\n",
       "62.0         11\n",
       "63.0         10\n",
       "74.0          9\n",
       "80.0          9\n",
       "73.0          9\n",
       "83.0          9\n",
       "70.0          8\n",
       "76.0          7\n",
       "82.0          7\n",
       "78.0          7\n",
       "85.0          6\n",
       "77.0          6\n",
       "67.0          6\n",
       "68.0          6\n",
       "88.0          6\n",
       "72.0          6\n",
       "71.0          6\n",
       "91.0          5\n",
       "79.0          5\n",
       "92.0          5\n",
       "75.0          5\n",
       "69.0          5\n",
       "87.0          5\n",
       "81.0          4\n",
       "86.0          4\n",
       "84.0          4\n",
       "96.0          4\n",
       "101.0         4\n",
       "89.0          4\n",
       "127.0         3\n",
       "95.0          3\n",
       "122.0         3\n",
       "93.0          3\n",
       "97.0          3\n",
       "115.0         3\n",
       "105.0         3\n",
       "112.0         2\n",
       "107.0         2\n",
       "103.0         2\n",
       "108.0         2\n",
       "134.0         2\n",
       "100.0         2\n",
       "116.0         2\n",
       "164.0         2\n",
       "181.0         2\n",
       "169.0         2\n",
       "98.0          2\n",
       "104.0         2\n",
       "109.0         2\n",
       "126.0         2\n",
       "152.0         2\n",
       "162.0         2\n",
       "185.0         2\n",
       "119.0         2\n",
       "229.0         1\n",
       "227.0         1\n",
       "143.0         1\n",
       "102.0         1\n",
       "150.0         1\n",
       "241.0         1\n",
       "245.0         1\n",
       "265.0         1\n",
       "146.0         1\n",
       "125.0         1\n",
       "202.0         1\n",
       "131.0         1\n",
       "180.0         1\n",
       "129.0         1\n",
       "166.0         1\n",
       "113.0         1\n",
       "158.0         1\n",
       "128.0         1\n",
       "201.0         1\n",
       "175.0         1\n",
       "272.0         1\n",
       "173.0         1\n",
       "138.0         1\n",
       "90.0          1\n",
       "136.0         1\n",
       "167.0         1\n",
       "132.0         1\n",
       "99.0          1\n",
       "161.0         1\n",
       "168.0         1\n",
       "184.0         1\n",
       "198.0         1\n",
       "157.0         1\n",
       "106.0         1\n",
       "209.0         1\n",
       "215.0         1\n",
       "218.0         1\n",
       "240.0         1\n",
       "124.0         1\n",
       "226.0         1\n",
       "149.0         1\n",
       "111.0         1\n",
       "Name: 18~20_ride, dtype: int64"
      ]
     },
     "execution_count": 375,
     "metadata": {},
     "output_type": "execute_result"
    }
   ],
   "source": [
    "y_train['18~20_ride'].value_counts()\n",
    "# y_train"
   ]
  },
  {
   "cell_type": "markdown",
   "metadata": {},
   "source": [
    "### 로그변환  : 성능 저하"
   ]
  },
  {
   "cell_type": "code",
   "execution_count": 203,
   "metadata": {
    "scrolled": true
   },
   "outputs": [
    {
     "data": {
      "text/plain": [
       "array([[<matplotlib.axes._subplots.AxesSubplot object at 0x00000161833761C8>]],\n",
       "      dtype=object)"
      ]
     },
     "execution_count": 203,
     "metadata": {},
     "output_type": "execute_result"
    },
    {
     "data": {
      "image/png": "[encoded data removed]",
      "text/plain": [
       "<Figure size 432x288 with 1 Axes>"
      ]
     },
     "metadata": {},
     "output_type": "display_data"
    }
   ],
   "source": [
    "y_train.hist()"
   ]
  },
  {
   "cell_type": "code",
   "execution_count": 204,
   "metadata": {},
   "outputs": [
    {
     "data": {
      "text/plain": [
       "<matplotlib.axes._subplots.AxesSubplot at 0x161833ce488>"
      ]
     },
     "execution_count": 204,
     "metadata": {},
     "output_type": "execute_result"
    },
    {
     "data": {
      "image/png": "[encoded data removed]",
      "text/plain": [
       "<Figure size 432x288 with 1 Axes>"
      ]
     },
     "metadata": {},
     "output_type": "display_data"
    }
   ],
   "source": [
    "sns.distplot(y_train)"
   ]
  },
  {
   "cell_type": "code",
   "execution_count": 206,
   "metadata": {},
   "outputs": [
    {
     "data": {
      "text/plain": [
       "array([[<matplotlib.axes._subplots.AxesSubplot object at 0x0000016186DB9D88>]],\n",
       "      dtype=object)"
      ]
     },
     "execution_count": 206,
     "metadata": {},
     "output_type": "execute_result"
    },
    {
     "data": {
      "image/png": "[encoded data removed]",
      "text/plain": [
       "<Figure size 432x288 with 1 Axes>"
      ]
     },
     "metadata": {},
     "output_type": "display_data"
    }
   ],
   "source": [
    "y_log_train = np.log1p(y_train)\n",
    "# y_log_test = np.log1p(y_test)\n",
    "y_log_train.hist()"
   ]
  },
  {
   "cell_type": "code",
   "execution_count": 207,
   "metadata": {},
   "outputs": [
    {
     "data": {
      "text/plain": [
       "<matplotlib.axes._subplots.AxesSubplot at 0x16186e32108>"
      ]
     },
     "execution_count": 207,
     "metadata": {},
     "output_type": "execute_result"
    },
    {
     "data": {
      "image/png": "[encoded data removed]",
      "text/plain": [
       "<Figure size 432x288 with 1 Axes>"
      ]
     },
     "metadata": {},
     "output_type": "display_data"
    }
   ],
   "source": [
    "sns.distplot(y_log_train)"
   ]
  },
  {
   "cell_type": "code",
   "execution_count": 212,
   "metadata": {},
   "outputs": [
    {
     "data": {
      "text/plain": [
       "((4154, 21), (4154, 1))"
      ]
     },
     "execution_count": 212,
     "metadata": {},
     "output_type": "execute_result"
    }
   ],
   "source": [
    "# y_train 의 로그변환\n",
    "X_train=train2[input_var]\n",
    "random.seed(1217) #동일한 샘플링하기 위한 시드번호\n",
    "train_list=random.sample(list(range(X_train.shape[0])), int(round(X_train.shape[0]*0.01,0)) )\n",
    "\n",
    "X_train=train2[input_var]\n",
    "X_train=X_train.iloc[train_list,:]\n",
    "y_train=train2[target]\n",
    "y_train=y_train.iloc[train_list,:]\n",
    "\n",
    "X_test=test2[input_var]\n",
    "\n",
    "y_log_train = np.log1p(y_train)\n",
    "y_train = y_log_train\n",
    "\n",
    "X_train.shape, y_train.shape"
   ]
  },
  {
   "cell_type": "code",
   "execution_count": 213,
   "metadata": {},
   "outputs": [
    {
     "name": "stdout",
     "output_type": "stream",
     "text": [
      "grid_search time taken: 0:01:56.069183\n"
     ]
    },
    {
     "data": {
      "text/plain": [
       "{'max_features': 5,\n",
       " 'min_samples_leaf': 2,\n",
       " 'min_samples_split': 6,\n",
       " 'n_estimators': 500}"
      ]
     },
     "execution_count": 213,
     "metadata": {},
     "output_type": "execute_result"
    }
   ],
   "source": [
    "# Create the parameter grid based on the results of random search \n",
    "param_grid = {\n",
    "    'max_features': [2,3,5],\n",
    "    'min_samples_leaf': [2,3],\n",
    "    'min_samples_split': [2,4,6],\n",
    "    'n_estimators': [100, 200,500]\n",
    "}\n",
    "\n",
    "start_time = datetime.now()\n",
    "\n",
    "# Create a based model\n",
    "rf = RandomForestRegressor(random_state=1217) # 랜덤포레스트 모델을 정의한다.\n",
    "# Instantiate the grid search model\n",
    "grid_search = GridSearchCV(estimator = rf, param_grid = param_grid) # GridSearchCV를 정의한다.\n",
    "\n",
    "grid_search.fit(X_train, y_train)\n",
    "\n",
    "print('grid_search time taken:',datetime.now() - start_time) # grid_search time taken: 0:02:07.198093\n",
    "#해당 코드 실행시간 2분 ~ 3분 소요\n",
    "\n",
    "grid_search.best_params_ #학습 이후 최적의 paramter를 출력"
   ]
  },
  {
   "cell_type": "code",
   "execution_count": 214,
   "metadata": {},
   "outputs": [
    {
     "data": {
      "text/plain": [
       "((415423, 21), (415423, 1), (228170, 21))"
      ]
     },
     "execution_count": 214,
     "metadata": {},
     "output_type": "execute_result"
    }
   ],
   "source": [
    "#전체 데이터로 적용\n",
    "X_train=train2[input_var]\n",
    "y_train=train2[target]\n",
    "\n",
    "X_test=test2[input_var]\n",
    "\n",
    "y_log_train = np.log1p(y_train)\n",
    "y_train = y_log_train\n",
    "\n",
    "X_train.shape, y_train.shape, X_test.shape"
   ]
  },
  {
   "cell_type": "code",
   "execution_count": 215,
   "metadata": {},
   "outputs": [
    {
     "name": "stdout",
     "output_type": "stream",
     "text": [
      "X_train: (373880, 21)\n",
      "X_test: (41543, 21)\n"
     ]
    }
   ],
   "source": [
    "# train 데이터내에서 다시 train: 70% , test : 30%  데이터 추출\n",
    "from sklearn.model_selection import train_test_split\n",
    "import numpy as np\n",
    "from sklearn.metrics import mean_squared_error\n",
    "\n",
    "def get_train_test_split(X_train, y_train, test_size=0.3, random_state=0) :\n",
    "    X_train, X_test, y_train, y_test = train_test_split(X_train, y_train,\n",
    "                                       test_size=test_size, random_state=random_state)\n",
    "    print('X_train:',X_train.shape)\n",
    "    print('X_test:',X_test.shape)\n",
    "    return  X_train, X_test, y_train, y_test\n",
    "\n",
    "X_train, X_test, y_train, y_test = get_train_test_split(X_train, y_train, test_size=0.1, random_state=0)"
   ]
  },
  {
   "cell_type": "code",
   "execution_count": 216,
   "metadata": {},
   "outputs": [
    {
     "name": "stdout",
     "output_type": "stream",
     "text": [
      "start_time: 2019-12-05 09:45:19.622930\n",
      "RandomForestRegressor time taken: 0:05:12.255893\n",
      "RandomForestRegressor RMSE: 2.8086208131628885\n"
     ]
    },
    {
     "data": {
      "text/plain": [
       "(373880, 21)"
      ]
     },
     "execution_count": 216,
     "metadata": {},
     "output_type": "execute_result"
    }
   ],
   "source": [
    "# best_params_를 통해서 나온 값을 투입\n",
    "# rf = RandomForestRegressor(max_features=3,min_samples_leaf=2,min_samples_split=2,n_estimators=200,random_state=1217)\n",
    "rf = RandomForestRegressor(max_features=5,min_samples_leaf=2,min_samples_split=6,n_estimators=500,random_state=1217)\n",
    "# rf = RandomForestRegressor(max_features=2,min_samples_leaf=2,min_samples_split=2,n_estimators=100,random_state=1217)\n",
    "\n",
    "start_time = datetime.now()\n",
    "print('start_time:',start_time)\n",
    "\n",
    "rf.fit(X_train,y_train) #학습 \n",
    "\n",
    "print('RandomForestRegressor time taken:',datetime.now() - start_time) \n",
    "\n",
    "pred = rf.predict(X_test)\n",
    "\n",
    "pred = np.expm1(pred)\n",
    "y_test = np.expm1(y_test)\n",
    "\n",
    "rmse = np.sqrt(mean_squared_error(y_test,pred))\n",
    "\n",
    "print('RandomForestRegressor RMSE:',rmse)   #   train rmse:   , test_size=0.1\n",
    "\n",
    "\n",
    "# test['18~20_ride'] = rf.predict(X_test) #예측값 생성 후, test['18~20_ride']에 집어 넣는다.\n",
    "\n",
    "# test[['id','18~20_ride']].to_csv(\"2019-12-04-RF.csv\",index=False) # id와 18~20_ride만 선택 후 csv 파일로 내보낸다\n",
    "#  2019-12-03    RMSE: 2.54572\n",
    "#  2019-12-04    RMSE: 2.42520\n",
    "\n",
    "# X_train.shape\n",
    "\n",
    "#  |상관계수| > 0.002 (21개 , weekday_0~3 4개 추가)              -->   RMSE  train: 2.5322528363253087 , test score: 2.42520    \n",
    "#  |상관계수| > 0.002 (17개)                                     -->   RMSE  train: 2.537708608500639  , 성능하락\n",
    "#  |상관계수| > 0.002 (23개 , weekday_0~3,기온,강수량  6개 추가) -->   RMSE  train: 2.624203398422346  , 성능하락 \n",
    "\n",
    "# y_train 로그변환 후 -->  RMSE train: 2.8086208131628885 , 성능하락"
   ]
  },
  {
   "cell_type": "code",
   "execution_count": 218,
   "metadata": {},
   "outputs": [],
   "source": [
    "### 상관 계수"
   ]
  },
  {
   "cell_type": "code",
   "execution_count": 73,
   "metadata": {
    "scrolled": true
   },
   "outputs": [
    {
     "name": "stdout",
     "output_type": "stream",
     "text": [
      "bus_route_id         -0.143702\n",
      "in_out                0.022116\n",
      "station_code          0.034360\n",
      "latitude              0.079261\n",
      "longitude            -0.021368\n",
      "6~7_ride              0.262173\n",
      "7~8_ride              0.371751\n",
      "8~9_ride              0.445316\n",
      "9~10_ride             0.494085\n",
      "10~11_ride            0.512666\n",
      "11~12_ride            0.569747\n",
      "6~7_takeoff           0.178353\n",
      "7~8_takeoff           0.219430\n",
      "8~9_takeoff           0.274360\n",
      "9~10_takeoff          0.295875\n",
      "10~11_takeoff         0.290691\n",
      "11~12_takeoff         0.313540\n",
      "18~20_ride            1.000000\n",
      "68a                   0.394406\n",
      "810a                  0.538263\n",
      "1012a                 0.616721\n",
      "68b                   0.252626\n",
      "810b                  0.334714\n",
      "1012b                 0.344370\n",
      "dis_jeju             -0.120976\n",
      "dis_po                0.026983\n",
      "dist_name_gosan      -0.044140\n",
      "dist_name_jeju        0.101272\n",
      "dist_name_po         -0.053011\n",
      "dist_name_seongsan   -0.053016\n",
      "Name: 18~20_ride, dtype: float64\n"
     ]
    }
   ],
   "source": [
    "import seaborn as sns\n",
    "import matplotlib.pyplot as plt\n",
    "df = train2\n",
    "df_corr = df.corr()\n",
    "print(df_corr[np.abs(df_corr['18~20_ride']) >0.02]['18~20_ride'])\n",
    "\n",
    "# fig, ax = plt.subplots()\n",
    "# fig.set_size_inches(40, 40)\n",
    "# sns.heatmap(df_corr,cmap='RdYlGn_r', annot=True)\n",
    "# train.shape\n",
    "# df.columns"
   ]
  },
  {
   "cell_type": "code",
   "execution_count": 85,
   "metadata": {},
   "outputs": [],
   "source": [
    "test = pd.read_csv(\"test.csv\")\n",
    "test['18~20_ride'] = sub_preds\n",
    "test[['id','18~20_ride']].to_csv(\"2019-12-03_.csv\",index=False) # id와 18~20_ride만 선택 후 csv 파일로 내보낸다\n",
    "\n",
    "# Score : 2.728693065 "
   ]
  },
  {
   "cell_type": "code",
   "execution_count": null,
   "metadata": {},
   "outputs": [],
   "source": []
  },
  {
   "cell_type": "code",
   "execution_count": null,
   "metadata": {},
   "outputs": [],
   "source": []
  },
  {
   "cell_type": "code",
   "execution_count": null,
   "metadata": {},
   "outputs": [],
   "source": []
  }
 ],
 "metadata": {
  "kernelspec": {
   "display_name": "Python 3",
   "language": "python",
   "name": "python3"
  }
 },
 "nbformat": 4,
 "nbformat_minor": 2
}
