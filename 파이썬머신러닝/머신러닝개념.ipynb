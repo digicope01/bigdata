{
 "cells": [
  {
   "cell_type": "markdown",
   "metadata": {},
   "source": [
    "### 머신러닝 개념 \n",
    "#### 선형회귀(Linear Regression) : 1차 함수, 직선의 방정식\n",
    "- 가중치(Weight) : 입력변수가 출력에 영향을 미치는 정도를 설정\n",
    "- 편향(Bias) : 기본 출력값이 활성화되는 정도를 설정\n",
    "\n",
    "#### 비용함수(Cost Function)\n",
    "- cost(비용) = 오차 = 에러 = 손실(loss)\n",
    "- cost(W,b) = (H(x) - y)^2\n",
    "\n",
    "#### 예측(가설 ,Hypothesis) 함수\n",
    "- H(x) = WX + b\n",
    "   \n",
    "#### 경사하강법(Gradient Descent Alogorithm)\n",
    "- 비용이 가장 작은 기울기값을 구하는 알고리즘"
   ]
  },
  {
   "cell_type": "code",
   "execution_count": 10,
   "metadata": {},
   "outputs": [
    {
     "name": "stdout",
     "output_type": "stream",
     "text": [
      "18.666666666666668\n",
      "4.666666666666667\n",
      "0.0\n",
      "4.666666666666667\n",
      "18.666666666666668\n"
     ]
    },
    {
     "data": {
      "image/png": "[encoded data removed]",
      "text/plain": [
       "<Figure size 432x288 with 1 Axes>"
      ]
     },
     "metadata": {
      "needs_background": "light"
     },
     "output_type": "display_data"
    }
   ],
   "source": [
    "# 비용함수 구현\n",
    "def cost(x,y,w) :\n",
    "    c = 0\n",
    "    for i in range(len(x)):\n",
    "        hx = w * x[i]\n",
    "        loss = (hx - y[i])**2\n",
    "        c += loss        \n",
    "    return c/(len(x))\n",
    "\n",
    "x = [1,2,3]\n",
    "y = [1,2,3]\n",
    "# y = [2,4,6]\n",
    "# y = [1,3,5]\n",
    "print(cost(x,y,-1))\n",
    "print(cost(x,y,0))\n",
    "print(cost(x,y,1))        \n",
    "print(cost(x,y,2))  \n",
    "print(cost(x,y,3))  \n",
    "\n",
    "import matplotlib.pyplot as plt\n",
    "# 비용함수의 그래프 출력\n",
    "# x축 : w (기울기)\n",
    "# y축 : cost (비용)\n",
    "for i in range(-30,50):\n",
    "    w = i/10\n",
    "    c = cost(x,y,w)\n",
    "#     print(w,c)\n",
    "    plt.plot(w,c,'ro')\n",
    "plt.show()"
   ]
  },
  {
   "cell_type": "code",
   "execution_count": 11,
   "metadata": {},
   "outputs": [],
   "source": [
    "# 미분 : 순간 변화량, 기울기\n",
    "#    x축으로 1만큼 움직였을 때 y축으로 움직인 거리\n",
    "\n",
    "# y = 3       ===>   y' = 0\n",
    "# y = 2x      ===>   y' = 2\n",
    "# y = x^2     ===>   y' = 2x\n",
    "# y = (x+1)^2 ===>   y' = 2(x+1)"
   ]
  },
  {
   "cell_type": "code",
   "execution_count": 23,
   "metadata": {},
   "outputs": [
    {
     "name": "stdout",
     "output_type": "stream",
     "text": [
      "weight: 1.0\n",
      "x=5 H(x): 5.0\n",
      "x=11 H(x): 11.0\n"
     ]
    }
   ],
   "source": [
    "# 경사하강법(GD)\n",
    "\n",
    "def gradient_descent(x,y,w):\n",
    "    c = 0\n",
    "    for i in range(len(x)):\n",
    "        hx = w * x[i]   # 예측함수\n",
    "        loss = (hx - y[i])*x[i]  # 비용함합수의 미분값\n",
    "        # loss  = w^2 * x[i]^2 - 2 * w*x[i]*y[i] + y[i]^2\n",
    "        #  loss' = 2*w * x[i]^2 - 2 * x[i]*y[i] = x[i](hx - y[i])\n",
    "        c += loss\n",
    "    return c/len(x)\n",
    "\n",
    "# train  : 학습\n",
    "x = [1,2,3]\n",
    "y = [1,2,3]\n",
    "# y = [3,6,7]\n",
    "\n",
    "w,old= 10,100\n",
    "for i in range(100):\n",
    "    c = cost(x,y,w)\n",
    "    grad = gradient_descent(x,y,w)\n",
    "    w -= 0.1*grad  # learning rate(학습율) :0.1\n",
    "#     print(i,c,old,w,grad)\n",
    "    \n",
    "    if c >= old and abs(c - old) < 1.0e-15:\n",
    "        break\n",
    "    old = c\n",
    "    \n",
    "print('weight:',w) # weight: 1.0\n",
    "\n",
    "# predict\n",
    "x = 5\n",
    "hx = w*x\n",
    "print('x=5 H(x):',hx)\n",
    "print('x=11 H(x):',w*11)\n",
    "        "
   ]
  },
  {
   "cell_type": "markdown",
   "metadata": {},
   "source": [
    "### 퍼셉트론 : 다수의 신호를 입력받아서 하나의 신호로 출력\n"
   ]
  },
  {
   "cell_type": "code",
   "execution_count": 25,
   "metadata": {},
   "outputs": [
    {
     "name": "stdout",
     "output_type": "stream",
     "text": [
      "0\n",
      "0\n",
      "0\n",
      "1\n"
     ]
    }
   ],
   "source": [
    "def AND(x1,x2):\n",
    "    w1,w2,theta = 0.5,0.5,0.7\n",
    "    tmp = w1*x1 + w2*x2\n",
    "    if tmp <= theta: # 임계값\n",
    "        return 0\n",
    "    elif tmp > theta:\n",
    "        return 1\n",
    "print(AND(0,0))\n",
    "print(AND(0,1))\n",
    "print(AND(1,0))\n",
    "print(AND(1,1))\n",
    "\n",
    "# XOR Problem :  학습해서 해결 불가능하다"
   ]
  },
  {
   "cell_type": "markdown",
   "metadata": {},
   "source": [
    "### Boston 주택가격 예측\n",
    "#### scikit-learn 사용"
   ]
  },
  {
   "cell_type": "code",
   "execution_count": 71,
   "metadata": {},
   "outputs": [
    {
     "name": "stdout",
     "output_type": "stream",
     "text": [
      "         CRIM    ZN  INDUS    NOX     RM   AGE     DIS  TAX  PTRATIO  MEDV\n",
      "0     2.30040   0.0  19.58  0.605  6.319  96.1  2.1000  403     14.7  23.8\n",
      "1    13.35980   0.0  18.10  0.693  5.887  94.7  1.7821  666     20.2  12.7\n",
      "2     0.12744   0.0   6.91  0.448  6.770   2.9  5.7209  233     17.9  26.6\n",
      "3     0.15876   0.0  10.81  0.413  5.961  17.5  5.2873  305     19.2  21.7\n",
      "4     0.03768  80.0   1.52  0.404  7.274  38.3  7.3090  329     12.6  34.6\n",
      "..        ...   ...    ...    ...    ...   ...     ...  ...      ...   ...\n",
      "395   0.23912   0.0   9.69  0.585  6.019  65.3  2.4091  391     19.2  21.2\n",
      "396   0.04560   0.0  13.89  0.550  5.888  56.0  3.1121  276     16.4  23.3\n",
      "397   1.38799   0.0   8.14  0.538  5.950  82.0  3.9900  307     21.0  13.2\n",
      "398   7.36711   0.0  18.10  0.679  6.193  78.1  1.9356  666     20.2  11.0\n",
      "399   0.14150   0.0   6.91  0.448  6.169   6.6  5.7209  233     17.9  25.3\n",
      "\n",
      "[400 rows x 10 columns]\n"
     ]
    },
    {
     "data": {
      "image/png": "[encoded data removed]",
      "text/plain": [
       "<Figure size 432x288 with 1 Axes>"
      ]
     },
     "metadata": {
      "needs_background": "light"
     },
     "output_type": "display_data"
    }
   ],
   "source": [
    "import numpy as np\n",
    "import pandas as pd\n",
    "\n",
    "# Boston 주택가격 데이터셋을 가져오기\n",
    "# from sklearn.datasets import load_boston\n",
    "# boston = load_boston()\n",
    "# print(type(boston.data))\n",
    "# print(boston.DESCR) # 정보를 출력\n",
    "\n",
    "df = pd.read_csv('boston_train.csv')\n",
    "import matplotlib.pyplot as plt\n",
    "# plt.scatter(boston.data[:,5],boston.target,color='r',s=10)\n",
    "plt.scatter(df['RM'],df['MEDV'],color='r',s=10)\n",
    "print(df)\n",
    "plt.show()   # X: 'RM'  , Y : 'MEDV'\n",
    "# print(boston.data)"
   ]
  },
  {
   "cell_type": "code",
   "execution_count": 65,
   "metadata": {},
   "outputs": [
    {
     "data": {
      "image/png": "[encoded data removed]",
      "text/plain": [
       "<Figure size 432x288 with 1 Axes>"
      ]
     },
     "metadata": {
      "needs_background": "light"
     },
     "output_type": "display_data"
    }
   ],
   "source": [
    "# 1 차원 회귀 모형의 예측\n",
    "\n",
    "from sklearn.linear_model import LinearRegression\n",
    "\n",
    "lr = LinearRegression()\n",
    "\n",
    "x = df['RM'].values.reshape(-1,1) # 2차원, (n,1)\n",
    "y = df['MEDV'].values.reshape(-1,1)\n",
    "\n",
    "# x = boston.data[:,5]\n",
    "# x_1 = np.atleast_2d(x)  # 2차원 (1,n)\n",
    "# x_2 = np.transpose(x_1) # (n,1)\n",
    "\n",
    "lr.fit(x,y)  # 회귀 모형을 생성, 학습\n",
    "\n",
    "# 예측\n",
    "y_predicted = lr.predict(x)\n",
    "plt.scatter(x,y,color='r')\n",
    "plt.plot(x,y_predicted)\n",
    "plt.show()\n"
   ]
  },
  {
   "cell_type": "code",
   "execution_count": 70,
   "metadata": {},
   "outputs": [
    {
     "name": "stdout",
     "output_type": "stream",
     "text": [
      "RMSE: 6.964958263761021\n",
      "r2_score: 0.46928062004385107\n"
     ]
    }
   ],
   "source": [
    "# 적합도 측정\n",
    "# RMSE(Root Mean Squared Error) ,평균 제곱근 오차\n",
    "\n",
    "from sklearn.metrics import mean_squared_error\n",
    "mse = mean_squared_error(y,lr.predict(x))\n",
    "rmse = np.sqrt(mse)\n",
    "print('RMSE:',rmse)\n",
    "\n",
    "from sklearn.metrics import r2_score\n",
    "r2 = r2_score(y,lr.predict(x))\n",
    "print('r2_score:',r2)"
   ]
  },
  {
   "cell_type": "code",
   "execution_count": 89,
   "metadata": {},
   "outputs": [
    {
     "data": {
      "image/png": "[encoded data removed]",
      "text/plain": [
       "<Figure size 432x288 with 1 Axes>"
      ]
     },
     "metadata": {
      "needs_background": "light"
     },
     "output_type": "display_data"
    },
    {
     "name": "stdout",
     "output_type": "stream",
     "text": [
      "RMSE: 5.753475905312981\n",
      "r2_score: 0.6378499850549992\n",
      "RMSE: 4.168349275328514\n"
     ]
    }
   ],
   "source": [
    "# 다차원 회귀\n",
    "\n",
    "x = df.iloc[:,:-1]    # (400, 9)\n",
    "y = df['MEDV'].values.reshape(-1,1)  # (400, 1)\n",
    "lr.fit(x,y)  # 회귀 모형을 생성, 학습\n",
    "\n",
    "y_predict = lr.predict(x) # 예측\n",
    "# print(x,y_predict)\n",
    "\n",
    "plt.scatter(y_predict,y,s=10)\n",
    "plt.xlabel('Predicted Price')\n",
    "plt.ylabel('Actual Price')\n",
    "plt.show()\n",
    "\n",
    "mse = mean_squared_error(y,lr.predict(x))\n",
    "rmse = np.sqrt(mse)\n",
    "print('RMSE:',rmse)  # RMSE: 5.753475905312981\n",
    "\n",
    "r2 = r2_score(y,lr.predict(x))\n",
    "print('r2_score:',r2)\n",
    "\n",
    "\n",
    "# test 데이터 셋을 사용한 예측\n",
    "test = pd.read_csv('boston_test.csv')\n",
    "x_test = test.iloc[:,:-1]    # (400, 9)\n",
    "y_test = test['MEDV'].values.reshape(-1,1)  # (400, 1)\n",
    "\n",
    "y_test_predict = lr.predict(x_test) # 예측\n",
    "mse = mean_squared_error(y_test,y_test_predict)\n",
    "rmse = np.sqrt(mse)\n",
    "print('RMSE:',rmse)  # RMSE: 4.168349275328514"
   ]
  },
  {
   "cell_type": "code",
   "execution_count": null,
   "metadata": {},
   "outputs": [],
   "source": []
  }
 ],
 "metadata": {
  "kernelspec": {
   "display_name": "Python 3",
   "language": "python",
   "name": "python3"
  },
  "language_info": {
   "codemirror_mode": {
    "name": "ipython",
    "version": 3
   },
   "file_extension": ".py",
   "mimetype": "text/x-python",
   "name": "python",
   "nbconvert_exporter": "python",
   "pygments_lexer": "ipython3",
   "version": "3.7.4"
  }
 },
 "nbformat": 4,
 "nbformat_minor": 2
}
