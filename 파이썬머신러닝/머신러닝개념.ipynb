{
 "cells": [
  {
   "cell_type": "markdown",
   "metadata": {},
   "source": [
    "### 머신러닝 개념 \n",
    "#### 선형회귀(Linear Regression) : 1차 함수, 직선의 방정식\n",
    "- 가중치(Weight) : 입력변수가 출력에 영향을 미치는 정도를 설정\n",
    "- 편향(Bias) : 기본 출력값이 활성화되는 정도를 설정\n",
    "\n",
    "#### 비용함수(Cost Function)\n",
    "- cost(비용) = 오차 = 에러 = 손실(loss)\n",
    "- cost(W,b) = (H(x) - y)^2\n",
    "\n",
    "#### 예측(가설 ,Hypothesis) 함수\n",
    "- H(x) = WX + b\n",
    "   \n",
    "#### 경사하강법(Gradient Descent Alogorithm)\n",
    "- 비용이 가장 작은 기울기값을 구하는 알고리즘"
   ]
  },
  {
   "cell_type": "code",
   "execution_count": 6,
   "metadata": {},
   "outputs": [
    {
     "name": "stdout",
     "output_type": "stream",
     "text": [
      "18.666666666666668\n",
      "4.666666666666667\n",
      "0.0\n",
      "4.666666666666667\n",
      "18.666666666666668\n"
     ]
    },
    {
     "data": {
      "text/plain": [
       "<Figure size 640x480 with 1 Axes>"
      ]
     },
     "metadata": {},
     "output_type": "display_data"
    }
   ],
   "source": [
    "# 비용함수 구현\n",
    "def cost(x,y,w) :\n",
    "    c = 0\n",
    "    for i in range(len(x)):\n",
    "        hx = w * x[i]\n",
    "        loss = (hx - y[i])**2\n",
    "        c += loss        \n",
    "    return c/(len(x))\n",
    "\n",
    "x = [1,2,3]\n",
    "y = [1,2,3]\n",
    "# y = [2,4,6]\n",
    "# y = [1,3,5]\n",
    "print(cost(x,y,-1))\n",
    "print(cost(x,y,0))\n",
    "print(cost(x,y,1))        \n",
    "print(cost(x,y,2))  \n",
    "print(cost(x,y,3))  \n",
    "\n",
    "import matplotlib.pyplot as plt\n",
    "# 비용함수의 그래프 출력\n",
    "# x축 : w (기울기)\n",
    "# y축 : cost (비용)\n",
    "for i in range(-30,50):\n",
    "    w = i/10\n",
    "    c = cost(x,y,w)\n",
    "#     print(w,c)\n",
    "    plt.plot(w,c,'ro')\n",
    "plt.show()"
   ]
  },
  {
   "cell_type": "code",
   "execution_count": 7,
   "metadata": {},
   "outputs": [],
   "source": [
    "# 미분 : 순간 변화량, 기울기\n",
    "#    x축으로 1만큼 움직였을 때 y축으로 움직인 거리\n",
    "\n",
    "# y = 3       ===>   y' = 0\n",
    "# y = 2x      ===>   y' = 2\n",
    "# y = x^2     ===>   y' = 2x\n",
    "# y = (x+1)^2 ===>   y' = 2(x+1)"
   ]
  },
  {
   "cell_type": "code",
   "execution_count": 23,
   "metadata": {},
   "outputs": [
    {
     "name": "stdout",
     "output_type": "stream",
     "text": [
      "weight: 1.0\n",
      "x=5 H(x): 5.0\n",
      "x=11 H(x): 11.0\n"
     ]
    }
   ],
   "source": [
    "# 경사하강법(GD)\n",
    "\n",
    "def gradient_descent(x,y,w):\n",
    "    c = 0\n",
    "    for i in range(len(x)):\n",
    "        hx = w * x[i]   # 예측함수\n",
    "        loss = (hx - y[i])*x[i]  # 비용함합수의 미분값\n",
    "        # loss  = w^2 * x[i]^2 - 2 * w*x[i]*y[i] + y[i]^2\n",
    "        #  loss' = 2*w * x[i]^2 - 2 * x[i]*y[i] = x[i](hx - y[i])\n",
    "        c += loss\n",
    "    return c/len(x)\n",
    "\n",
    "# train  : 학습\n",
    "x = [1,2,3]\n",
    "y = [1,2,3]\n",
    "# y = [3,6,7]\n",
    "\n",
    "w,old= 10,100\n",
    "for i in range(100):\n",
    "    c = cost(x,y,w)\n",
    "    grad = gradient_descent(x,y,w)\n",
    "    w -= 0.1*grad  # learning rate(학습율) :0.1\n",
    "#     print(i,c,old,w,grad)\n",
    "    \n",
    "    if c >= old and abs(c - old) < 1.0e-15:\n",
    "        break\n",
    "    old = c\n",
    "    \n",
    "print('weight:',w) # weight: 1.0\n",
    "\n",
    "# predict\n",
    "x = 5\n",
    "hx = w*x\n",
    "print('x=5 H(x):',hx)\n",
    "print('x=11 H(x):',w*11)\n",
    "        "
   ]
  },
  {
   "cell_type": "markdown",
   "metadata": {},
   "source": [
    "### 퍼셉트론 : 다수의 신호를 입력받아서 하나의 신호로 출력\n"
   ]
  },
  {
   "cell_type": "code",
   "execution_count": 25,
   "metadata": {},
   "outputs": [
    {
     "name": "stdout",
     "output_type": "stream",
     "text": [
      "0\n",
      "0\n",
      "0\n",
      "1\n"
     ]
    }
   ],
   "source": [
    "def AND(x1,x2):\n",
    "    w1,w2,theta = 0.5,0.5,0.7\n",
    "    tmp = w1*x1 + w2*x2\n",
    "    if tmp <= theta: # 임계값\n",
    "        return 0\n",
    "    elif tmp > theta:\n",
    "        return 1\n",
    "print(AND(0,0))\n",
    "print(AND(0,1))\n",
    "print(AND(1,0))\n",
    "print(AND(1,1))\n",
    "\n",
    "# XOR Problem :  학습해서 해결 불가능하다"
   ]
  },
  {
   "cell_type": "markdown",
   "metadata": {},
   "source": [
    "### Boston 주택가격 예측\n",
    "#### scikit-learn 사용"
   ]
  },
  {
   "cell_type": "code",
   "execution_count": 71,
   "metadata": {},
   "outputs": [
    {
     "name": "stdout",
     "output_type": "stream",
     "text": [
      "         CRIM    ZN  INDUS    NOX     RM   AGE     DIS  TAX  PTRATIO  MEDV\n",
      "0     2.30040   0.0  19.58  0.605  6.319  96.1  2.1000  403     14.7  23.8\n",
      "1    13.35980   0.0  18.10  0.693  5.887  94.7  1.7821  666     20.2  12.7\n",
      "2     0.12744   0.0   6.91  0.448  6.770   2.9  5.7209  233     17.9  26.6\n",
      "3     0.15876   0.0  10.81  0.413  5.961  17.5  5.2873  305     19.2  21.7\n",
      "4     0.03768  80.0   1.52  0.404  7.274  38.3  7.3090  329     12.6  34.6\n",
      "..        ...   ...    ...    ...    ...   ...     ...  ...      ...   ...\n",
      "395   0.23912   0.0   9.69  0.585  6.019  65.3  2.4091  391     19.2  21.2\n",
      "396   0.04560   0.0  13.89  0.550  5.888  56.0  3.1121  276     16.4  23.3\n",
      "397   1.38799   0.0   8.14  0.538  5.950  82.0  3.9900  307     21.0  13.2\n",
      "398   7.36711   0.0  18.10  0.679  6.193  78.1  1.9356  666     20.2  11.0\n",
      "399   0.14150   0.0   6.91  0.448  6.169   6.6  5.7209  233     17.9  25.3\n",
      "\n",
      "[400 rows x 10 columns]\n"
     ]
    },
    {
     "data": {
      "image/png": "[encoded data removed]",
      "text/plain": [
       "<Figure size 432x288 with 1 Axes>"
      ]
     },
     "metadata": {
      "needs_background": "light"
     },
     "output_type": "display_data"
    }
   ],
   "source": [
    "import numpy as np\n",
    "import pandas as pd\n",
    "\n",
    "# Boston 주택가격 데이터셋을 가져오기\n",
    "# from sklearn.datasets import load_boston\n",
    "# boston = load_boston()\n",
    "# print(type(boston.data))\n",
    "# print(boston.DESCR) # 정보를 출력\n",
    "\n",
    "df = pd.read_csv('boston_train.csv')\n",
    "import matplotlib.pyplot as plt\n",
    "# plt.scatter(boston.data[:,5],boston.target,color='r',s=10)\n",
    "plt.scatter(df['RM'],df['MEDV'],color='r',s=10)\n",
    "print(df)\n",
    "plt.show()   # X: 'RM'  , Y : 'MEDV'\n",
    "# print(boston.data)"
   ]
  },
  {
   "cell_type": "code",
   "execution_count": 65,
   "metadata": {},
   "outputs": [
    {
     "data": {
      "image/png": "[encoded data removed]",
      "text/plain": [
       "<Figure size 432x288 with 1 Axes>"
      ]
     },
     "metadata": {
      "needs_background": "light"
     },
     "output_type": "display_data"
    }
   ],
   "source": [
    "# 1 차원 회귀 모형의 예측\n",
    "\n",
    "from sklearn.linear_model import LinearRegression\n",
    "\n",
    "lr = LinearRegression()\n",
    "\n",
    "x = df['RM'].values.reshape(-1,1) # 2차원, (n,1)\n",
    "y = df['MEDV'].values.reshape(-1,1)\n",
    "\n",
    "# x = boston.data[:,5]\n",
    "# x_1 = np.atleast_2d(x)  # 2차원 (1,n)\n",
    "# x_2 = np.transpose(x_1) # (n,1)\n",
    "\n",
    "lr.fit(x,y)  # 회귀 모형을 생성, 학습\n",
    "\n",
    "# 예측\n",
    "y_predicted = lr.predict(x)\n",
    "plt.scatter(x,y,color='r')\n",
    "plt.plot(x,y_predicted)\n",
    "plt.show()\n"
   ]
  },
  {
   "cell_type": "code",
   "execution_count": 70,
   "metadata": {},
   "outputs": [
    {
     "name": "stdout",
     "output_type": "stream",
     "text": [
      "RMSE: 6.964958263761021\n",
      "r2_score: 0.46928062004385107\n"
     ]
    }
   ],
   "source": [
    "# 적합도 측정\n",
    "# RMSE(Root Mean Squared Error) ,평균 제곱근 오차\n",
    "\n",
    "from sklearn.metrics import mean_squared_error\n",
    "mse = mean_squared_error(y,lr.predict(x))\n",
    "rmse = np.sqrt(mse)\n",
    "print('RMSE:',rmse)\n",
    "\n",
    "from sklearn.metrics import r2_score\n",
    "r2 = r2_score(y,lr.predict(x))\n",
    "print('r2_score:',r2)"
   ]
  },
  {
   "cell_type": "code",
   "execution_count": 89,
   "metadata": {},
   "outputs": [
    {
     "data": {
      "image/png": "[encoded data removed]",
      "text/plain": [
       "<Figure size 432x288 with 1 Axes>"
      ]
     },
     "metadata": {
      "needs_background": "light"
     },
     "output_type": "display_data"
    },
    {
     "name": "stdout",
     "output_type": "stream",
     "text": [
      "RMSE: 5.753475905312981\n",
      "r2_score: 0.6378499850549992\n",
      "RMSE: 4.168349275328514\n"
     ]
    }
   ],
   "source": [
    "# 다차원 회귀\n",
    "\n",
    "x = df.iloc[:,:-1]    # (400, 9)\n",
    "y = df['MEDV'].values.reshape(-1,1)  # (400, 1)\n",
    "lr.fit(x,y)  # 회귀 모형을 생성, 학습\n",
    "\n",
    "y_predict = lr.predict(x) # 예측\n",
    "# print(x,y_predict)\n",
    "\n",
    "plt.scatter(y_predict,y,s=10)\n",
    "plt.xlabel('Predicted Price')\n",
    "plt.ylabel('Actual Price')\n",
    "plt.show()\n",
    "\n",
    "mse = mean_squared_error(y,lr.predict(x))\n",
    "rmse = np.sqrt(mse)\n",
    "print('RMSE:',rmse)  # RMSE: 5.753475905312981\n",
    "\n",
    "r2 = r2_score(y,lr.predict(x))\n",
    "print('r2_score:',r2)\n",
    "\n",
    "\n",
    "# test 데이터 셋을 사용한 예측\n",
    "test = pd.read_csv('boston_test.csv')\n",
    "x_test = test.iloc[:,:-1]    # (400, 9)\n",
    "y_test = test['MEDV'].values.reshape(-1,1)  # (400, 1)\n",
    "\n",
    "y_test_predict = lr.predict(x_test) # 예측\n",
    "mse = mean_squared_error(y_test,y_test_predict)\n",
    "rmse = np.sqrt(mse)\n",
    "print('RMSE:',rmse)  # RMSE: 4.168349275328514"
   ]
  },
  {
   "cell_type": "markdown",
   "metadata": {},
   "source": [
    "### 랜덤포리스트(RandomForest)\n",
    "\n",
    "-   의사 결정트리(Decision Tree) 기반 분류 알고리즘\n",
    "-   Ensemble, Bagging(결정트리를 여러개 사용)\n",
    "\n",
    "##### 앙상블(Ensemble)\n",
    " - (1) Bagging : 같은 유형의 알고리즘을 결합\n",
    " \n",
    " - (2) Voting : 서로 다른 알고리즘을 가진 분류기를 결합"
   ]
  },
  {
   "cell_type": "code",
   "execution_count": 102,
   "metadata": {},
   "outputs": [
    {
     "name": "stdout",
     "output_type": "stream",
     "text": [
      "6093\n",
      "2031\n",
      "6093\n",
      "2031\n",
      "정답률: 1.0\n",
      "리포트:\n",
      "               precision    recall  f1-score   support\n",
      "\n",
      "           e       1.00      1.00      1.00      1038\n",
      "           p       1.00      1.00      1.00       993\n",
      "\n",
      "    accuracy                           1.00      2031\n",
      "   macro avg       1.00      1.00      1.00      2031\n",
      "weighted avg       1.00      1.00      1.00      2031\n",
      "\n"
     ]
    }
   ],
   "source": [
    "# RandomForestClassifier 예제\n",
    "import pandas as pd\n",
    "from sklearn.ensemble import RandomForestClassifier\n",
    "from sklearn import metrics\n",
    "from sklearn.model_selection import train_test_split\n",
    "import numpy as np\n",
    "\n",
    "# 데이터 읽어오기\n",
    "mr = pd.read_csv('mushroom.csv',header=None)\n",
    "mr\n",
    "\n",
    "# label = []\n",
    "# data = []\n",
    "label = mr.iloc[:,0]    # target, Y값(답) , (p)oisonous, (e)dible\n",
    "type(label)\n",
    "data = mr.iloc[:,1:]    # X값 22개의 feature   (8124, 22)\n",
    "type(data)\n",
    "\n",
    "# 데이터 내부의 기호를 숫자로 변환하기\n",
    "label = []   # Y\n",
    "data = []    # X\n",
    "attr_list = []\n",
    "for row_index,row in mr.iterrows():\n",
    "#     label.append(row.ix[0]) \n",
    "    label.append(row.iloc[0]) \n",
    "    row_data = []\n",
    "#    for v in row.ix[1:]:\n",
    "    for v in row.iloc[1:]:        \n",
    "        row_data.append(ord(v))\n",
    "    data.append(row_data)\n",
    "# print(label)\n",
    "# print(data)\n",
    "\n",
    "# train(학습) 전용과 test(예측) 전용 데이터로 나누기\n",
    "data_train,data_test,label_train,label_test = \\\n",
    "    train_test_split(data,label)\n",
    "print(len(data_train))  # 6093       75%\n",
    "print(len(data_test))   # 2031       25%\n",
    "print(len(label_train))\n",
    "print(len(label_test))\n",
    "\n",
    "# 학습 시키기\n",
    "# 답이 2가지 이므로 binary classification\n",
    "clf = RandomForestClassifier(n_estimators=100)  # 결정트리의 갯수=100\n",
    "clf.fit(data_train,label_train)\n",
    "\n",
    "# 데이터 예측하기\n",
    "predict = clf.predict(data_test)\n",
    "# print(predict)\n",
    "# print(label_test)\n",
    "ac_score = metrics.accuracy_score(label_test,predict)\n",
    "print('정답률:',ac_score)  # 1.0  100% 정확도\n",
    "cl_report = metrics.classification_report(label_test,predict)\n",
    "print('리포트:\\n',cl_report)"
   ]
  },
  {
   "cell_type": "code",
   "execution_count": 105,
   "metadata": {},
   "outputs": [
    {
     "data": {
      "text/plain": [
       "0"
      ]
     },
     "execution_count": 105,
     "metadata": {},
     "output_type": "execute_result"
    }
   ],
   "source": [
    "ord('a') - 97\n"
   ]
  },
  {
   "cell_type": "markdown",
   "metadata": {},
   "source": [
    "### PCA(Principal Component Analysis) : 주성분 분석\n",
    "- 차원 축소 알고리즘, 비지도 학습\n",
    "- 이미지 데이터의 차원 축소, 자연언어 텍스트 의미 분석\n",
    "\n",
    "- 과적합을 방지할수 있다\n",
    "\n",
    "#### 비지도 학습 : 차원축소, 군집화"
   ]
  },
  {
   "cell_type": "code",
   "execution_count": 47,
   "metadata": {},
   "outputs": [
    {
     "data": {
      "text/html": [
       "<div>\n",
       "<style scoped>\n",
       "    .dataframe tbody tr th:only-of-type {\n",
       "        vertical-align: middle;\n",
       "    }\n",
       "\n",
       "    .dataframe tbody tr th {\n",
       "        vertical-align: top;\n",
       "    }\n",
       "\n",
       "    .dataframe thead th {\n",
       "        text-align: right;\n",
       "    }\n",
       "</style>\n",
       "<table border=\"1\" class=\"dataframe\">\n",
       "  <thead>\n",
       "    <tr style=\"text-align: right;\">\n",
       "      <th></th>\n",
       "      <th>sepal_length</th>\n",
       "      <th>sepal_width</th>\n",
       "      <th>petal_length</th>\n",
       "      <th>petal_width</th>\n",
       "      <th>target</th>\n",
       "    </tr>\n",
       "  </thead>\n",
       "  <tbody>\n",
       "    <tr>\n",
       "      <td>0</td>\n",
       "      <td>5.1</td>\n",
       "      <td>3.5</td>\n",
       "      <td>1.4</td>\n",
       "      <td>0.2</td>\n",
       "      <td>0</td>\n",
       "    </tr>\n",
       "    <tr>\n",
       "      <td>1</td>\n",
       "      <td>4.9</td>\n",
       "      <td>3.0</td>\n",
       "      <td>1.4</td>\n",
       "      <td>0.2</td>\n",
       "      <td>0</td>\n",
       "    </tr>\n",
       "    <tr>\n",
       "      <td>2</td>\n",
       "      <td>4.7</td>\n",
       "      <td>3.2</td>\n",
       "      <td>1.3</td>\n",
       "      <td>0.2</td>\n",
       "      <td>0</td>\n",
       "    </tr>\n",
       "    <tr>\n",
       "      <td>3</td>\n",
       "      <td>4.6</td>\n",
       "      <td>3.1</td>\n",
       "      <td>1.5</td>\n",
       "      <td>0.2</td>\n",
       "      <td>0</td>\n",
       "    </tr>\n",
       "    <tr>\n",
       "      <td>4</td>\n",
       "      <td>5.0</td>\n",
       "      <td>3.6</td>\n",
       "      <td>1.4</td>\n",
       "      <td>0.2</td>\n",
       "      <td>0</td>\n",
       "    </tr>\n",
       "    <tr>\n",
       "      <td>...</td>\n",
       "      <td>...</td>\n",
       "      <td>...</td>\n",
       "      <td>...</td>\n",
       "      <td>...</td>\n",
       "      <td>...</td>\n",
       "    </tr>\n",
       "    <tr>\n",
       "      <td>145</td>\n",
       "      <td>6.7</td>\n",
       "      <td>3.0</td>\n",
       "      <td>5.2</td>\n",
       "      <td>2.3</td>\n",
       "      <td>2</td>\n",
       "    </tr>\n",
       "    <tr>\n",
       "      <td>146</td>\n",
       "      <td>6.3</td>\n",
       "      <td>2.5</td>\n",
       "      <td>5.0</td>\n",
       "      <td>1.9</td>\n",
       "      <td>2</td>\n",
       "    </tr>\n",
       "    <tr>\n",
       "      <td>147</td>\n",
       "      <td>6.5</td>\n",
       "      <td>3.0</td>\n",
       "      <td>5.2</td>\n",
       "      <td>2.0</td>\n",
       "      <td>2</td>\n",
       "    </tr>\n",
       "    <tr>\n",
       "      <td>148</td>\n",
       "      <td>6.2</td>\n",
       "      <td>3.4</td>\n",
       "      <td>5.4</td>\n",
       "      <td>2.3</td>\n",
       "      <td>2</td>\n",
       "    </tr>\n",
       "    <tr>\n",
       "      <td>149</td>\n",
       "      <td>5.9</td>\n",
       "      <td>3.0</td>\n",
       "      <td>5.1</td>\n",
       "      <td>1.8</td>\n",
       "      <td>2</td>\n",
       "    </tr>\n",
       "  </tbody>\n",
       "</table>\n",
       "<p>150 rows × 5 columns</p>\n",
       "</div>"
      ],
      "text/plain": [
       "     sepal_length  sepal_width  petal_length  petal_width  target\n",
       "0             5.1          3.5           1.4          0.2       0\n",
       "1             4.9          3.0           1.4          0.2       0\n",
       "2             4.7          3.2           1.3          0.2       0\n",
       "3             4.6          3.1           1.5          0.2       0\n",
       "4             5.0          3.6           1.4          0.2       0\n",
       "..            ...          ...           ...          ...     ...\n",
       "145           6.7          3.0           5.2          2.3       2\n",
       "146           6.3          2.5           5.0          1.9       2\n",
       "147           6.5          3.0           5.2          2.0       2\n",
       "148           6.2          3.4           5.4          2.3       2\n",
       "149           5.9          3.0           5.1          1.8       2\n",
       "\n",
       "[150 rows x 5 columns]"
      ]
     },
     "execution_count": 47,
     "metadata": {},
     "output_type": "execute_result"
    }
   ],
   "source": [
    "# PCA 예제\n",
    "\n",
    "from sklearn.datasets import load_iris\n",
    "import pandas as df\n",
    "import matplotlib.pyplot as plt\n",
    "%matplotlib inline\n",
    "\n",
    "# iris 데이터를 가져오기\n",
    "iris = load_iris()\n",
    "type(iris)  # sklearn.utils.Bunch ==> numpy array의 묶음\n",
    "type(iris.data)    # X     numpy array\n",
    "type(iris.target)  # Y     numpy array \n",
    "# numpy array를 DataFrame으로 변환\n",
    "# sepal : 꽃받침    \n",
    "# petal : 꽃잎\n",
    "iris_df = pd.DataFrame(iris.data,columns=iris.feature_names)\n",
    "iris_df  # 원본 컬럼 이름을 출력\n",
    "\n",
    "# 컬럼 이름을 새로 만들어서 데이터 프레임을 생성\n",
    "columns = ['sepal_length','sepal_width','petal_length','petal_width']\n",
    "iris_df = pd.DataFrame(iris.data,columns=columns)\n",
    "\n",
    "# target 은 'setosa' : 0,  'versicolor' : 1   ,'virginica':2\n",
    "# 답이 3개 이상인 multi-classification \n",
    "iris_df['target'] = iris.target\n",
    "iris_df  # (150, 5)"
   ]
  },
  {
   "cell_type": "code",
   "execution_count": 48,
   "metadata": {},
   "outputs": [
    {
     "data": {
      "image/png": "[encoded data removed]",
      "text/plain": [
       "<Figure size 432x288 with 1 Axes>"
      ]
     },
     "metadata": {
      "needs_background": "light"
     },
     "output_type": "display_data"
    }
   ],
   "source": [
    "# 원본 데이터의 시각화\n",
    "# 'setosa' : 세모,  'versicolor' : 네모   ,'virginica': 동그라미\n",
    "markers = ['^', 's', 'o']\n",
    "\n",
    "for i , marker in enumerate(markers):\n",
    "    x = iris_df[iris_df['target']==i]['sepal_length']\n",
    "    y = iris_df[iris_df['target']==i]['sepal_width']\n",
    "    plt.scatter(x,y,marker=marker,label=iris.target_names[i])\n",
    "plt.legend()\n",
    "plt.xlabel('sepal_length')\n",
    "plt.ylabel('sepal_width')\n",
    "plt.show()"
   ]
  },
  {
   "cell_type": "code",
   "execution_count": 56,
   "metadata": {},
   "outputs": [
    {
     "name": "stdout",
     "output_type": "stream",
     "text": [
      "(150, 2)\n"
     ]
    },
    {
     "data": {
      "text/html": [
       "<div>\n",
       "<style scoped>\n",
       "    .dataframe tbody tr th:only-of-type {\n",
       "        vertical-align: middle;\n",
       "    }\n",
       "\n",
       "    .dataframe tbody tr th {\n",
       "        vertical-align: top;\n",
       "    }\n",
       "\n",
       "    .dataframe thead th {\n",
       "        text-align: right;\n",
       "    }\n",
       "</style>\n",
       "<table border=\"1\" class=\"dataframe\">\n",
       "  <thead>\n",
       "    <tr style=\"text-align: right;\">\n",
       "      <th></th>\n",
       "      <th>pca_component_1</th>\n",
       "      <th>pca_component_2</th>\n",
       "      <th>target</th>\n",
       "    </tr>\n",
       "  </thead>\n",
       "  <tbody>\n",
       "    <tr>\n",
       "      <td>0</td>\n",
       "      <td>-2.576120</td>\n",
       "      <td>0.474499</td>\n",
       "      <td>0</td>\n",
       "    </tr>\n",
       "    <tr>\n",
       "      <td>1</td>\n",
       "      <td>-2.415322</td>\n",
       "      <td>-0.678092</td>\n",
       "      <td>0</td>\n",
       "    </tr>\n",
       "    <tr>\n",
       "      <td>2</td>\n",
       "      <td>-2.659333</td>\n",
       "      <td>-0.348282</td>\n",
       "      <td>0</td>\n",
       "    </tr>\n",
       "    <tr>\n",
       "      <td>3</td>\n",
       "      <td>-2.601991</td>\n",
       "      <td>-0.603306</td>\n",
       "      <td>0</td>\n",
       "    </tr>\n",
       "    <tr>\n",
       "      <td>4</td>\n",
       "      <td>-2.683744</td>\n",
       "      <td>0.640220</td>\n",
       "      <td>0</td>\n",
       "    </tr>\n",
       "    <tr>\n",
       "      <td>...</td>\n",
       "      <td>...</td>\n",
       "      <td>...</td>\n",
       "      <td>...</td>\n",
       "    </tr>\n",
       "    <tr>\n",
       "      <td>145</td>\n",
       "      <td>2.233024</td>\n",
       "      <td>0.389352</td>\n",
       "      <td>2</td>\n",
       "    </tr>\n",
       "    <tr>\n",
       "      <td>146</td>\n",
       "      <td>1.966862</td>\n",
       "      <td>-0.896264</td>\n",
       "      <td>2</td>\n",
       "    </tr>\n",
       "    <tr>\n",
       "      <td>147</td>\n",
       "      <td>1.928996</td>\n",
       "      <td>0.268890</td>\n",
       "      <td>2</td>\n",
       "    </tr>\n",
       "    <tr>\n",
       "      <td>148</td>\n",
       "      <td>1.806149</td>\n",
       "      <td>1.009217</td>\n",
       "      <td>2</td>\n",
       "    </tr>\n",
       "    <tr>\n",
       "      <td>149</td>\n",
       "      <td>1.446001</td>\n",
       "      <td>-0.029041</td>\n",
       "      <td>2</td>\n",
       "    </tr>\n",
       "  </tbody>\n",
       "</table>\n",
       "<p>150 rows × 3 columns</p>\n",
       "</div>"
      ],
      "text/plain": [
       "     pca_component_1  pca_component_2  target\n",
       "0          -2.576120         0.474499       0\n",
       "1          -2.415322        -0.678092       0\n",
       "2          -2.659333        -0.348282       0\n",
       "3          -2.601991        -0.603306       0\n",
       "4          -2.683744         0.640220       0\n",
       "..               ...              ...     ...\n",
       "145         2.233024         0.389352       2\n",
       "146         1.966862        -0.896264       2\n",
       "147         1.928996         0.268890       2\n",
       "148         1.806149         1.009217       2\n",
       "149         1.446001        -0.029041       2\n",
       "\n",
       "[150 rows x 3 columns]"
      ]
     },
     "execution_count": 56,
     "metadata": {},
     "output_type": "execute_result"
    }
   ],
   "source": [
    "# 데이터를 표준화하여 정규분포로 전처리\n",
    "from sklearn.preprocessing import StandardScaler\n",
    "iris_scaled = StandardScaler().fit_transform(iris_df)\n",
    "# iris_scaled\n",
    "\n",
    "# PCA 변환\n",
    "from sklearn.decomposition import PCA\n",
    "\n",
    "pca = PCA(n_components=2)  # 축소될 차원 설정: 2차원\n",
    "pca.fit(iris_scaled)\n",
    "iris_pca = pca.transform(iris_scaled)\n",
    "print(iris_pca.shape)  #  (150,2)\n",
    "\n",
    "# PCA 변환 데이터를 target을 추가하여 데이터 프레임으로 변경\n",
    "pca_columns = ['pca_component_1','pca_component_2']\n",
    "iris_df_pca = pd.DataFrame(iris_pca,columns=pca_columns)\n",
    "iris_df_pca['target'] = iris.target\n",
    "iris_df_pca"
   ]
  },
  {
   "cell_type": "code",
   "execution_count": 57,
   "metadata": {},
   "outputs": [
    {
     "data": {
      "image/png": "[encoded data removed]",
      "text/plain": [
       "<Figure size 432x288 with 1 Axes>"
      ]
     },
     "metadata": {
      "needs_background": "light"
     },
     "output_type": "display_data"
    }
   ],
   "source": [
    "# PCA 데이터의 시각화\n",
    "# 'setosa' : 세모,  'versicolor' : 네모   ,'virginica': 동그라미\n",
    "markers = ['^', 's', 'o']\n",
    "\n",
    "for i , marker in enumerate(markers):\n",
    "    x = iris_df_pca[iris_df_pca['target']==i]['pca_component_1']\n",
    "    y = iris_df_pca[iris_df_pca['target']==i]['pca_component_2']\n",
    "    plt.scatter(x,y,marker=marker,label=iris.target_names[i])\n",
    "plt.legend()\n",
    "plt.xlabel('pca_component_1')\n",
    "plt.ylabel('pca_component_2')\n",
    "plt.show()"
   ]
  },
  {
   "cell_type": "code",
   "execution_count": 58,
   "metadata": {},
   "outputs": [
    {
     "name": "stdout",
     "output_type": "stream",
     "text": [
      "[0.76740358 0.18282727]\n"
     ]
    }
   ],
   "source": [
    "# 변동성 비율 : 76.7% + 18.2% ==> 95%\n",
    "print(pca.explained_variance_ratio_)"
   ]
  },
  {
   "cell_type": "code",
   "execution_count": 68,
   "metadata": {},
   "outputs": [
    {
     "name": "stdout",
     "output_type": "stream",
     "text": [
      "[0.98039216 0.92156863 0.95833333]\n"
     ]
    }
   ],
   "source": [
    "# RandomForestClassifier\n",
    "from sklearn.ensemble import RandomForestClassifier\n",
    "from sklearn.model_selection import cross_val_score\n",
    "\n",
    "rcf = RandomForestClassifier(random_state=156,n_estimators=100)\n",
    "\n",
    "# 원본 데이터로 교차 검증\n",
    "scores = cross_val_score(rcf,iris.data,iris.target,\n",
    "                         scoring='accuracy', cv=3)\n",
    "print(scores)\n",
    "# [0.98039216 0.92156863 0.95833333]"
   ]
  },
  {
   "cell_type": "code",
   "execution_count": 69,
   "metadata": {},
   "outputs": [
    {
     "name": "stdout",
     "output_type": "stream",
     "text": [
      "pca score: [0.98039216 0.98039216 1.        ]\n"
     ]
    }
   ],
   "source": [
    "# PCA 데이터로 교차 검증\n",
    "# pca_x = iris_df_pca[['pca_component_1','pca_component_2']]\n",
    "pca_x = iris_df_pca.iloc[:,:-1]\n",
    "scores_pca = cross_val_score(rcf,pca_x,iris.target,\n",
    "                         scoring='accuracy', cv=3)\n",
    "print('pca score:',scores_pca)\n",
    "# pca score: [0.98039216 0.98039216 1.        ]\n",
    "# 결론 PCA 변환하여 예측한 결과의 정확도가 약간 상승했다"
   ]
  },
  {
   "cell_type": "markdown",
   "metadata": {},
   "source": [
    "### 차원이 매우 많은 경우의 PCA 변환 예제"
   ]
  },
  {
   "cell_type": "code",
   "execution_count": 72,
   "metadata": {},
   "outputs": [
    {
     "data": {
      "text/html": [
       "<div>\n",
       "<style scoped>\n",
       "    .dataframe tbody tr th:only-of-type {\n",
       "        vertical-align: middle;\n",
       "    }\n",
       "\n",
       "    .dataframe tbody tr th {\n",
       "        vertical-align: top;\n",
       "    }\n",
       "\n",
       "    .dataframe thead th {\n",
       "        text-align: right;\n",
       "    }\n",
       "</style>\n",
       "<table border=\"1\" class=\"dataframe\">\n",
       "  <thead>\n",
       "    <tr style=\"text-align: right;\">\n",
       "      <th></th>\n",
       "      <th>LIMIT_BAL</th>\n",
       "      <th>SEX</th>\n",
       "      <th>EDUCATION</th>\n",
       "      <th>MARRIAGE</th>\n",
       "      <th>AGE</th>\n",
       "      <th>PAY_0</th>\n",
       "      <th>PAY_2</th>\n",
       "      <th>PAY_3</th>\n",
       "      <th>PAY_4</th>\n",
       "      <th>PAY_5</th>\n",
       "      <th>...</th>\n",
       "      <th>BILL_AMT4</th>\n",
       "      <th>BILL_AMT5</th>\n",
       "      <th>BILL_AMT6</th>\n",
       "      <th>PAY_AMT1</th>\n",
       "      <th>PAY_AMT2</th>\n",
       "      <th>PAY_AMT3</th>\n",
       "      <th>PAY_AMT4</th>\n",
       "      <th>PAY_AMT5</th>\n",
       "      <th>PAY_AMT6</th>\n",
       "      <th>default payment next month</th>\n",
       "    </tr>\n",
       "  </thead>\n",
       "  <tbody>\n",
       "    <tr>\n",
       "      <td>0</td>\n",
       "      <td>20000</td>\n",
       "      <td>2</td>\n",
       "      <td>2</td>\n",
       "      <td>1</td>\n",
       "      <td>24</td>\n",
       "      <td>2</td>\n",
       "      <td>2</td>\n",
       "      <td>-1</td>\n",
       "      <td>-1</td>\n",
       "      <td>-2</td>\n",
       "      <td>...</td>\n",
       "      <td>0</td>\n",
       "      <td>0</td>\n",
       "      <td>0</td>\n",
       "      <td>0</td>\n",
       "      <td>689</td>\n",
       "      <td>0</td>\n",
       "      <td>0</td>\n",
       "      <td>0</td>\n",
       "      <td>0</td>\n",
       "      <td>1</td>\n",
       "    </tr>\n",
       "    <tr>\n",
       "      <td>1</td>\n",
       "      <td>120000</td>\n",
       "      <td>2</td>\n",
       "      <td>2</td>\n",
       "      <td>2</td>\n",
       "      <td>26</td>\n",
       "      <td>-1</td>\n",
       "      <td>2</td>\n",
       "      <td>0</td>\n",
       "      <td>0</td>\n",
       "      <td>0</td>\n",
       "      <td>...</td>\n",
       "      <td>3272</td>\n",
       "      <td>3455</td>\n",
       "      <td>3261</td>\n",
       "      <td>0</td>\n",
       "      <td>1000</td>\n",
       "      <td>1000</td>\n",
       "      <td>1000</td>\n",
       "      <td>0</td>\n",
       "      <td>2000</td>\n",
       "      <td>1</td>\n",
       "    </tr>\n",
       "    <tr>\n",
       "      <td>2</td>\n",
       "      <td>90000</td>\n",
       "      <td>2</td>\n",
       "      <td>2</td>\n",
       "      <td>2</td>\n",
       "      <td>34</td>\n",
       "      <td>0</td>\n",
       "      <td>0</td>\n",
       "      <td>0</td>\n",
       "      <td>0</td>\n",
       "      <td>0</td>\n",
       "      <td>...</td>\n",
       "      <td>14331</td>\n",
       "      <td>14948</td>\n",
       "      <td>15549</td>\n",
       "      <td>1518</td>\n",
       "      <td>1500</td>\n",
       "      <td>1000</td>\n",
       "      <td>1000</td>\n",
       "      <td>1000</td>\n",
       "      <td>5000</td>\n",
       "      <td>0</td>\n",
       "    </tr>\n",
       "    <tr>\n",
       "      <td>3</td>\n",
       "      <td>50000</td>\n",
       "      <td>2</td>\n",
       "      <td>2</td>\n",
       "      <td>1</td>\n",
       "      <td>37</td>\n",
       "      <td>0</td>\n",
       "      <td>0</td>\n",
       "      <td>0</td>\n",
       "      <td>0</td>\n",
       "      <td>0</td>\n",
       "      <td>...</td>\n",
       "      <td>28314</td>\n",
       "      <td>28959</td>\n",
       "      <td>29547</td>\n",
       "      <td>2000</td>\n",
       "      <td>2019</td>\n",
       "      <td>1200</td>\n",
       "      <td>1100</td>\n",
       "      <td>1069</td>\n",
       "      <td>1000</td>\n",
       "      <td>0</td>\n",
       "    </tr>\n",
       "    <tr>\n",
       "      <td>4</td>\n",
       "      <td>50000</td>\n",
       "      <td>1</td>\n",
       "      <td>2</td>\n",
       "      <td>1</td>\n",
       "      <td>57</td>\n",
       "      <td>-1</td>\n",
       "      <td>0</td>\n",
       "      <td>-1</td>\n",
       "      <td>0</td>\n",
       "      <td>0</td>\n",
       "      <td>...</td>\n",
       "      <td>20940</td>\n",
       "      <td>19146</td>\n",
       "      <td>19131</td>\n",
       "      <td>2000</td>\n",
       "      <td>36681</td>\n",
       "      <td>10000</td>\n",
       "      <td>9000</td>\n",
       "      <td>689</td>\n",
       "      <td>679</td>\n",
       "      <td>0</td>\n",
       "    </tr>\n",
       "    <tr>\n",
       "      <td>5</td>\n",
       "      <td>50000</td>\n",
       "      <td>1</td>\n",
       "      <td>1</td>\n",
       "      <td>2</td>\n",
       "      <td>37</td>\n",
       "      <td>0</td>\n",
       "      <td>0</td>\n",
       "      <td>0</td>\n",
       "      <td>0</td>\n",
       "      <td>0</td>\n",
       "      <td>...</td>\n",
       "      <td>19394</td>\n",
       "      <td>19619</td>\n",
       "      <td>20024</td>\n",
       "      <td>2500</td>\n",
       "      <td>1815</td>\n",
       "      <td>657</td>\n",
       "      <td>1000</td>\n",
       "      <td>1000</td>\n",
       "      <td>800</td>\n",
       "      <td>0</td>\n",
       "    </tr>\n",
       "    <tr>\n",
       "      <td>6</td>\n",
       "      <td>500000</td>\n",
       "      <td>1</td>\n",
       "      <td>1</td>\n",
       "      <td>2</td>\n",
       "      <td>29</td>\n",
       "      <td>0</td>\n",
       "      <td>0</td>\n",
       "      <td>0</td>\n",
       "      <td>0</td>\n",
       "      <td>0</td>\n",
       "      <td>...</td>\n",
       "      <td>542653</td>\n",
       "      <td>483003</td>\n",
       "      <td>473944</td>\n",
       "      <td>55000</td>\n",
       "      <td>40000</td>\n",
       "      <td>38000</td>\n",
       "      <td>20239</td>\n",
       "      <td>13750</td>\n",
       "      <td>13770</td>\n",
       "      <td>0</td>\n",
       "    </tr>\n",
       "    <tr>\n",
       "      <td>7</td>\n",
       "      <td>100000</td>\n",
       "      <td>2</td>\n",
       "      <td>2</td>\n",
       "      <td>2</td>\n",
       "      <td>23</td>\n",
       "      <td>0</td>\n",
       "      <td>-1</td>\n",
       "      <td>-1</td>\n",
       "      <td>0</td>\n",
       "      <td>0</td>\n",
       "      <td>...</td>\n",
       "      <td>221</td>\n",
       "      <td>-159</td>\n",
       "      <td>567</td>\n",
       "      <td>380</td>\n",
       "      <td>601</td>\n",
       "      <td>0</td>\n",
       "      <td>581</td>\n",
       "      <td>1687</td>\n",
       "      <td>1542</td>\n",
       "      <td>0</td>\n",
       "    </tr>\n",
       "    <tr>\n",
       "      <td>8</td>\n",
       "      <td>140000</td>\n",
       "      <td>2</td>\n",
       "      <td>3</td>\n",
       "      <td>1</td>\n",
       "      <td>28</td>\n",
       "      <td>0</td>\n",
       "      <td>0</td>\n",
       "      <td>2</td>\n",
       "      <td>0</td>\n",
       "      <td>0</td>\n",
       "      <td>...</td>\n",
       "      <td>12211</td>\n",
       "      <td>11793</td>\n",
       "      <td>3719</td>\n",
       "      <td>3329</td>\n",
       "      <td>0</td>\n",
       "      <td>432</td>\n",
       "      <td>1000</td>\n",
       "      <td>1000</td>\n",
       "      <td>1000</td>\n",
       "      <td>0</td>\n",
       "    </tr>\n",
       "    <tr>\n",
       "      <td>9</td>\n",
       "      <td>20000</td>\n",
       "      <td>1</td>\n",
       "      <td>3</td>\n",
       "      <td>2</td>\n",
       "      <td>35</td>\n",
       "      <td>-2</td>\n",
       "      <td>-2</td>\n",
       "      <td>-2</td>\n",
       "      <td>-2</td>\n",
       "      <td>-1</td>\n",
       "      <td>...</td>\n",
       "      <td>0</td>\n",
       "      <td>13007</td>\n",
       "      <td>13912</td>\n",
       "      <td>0</td>\n",
       "      <td>0</td>\n",
       "      <td>0</td>\n",
       "      <td>13007</td>\n",
       "      <td>1122</td>\n",
       "      <td>0</td>\n",
       "      <td>0</td>\n",
       "    </tr>\n",
       "  </tbody>\n",
       "</table>\n",
       "<p>10 rows × 24 columns</p>\n",
       "</div>"
      ],
      "text/plain": [
       "   LIMIT_BAL  SEX  EDUCATION  MARRIAGE  AGE  PAY_0  PAY_2  PAY_3  PAY_4  \\\n",
       "0      20000    2          2         1   24      2      2     -1     -1   \n",
       "1     120000    2          2         2   26     -1      2      0      0   \n",
       "2      90000    2          2         2   34      0      0      0      0   \n",
       "3      50000    2          2         1   37      0      0      0      0   \n",
       "4      50000    1          2         1   57     -1      0     -1      0   \n",
       "5      50000    1          1         2   37      0      0      0      0   \n",
       "6     500000    1          1         2   29      0      0      0      0   \n",
       "7     100000    2          2         2   23      0     -1     -1      0   \n",
       "8     140000    2          3         1   28      0      0      2      0   \n",
       "9      20000    1          3         2   35     -2     -2     -2     -2   \n",
       "\n",
       "   PAY_5  ...  BILL_AMT4  BILL_AMT5  BILL_AMT6  PAY_AMT1  PAY_AMT2  PAY_AMT3  \\\n",
       "0     -2  ...          0          0          0         0       689         0   \n",
       "1      0  ...       3272       3455       3261         0      1000      1000   \n",
       "2      0  ...      14331      14948      15549      1518      1500      1000   \n",
       "3      0  ...      28314      28959      29547      2000      2019      1200   \n",
       "4      0  ...      20940      19146      19131      2000     36681     10000   \n",
       "5      0  ...      19394      19619      20024      2500      1815       657   \n",
       "6      0  ...     542653     483003     473944     55000     40000     38000   \n",
       "7      0  ...        221       -159        567       380       601         0   \n",
       "8      0  ...      12211      11793       3719      3329         0       432   \n",
       "9     -1  ...          0      13007      13912         0         0         0   \n",
       "\n",
       "   PAY_AMT4  PAY_AMT5  PAY_AMT6  default payment next month  \n",
       "0         0         0         0                           1  \n",
       "1      1000         0      2000                           1  \n",
       "2      1000      1000      5000                           0  \n",
       "3      1100      1069      1000                           0  \n",
       "4      9000       689       679                           0  \n",
       "5      1000      1000       800                           0  \n",
       "6     20239     13750     13770                           0  \n",
       "7       581      1687      1542                           0  \n",
       "8      1000      1000      1000                           0  \n",
       "9     13007      1122         0                           0  \n",
       "\n",
       "[10 rows x 24 columns]"
      ]
     },
     "execution_count": 72,
     "metadata": {},
     "output_type": "execute_result"
    }
   ],
   "source": [
    "# 신용카드 고객데이터  가져오기\n",
    "import pandas as pd\n",
    "\n",
    "df = pd.read_excel('credit_card.xls',sheet_name='Data')\n",
    "df.shape     # (30000, 24)\n",
    "df.head(10)"
   ]
  },
  {
   "cell_type": "code",
   "execution_count": 80,
   "metadata": {},
   "outputs": [
    {
     "name": "stdout",
     "output_type": "stream",
     "text": [
      "<class 'pandas.core.frame.DataFrame'>\n",
      "RangeIndex: 30000 entries, 0 to 29999\n",
      "Data columns (total 23 columns):\n",
      "LIMIT_BAL    30000 non-null int64\n",
      "SEX          30000 non-null int64\n",
      "EDUCATION    30000 non-null int64\n",
      "MARRIAGE     30000 non-null int64\n",
      "AGE          30000 non-null int64\n",
      "PAY_1        30000 non-null int64\n",
      "PAY_2        30000 non-null int64\n",
      "PAY_3        30000 non-null int64\n",
      "PAY_4        30000 non-null int64\n",
      "PAY_5        30000 non-null int64\n",
      "PAY_6        30000 non-null int64\n",
      "BILL_AMT1    30000 non-null int64\n",
      "BILL_AMT2    30000 non-null int64\n",
      "BILL_AMT3    30000 non-null int64\n",
      "BILL_AMT4    30000 non-null int64\n",
      "BILL_AMT5    30000 non-null int64\n",
      "BILL_AMT6    30000 non-null int64\n",
      "PAY_AMT1     30000 non-null int64\n",
      "PAY_AMT2     30000 non-null int64\n",
      "PAY_AMT3     30000 non-null int64\n",
      "PAY_AMT4     30000 non-null int64\n",
      "PAY_AMT5     30000 non-null int64\n",
      "PAY_AMT6     30000 non-null int64\n",
      "dtypes: int64(23)\n",
      "memory usage: 5.3 MB\n"
     ]
    }
   ],
   "source": [
    "df.rename(columns={'PAY_0':'PAY_1','default payment next month':'default'},\n",
    "                  inplace=True)\n",
    "X_features = df.drop('default',axis = 1)\n",
    "X_features.shape   # (30000, 23)\n",
    "Y_target = df['default']\n",
    "Y_target.shape     # (30000, 23)\n",
    "\n",
    "X_features.info()"
   ]
  },
  {
   "cell_type": "code",
   "execution_count": 89,
   "metadata": {},
   "outputs": [
    {
     "data": {
      "text/plain": [
       "<matplotlib.axes._subplots.AxesSubplot at 0x12e40cd8e48>"
      ]
     },
     "execution_count": 89,
     "metadata": {},
     "output_type": "execute_result"
    },
    {
     "data": {
      "image/png": "[encoded data removed]",
      "text/plain": [
       "<Figure size 1008x1008 with 2 Axes>"
      ]
     },
     "metadata": {
      "needs_background": "light"
     },
     "output_type": "display_data"
    }
   ],
   "source": [
    "# seaborn 사용 변수간의 상관관계를 heatmap 출력\n",
    "import seaborn as sns\n",
    "import matplotlib.pyplot as plt\n",
    "%matplotlib inline\n",
    "\n",
    "corr = X_features.corr()\n",
    "plt.figure(figsize=(14,14))\n",
    "sns.heatmap(corr,annot=True, fmt='.1g')"
   ]
  },
  {
   "cell_type": "code",
   "execution_count": 97,
   "metadata": {},
   "outputs": [
    {
     "name": "stdout",
     "output_type": "stream",
     "text": [
      "상관관계가 높은 속성명: ['BILL_AMT1', 'BILL_AMT2', 'BILL_AMT3', 'BILL_AMT4', 'BILL_AMT5', 'BILL_AMT6']\n",
      "PCA Component별 변동성: [0.90555253 0.0509867 ]\n"
     ]
    }
   ],
   "source": [
    "# PCA 변환 : BILL_AMT1 ~ BILL_AMT6 6개를 2개로 축소\n",
    "from sklearn.decomposition import PCA\n",
    "from sklearn.preprocessing import StandardScaler\n",
    "\n",
    "cols_bill = ['BILL_AMT' + str(i) for i in range(1,7)]\n",
    "print('상관관계가 높은 속성명:',cols_bill)\n",
    "# df.columns.values[11:17]\n",
    "\n",
    "# 6개 컬럼의 데이터를 표준화\n",
    "scaler = StandardScaler()\n",
    "df_cols_scaled = scaler.fit_transform(X_features[cols_bill])\n",
    "\n",
    "# PCA 변환   : 6개를 2개로 축소\n",
    "pca = PCA(n_components=2)\n",
    "pca.fit(df_cols_scaled)\n",
    "\n",
    "print('PCA Component별 변동성:',pca.explained_variance_ratio_)\n",
    "#  [0.90555253 0.0509867 ]  # 95.5% "
   ]
  },
  {
   "cell_type": "code",
   "execution_count": 100,
   "metadata": {},
   "outputs": [
    {
     "name": "stdout",
     "output_type": "stream",
     "text": [
      "cv=3 원본데이터 예측 정확도: [0.8083 0.8196 0.8232]\n",
      "평균정확도: 0.8170333333333333\n"
     ]
    }
   ],
   "source": [
    "# 원본 데이터 사용 예측의 정확도 측정 \n",
    "# RandomForestClassifier\n",
    "from sklearn.ensemble import RandomForestClassifier\n",
    "from sklearn.model_selection import cross_val_score\n",
    "\n",
    "rcf = RandomForestClassifier(n_estimators=300, random_state=156)\n",
    "scores = cross_val_score(rcf,X_features,Y_target,scoring='accuracy',cv=3)\n",
    "print(\"cv=3 원본데이터 예측 정확도:\",scores)\n",
    "print('평균정확도:',np.mean(scores))  # 81.7%"
   ]
  },
  {
   "cell_type": "code",
   "execution_count": 101,
   "metadata": {},
   "outputs": [
    {
     "name": "stdout",
     "output_type": "stream",
     "text": [
      "cv=3 PCA 변환 데이터 예측 정확도: [0.8083 0.8194 0.8229]\n",
      " PCA 변환 데이터 평균 정확도: 0.8168666666666665\n"
     ]
    }
   ],
   "source": [
    "# PCA 변환한 데이터를 사용한 예측의 정확도 측정 : 전체를 6개로 축소\n",
    "scaler = StandardScaler()\n",
    "df_scaled = scaler.fit_transform(X_features)\n",
    "\n",
    "pca = PCA(n_components=6)\n",
    "pca.fit_transform(df_scaled)\n",
    "\n",
    "scores_pca = cross_val_score(rcf,df_scaled,Y_target,\n",
    "                             scoring='accuracy',cv=3)\n",
    "print(\"cv=3 PCA 변환 데이터 예측 정확도:\",scores_pca)\n",
    "print(' PCA 변환 데이터 평균 정확도:',np.mean(scores_pca))  # # 81.6%"
   ]
  },
  {
   "cell_type": "markdown",
   "metadata": {},
   "source": [
    "##### 과적합(Overfitting) : 학습 데이터에서는 예측 정확도 높이나오는데\n",
    "##### 학습에 사용되지 않은 다른 데이터 셋을 사용하여 예측하면 정확도가 떨어지는 경우"
   ]
  },
  {
   "cell_type": "code",
   "execution_count": null,
   "metadata": {},
   "outputs": [],
   "source": []
  },
  {
   "cell_type": "markdown",
   "metadata": {},
   "source": [
    "### 군집화(Clustering,클러스터링)\n",
    "#### 비지도 학습\n",
    "\n",
    "#####  K-means(K-평균) , Mean Shift(평균이동), 친근도전파\n"
   ]
  },
  {
   "cell_type": "markdown",
   "metadata": {},
   "source": [
    "### K-means(K-평균) \n",
    "- N개의 표본을 K개의 군집으로 나눈다\n",
    "- 군집화중 가장 많이 사용, 쉽고 간결하다\n",
    "- 속성(변수)의 갯수가 너무 많으면 정확도가 떨어져서 PCA로 차원 감소가 필요\n",
    "- 몇개의 군집을 선택해야할지 어렵다"
   ]
  },
  {
   "cell_type": "code",
   "execution_count": 8,
   "metadata": {},
   "outputs": [
    {
     "data": {
      "text/html": [
       "<div>\n",
       "<style scoped>\n",
       "    .dataframe tbody tr th:only-of-type {\n",
       "        vertical-align: middle;\n",
       "    }\n",
       "\n",
       "    .dataframe tbody tr th {\n",
       "        vertical-align: top;\n",
       "    }\n",
       "\n",
       "    .dataframe thead th {\n",
       "        text-align: right;\n",
       "    }\n",
       "</style>\n",
       "<table border=\"1\" class=\"dataframe\">\n",
       "  <thead>\n",
       "    <tr style=\"text-align: right;\">\n",
       "      <th></th>\n",
       "      <th>sepal_length</th>\n",
       "      <th>sepal_width</th>\n",
       "      <th>petal_length</th>\n",
       "      <th>petal_width</th>\n",
       "    </tr>\n",
       "  </thead>\n",
       "  <tbody>\n",
       "    <tr>\n",
       "      <td>0</td>\n",
       "      <td>5.1</td>\n",
       "      <td>3.5</td>\n",
       "      <td>1.4</td>\n",
       "      <td>0.2</td>\n",
       "    </tr>\n",
       "    <tr>\n",
       "      <td>1</td>\n",
       "      <td>4.9</td>\n",
       "      <td>3.0</td>\n",
       "      <td>1.4</td>\n",
       "      <td>0.2</td>\n",
       "    </tr>\n",
       "    <tr>\n",
       "      <td>2</td>\n",
       "      <td>4.7</td>\n",
       "      <td>3.2</td>\n",
       "      <td>1.3</td>\n",
       "      <td>0.2</td>\n",
       "    </tr>\n",
       "  </tbody>\n",
       "</table>\n",
       "</div>"
      ],
      "text/plain": [
       "   sepal_length  sepal_width  petal_length  petal_width\n",
       "0           5.1          3.5           1.4          0.2\n",
       "1           4.9          3.0           1.4          0.2\n",
       "2           4.7          3.2           1.3          0.2"
      ]
     },
     "execution_count": 8,
     "metadata": {},
     "output_type": "execute_result"
    }
   ],
   "source": [
    "from sklearn.preprocessing import scale\n",
    "from sklearn.datasets import load_iris\n",
    "from sklearn.cluster import KMeans\n",
    "import matplotlib.pyplot as plt\n",
    "import numpy as np\n",
    "import pandas as pd\n",
    "%matplotlib inline\n",
    "\n",
    "iris = load_iris()\n",
    "columns = ['sepal_length',\n",
    "           'sepal_width',\n",
    "           'petal_length',\n",
    "           'petal_width']\n",
    "irisDF = pd.DataFrame(iris.data,columns=columns)\n",
    "irisDF.shape # (150, 4)\n",
    "irisDF.head(3)"
   ]
  },
  {
   "cell_type": "code",
   "execution_count": 9,
   "metadata": {},
   "outputs": [
    {
     "name": "stdout",
     "output_type": "stream",
     "text": [
      "KMeans(algorithm='auto', copy_x=True, init='k-means++', max_iter=300,\n",
      "       n_clusters=3, n_init=10, n_jobs=None, precompute_distances='auto',\n",
      "       random_state=0, tol=0.0001, verbose=0)\n"
     ]
    },
    {
     "data": {
      "text/plain": [
       "sklearn.cluster.k_means_.KMeans"
      ]
     },
     "execution_count": 9,
     "metadata": {},
     "output_type": "execute_result"
    }
   ],
   "source": [
    "# sklearn.cluster.KMeans(n_clusters=8, init=’k-means++’, n_init=10,\n",
    "# max_iter=300, tol=0.0001, precompute_distances=’auto’, verbose=0, \n",
    "# random_state=None, copy_x=True, n_jobs=None, algorithm=’auto’)\n",
    "\n",
    "kmeans = KMeans(n_clusters=3, init='k-means++',max_iter=300,\n",
    "                random_state=0).fit(irisDF)\n",
    "print(kmeans)\n",
    "type(kmeans)  #sklearn.cluster.k_means_.KMeans"
   ]
  },
  {
   "cell_type": "code",
   "execution_count": 10,
   "metadata": {},
   "outputs": [
    {
     "name": "stdout",
     "output_type": "stream",
     "text": [
      "[1 1 1 1 1 1 1 1 1 1 1 1 1 1 1 1 1 1 1 1 1 1 1 1 1 1 1 1 1 1 1 1 1 1 1 1 1\n",
      " 1 1 1 1 1 1 1 1 1 1 1 1 1 0 0 2 0 0 0 0 0 0 0 0 0 0 0 0 0 0 0 0 0 0 0 0 0\n",
      " 0 0 0 2 0 0 0 0 0 0 0 0 0 0 0 0 0 0 0 0 0 0 0 0 0 0 2 0 2 2 2 2 0 2 2 2 2\n",
      " 2 2 0 0 2 2 2 2 0 2 0 2 0 2 2 0 0 2 2 2 2 2 0 2 2 2 2 0 2 2 2 0 2 2 2 0 2\n",
      " 2 0]\n",
      "[[5.9016129  2.7483871  4.39354839 1.43387097]\n",
      " [5.006      3.428      1.462      0.246     ]\n",
      " [6.85       3.07368421 5.74210526 2.07105263]]\n"
     ]
    }
   ],
   "source": [
    "print(kmeans.labels_)      # 각 데이터트가 속한 군집 중심점의 레이블\n",
    "print(kmeans.cluster_centers_) # 중심점 실제 좌표값"
   ]
  },
  {
   "cell_type": "code",
   "execution_count": 11,
   "metadata": {},
   "outputs": [
    {
     "data": {
      "text/html": [
       "<div>\n",
       "<style scoped>\n",
       "    .dataframe tbody tr th:only-of-type {\n",
       "        vertical-align: middle;\n",
       "    }\n",
       "\n",
       "    .dataframe tbody tr th {\n",
       "        vertical-align: top;\n",
       "    }\n",
       "\n",
       "    .dataframe thead th {\n",
       "        text-align: right;\n",
       "    }\n",
       "</style>\n",
       "<table border=\"1\" class=\"dataframe\">\n",
       "  <thead>\n",
       "    <tr style=\"text-align: right;\">\n",
       "      <th></th>\n",
       "      <th>sepal_length</th>\n",
       "      <th>sepal_width</th>\n",
       "      <th>petal_length</th>\n",
       "      <th>petal_width</th>\n",
       "    </tr>\n",
       "  </thead>\n",
       "  <tbody>\n",
       "    <tr>\n",
       "      <td>0</td>\n",
       "      <td>5.1</td>\n",
       "      <td>3.5</td>\n",
       "      <td>1.4</td>\n",
       "      <td>0.2</td>\n",
       "    </tr>\n",
       "    <tr>\n",
       "      <td>1</td>\n",
       "      <td>4.9</td>\n",
       "      <td>3.0</td>\n",
       "      <td>1.4</td>\n",
       "      <td>0.2</td>\n",
       "    </tr>\n",
       "    <tr>\n",
       "      <td>2</td>\n",
       "      <td>4.7</td>\n",
       "      <td>3.2</td>\n",
       "      <td>1.3</td>\n",
       "      <td>0.2</td>\n",
       "    </tr>\n",
       "    <tr>\n",
       "      <td>3</td>\n",
       "      <td>4.6</td>\n",
       "      <td>3.1</td>\n",
       "      <td>1.5</td>\n",
       "      <td>0.2</td>\n",
       "    </tr>\n",
       "    <tr>\n",
       "      <td>4</td>\n",
       "      <td>5.0</td>\n",
       "      <td>3.6</td>\n",
       "      <td>1.4</td>\n",
       "      <td>0.2</td>\n",
       "    </tr>\n",
       "    <tr>\n",
       "      <td>5</td>\n",
       "      <td>5.4</td>\n",
       "      <td>3.9</td>\n",
       "      <td>1.7</td>\n",
       "      <td>0.4</td>\n",
       "    </tr>\n",
       "    <tr>\n",
       "      <td>6</td>\n",
       "      <td>4.6</td>\n",
       "      <td>3.4</td>\n",
       "      <td>1.4</td>\n",
       "      <td>0.3</td>\n",
       "    </tr>\n",
       "    <tr>\n",
       "      <td>7</td>\n",
       "      <td>5.0</td>\n",
       "      <td>3.4</td>\n",
       "      <td>1.5</td>\n",
       "      <td>0.2</td>\n",
       "    </tr>\n",
       "    <tr>\n",
       "      <td>8</td>\n",
       "      <td>4.4</td>\n",
       "      <td>2.9</td>\n",
       "      <td>1.4</td>\n",
       "      <td>0.2</td>\n",
       "    </tr>\n",
       "    <tr>\n",
       "      <td>9</td>\n",
       "      <td>4.9</td>\n",
       "      <td>3.1</td>\n",
       "      <td>1.5</td>\n",
       "      <td>0.1</td>\n",
       "    </tr>\n",
       "  </tbody>\n",
       "</table>\n",
       "</div>"
      ],
      "text/plain": [
       "   sepal_length  sepal_width  petal_length  petal_width\n",
       "0           5.1          3.5           1.4          0.2\n",
       "1           4.9          3.0           1.4          0.2\n",
       "2           4.7          3.2           1.3          0.2\n",
       "3           4.6          3.1           1.5          0.2\n",
       "4           5.0          3.6           1.4          0.2\n",
       "5           5.4          3.9           1.7          0.4\n",
       "6           4.6          3.4           1.4          0.3\n",
       "7           5.0          3.4           1.5          0.2\n",
       "8           4.4          2.9           1.4          0.2\n",
       "9           4.9          3.1           1.5          0.1"
      ]
     },
     "execution_count": 11,
     "metadata": {},
     "output_type": "execute_result"
    }
   ],
   "source": [
    "pd.set_option('display.max_rows',500)\n",
    "irisDF.head(10)"
   ]
  },
  {
   "cell_type": "code",
   "execution_count": 12,
   "metadata": {},
   "outputs": [
    {
     "name": "stdout",
     "output_type": "stream",
     "text": [
      "target  cluster\n",
      "0       1          50\n",
      "1       0          48\n",
      "        2           2\n",
      "2       0          14\n",
      "        2          36\n",
      "Name: sepal_length, dtype: int64\n"
     ]
    }
   ],
   "source": [
    "irisDF['cluster'] = kmeans.labels_  # 원본 소스에 누락된 라인!!\n",
    "irisDF['target'] = iris.target\n",
    "irisDF\n",
    "iris_result = irisDF.groupby(['target','cluster'])['sepal_length'].count()\n",
    "print(iris_result)\n",
    "# target이 0인 데이터는 1번 군집에 50개\n",
    "# target이 1인 데이터는 0번 군집에 48개,2번 군집에 2개\n",
    "# target이 2인 데이터는 0번 군집에 4개, 2번 군집에 36개로 생성"
   ]
  },
  {
   "cell_type": "code",
   "execution_count": 13,
   "metadata": {},
   "outputs": [
    {
     "data": {
      "text/plain": [
       "array([[10.,  2.],\n",
       "       [ 1.,  2.]])"
      ]
     },
     "execution_count": 13,
     "metadata": {},
     "output_type": "execute_result"
    }
   ],
   "source": [
    "# KMeans기초예제 : scikit-learn 도움말의 Example\n",
    "from sklearn.cluster import KMeans\n",
    "import numpy as np\n",
    "X = np.array([[1, 2], [1, 4], [1, 0],\n",
    "               [10, 2], [10, 4], [10, 0]])  # (6,2)\n",
    "kmeans = KMeans(n_clusters=2, random_state=0).fit(X)\n",
    "kmeans.labels_\n",
    "# array([1, 1, 1, 0, 0, 0], dtype=int32)\n",
    "kmeans.predict([[0, 0], [12, 3]])\n",
    "# array([1, 0], dtype=int32)\n",
    "kmeans.cluster_centers_\n",
    "# array([[10.,  2.],\n",
    "#        [ 1.,  2.]])"
   ]
  },
  {
   "cell_type": "code",
   "execution_count": 14,
   "metadata": {},
   "outputs": [],
   "source": [
    "# iris 군집화 결과를 시각화하기\n",
    "\n",
    "from sklearn.decomposition import PCA\n",
    "\n",
    "pca = PCA(n_components=2)\n",
    "pca_transformed = pca.fit_transform(iris.data)\n",
    "pca_transformed\n",
    "\n",
    "irisDF['pca_x'] = pca_transformed[:,0]\n",
    "irisDF['pca_y'] = pca_transformed[:,1]\n",
    "# irisDF"
   ]
  },
  {
   "cell_type": "code",
   "execution_count": 15,
   "metadata": {},
   "outputs": [
    {
     "data": {
      "image/png": "[encoded data removed]",
      "text/plain": [
       "<Figure size 432x288 with 1 Axes>"
      ]
     },
     "metadata": {
      "needs_background": "light"
     },
     "output_type": "display_data"
    }
   ],
   "source": [
    "marker0_ind = irisDF[irisDF['cluster'] == 0].index  # 0번 군집의 행번호\n",
    "marker1_ind = irisDF[irisDF['cluster'] == 1].index  # 1번 군집의 행번호\n",
    "marker2_ind = irisDF[irisDF['cluster'] == 2].index  # 2번 군집의 행번호\n",
    "\n",
    "plt.scatter(x=irisDF.loc[marker0_ind,'pca_x'] , \n",
    "            y=irisDF.loc[marker0_ind,'pca_y'], marker='o')\n",
    "\n",
    "plt.scatter(x=irisDF.loc[marker1_ind,'pca_x'] , \n",
    "            y=irisDF.loc[marker1_ind,'pca_y'], marker='s')\n",
    "\n",
    "plt.scatter(x=irisDF.loc[marker2_ind,'pca_x'] , \n",
    "            y=irisDF.loc[marker2_ind,'pca_y'], marker='^')\n",
    "\n",
    "plt.xlabel('PCA_1')\n",
    "plt.ylabel('PCA_2')\n",
    "plt.title('3 Clusters Visualization by 2 PCA')\n",
    "plt.show()\n",
    "# Cluster 1(네모)는 다른 군집과 명확히 군집화 되었음\n",
    "# Cluster 0(동그라미) 과 Cluster 2(세모)는 덜 분리되어짐"
   ]
  },
  {
   "cell_type": "markdown",
   "metadata": {},
   "source": [
    "### 군집 평가(Clustaer Evaluation)"
   ]
  },
  {
   "cell_type": "code",
   "execution_count": 16,
   "metadata": {},
   "outputs": [
    {
     "name": "stdout",
     "output_type": "stream",
     "text": [
      "iris K-means 평균 실루엣 계수: 0.5528190123564091\n"
     ]
    }
   ],
   "source": [
    "# 실루엣(silhouette) 분석\n",
    "# 실루엣 계수 : 군집화의 지표, 높을수로 좋음\n",
    "\n",
    "from sklearn.metrics import silhouette_samples,silhouette_score\n",
    "\n",
    "\n",
    "kmeans = KMeans(n_clusters=3, init='k-means++',max_iter=300,\n",
    "                random_state=0).fit(irisDF)\n",
    "irisDF['cluster'] = kmeans.labels_\n",
    "\n",
    "# silhouette_samples() : 모든 개별데이터의 실루엣 계수를 구함\n",
    "score_samples = silhouette_samples(iris.data,irisDF['cluster'])\n",
    "# print(score_samples)   # (150,)\n",
    "\n",
    "irisDF['silhouette_coeff'] = score_samples\n",
    "irisDF\n",
    "\n",
    "# silhouette_score( ): 평균 실루엣 계수를 구함\n",
    "average_score = silhouette_score(iris.data,irisDF['cluster'])\n",
    "print('iris K-means 평균 실루엣 계수:',average_score) # 0.55"
   ]
  },
  {
   "cell_type": "code",
   "execution_count": 17,
   "metadata": {},
   "outputs": [],
   "source": [
    "### 여러개의 클러스터링 갯수를 List로 입력 받아 각각의 실루엣 계수를 면적으로 시각화한 함수 작성\n",
    "def visualize_silhouette(cluster_lists, X_features): \n",
    "    \n",
    "    from sklearn.datasets import make_blobs\n",
    "    from sklearn.cluster import KMeans\n",
    "    from sklearn.metrics import silhouette_samples, silhouette_score\n",
    "\n",
    "    import matplotlib.pyplot as plt\n",
    "    import matplotlib.cm as cm\n",
    "    import math\n",
    "    \n",
    "    # 입력값으로 클러스터링 갯수들을 리스트로 받아서, 각 갯수별로 클러스터링을 적용하고 실루엣 개수를 구함\n",
    "    n_cols = len(cluster_lists)\n",
    "    \n",
    "    # plt.subplots()으로 리스트에 기재된 클러스터링 수만큼의 sub figures를 가지는 axs 생성 \n",
    "    fig, axs = plt.subplots(figsize=(4*n_cols, 4), nrows=1, ncols=n_cols)\n",
    "    \n",
    "    # 리스트에 기재된 클러스터링 갯수들을 차례로 iteration 수행하면서 실루엣 개수 시각화\n",
    "    for ind, n_cluster in enumerate(cluster_lists):\n",
    "        \n",
    "        # KMeans 클러스터링 수행하고, 실루엣 스코어와 개별 데이터의 실루엣 값 계산. \n",
    "        clusterer = KMeans(n_clusters = n_cluster, max_iter=500, random_state=0)\n",
    "        cluster_labels = clusterer.fit_predict(X_features)\n",
    "        \n",
    "        sil_avg = silhouette_score(X_features, cluster_labels)\n",
    "        sil_values = silhouette_samples(X_features, cluster_labels)\n",
    "        \n",
    "        y_lower = 10\n",
    "        axs[ind].set_title('Number of Cluster : '+ str(n_cluster)+'\\n' \\\n",
    "                          'Silhouette Score :' + str(round(sil_avg,3)) )\n",
    "        axs[ind].set_xlabel(\"The silhouette coefficient values\")\n",
    "        axs[ind].set_ylabel(\"Cluster label\")\n",
    "        axs[ind].set_xlim([-0.1, 1])\n",
    "        axs[ind].set_ylim([0, len(X_features) + (n_cluster + 1) * 10])\n",
    "        axs[ind].set_yticks([])  # Clear the yaxis labels / ticks\n",
    "        axs[ind].set_xticks([0, 0.2, 0.4, 0.6, 0.8, 1])\n",
    "        \n",
    "        # 클러스터링 갯수별로 fill_betweenx( )형태의 막대 그래프 표현. \n",
    "        for i in range(n_cluster):\n",
    "            ith_cluster_sil_values = sil_values[cluster_labels==i]\n",
    "            ith_cluster_sil_values.sort()\n",
    "            \n",
    "            size_cluster_i = ith_cluster_sil_values.shape[0]\n",
    "            y_upper = y_lower + size_cluster_i\n",
    "            \n",
    "            color = cm.nipy_spectral(float(i) / n_cluster)\n",
    "            axs[ind].fill_betweenx(np.arange(y_lower, y_upper), 0, ith_cluster_sil_values, \\\n",
    "                                facecolor=color, edgecolor=color, alpha=0.7)\n",
    "            axs[ind].text(-0.05, y_lower + 0.5 * size_cluster_i, str(i))\n",
    "            y_lower = y_upper + 10\n",
    "            \n",
    "        axs[ind].axvline(x=sil_avg, color=\"red\", linestyle=\"--\")"
   ]
  },
  {
   "cell_type": "code",
   "execution_count": 18,
   "metadata": {},
   "outputs": [
    {
     "data": {
      "image/png": "[encoded data removed]",
      "text/plain": [
       "<Figure size 1152x288 with 4 Axes>"
      ]
     },
     "metadata": {
      "needs_background": "light"
     },
     "output_type": "display_data"
    }
   ],
   "source": [
    "visualize_silhouette([2,3,4,5],iris.data)"
   ]
  },
  {
   "cell_type": "code",
   "execution_count": 19,
   "metadata": {},
   "outputs": [
    {
     "name": "stdout",
     "output_type": "stream",
     "text": [
      "fit: x_data\n",
      "trans: y_data\n",
      "fit: my_data\n",
      "trans: my_data\n"
     ]
    },
    {
     "data": {
      "text/plain": [
       "'my_data'"
      ]
     },
     "execution_count": 19,
     "metadata": {},
     "output_type": "execute_result"
    }
   ],
   "source": [
    "from sklearn.base import TransformerMixin\n",
    "\n",
    "class A(TransformerMixin):\n",
    "    def fit(self,X):\n",
    "        print('fit:',X)\n",
    "        return self\n",
    "    \n",
    "    def transform(self,X):\n",
    "        print('trans:',X)  \n",
    "        return X\n",
    "    \n",
    "inst = A()\n",
    "inst.fit('x_data')\n",
    "inst.transform('y_data')\n",
    "inst.fit_transform('my_data')\n",
    "\n",
    "# <출력>\n",
    "\n",
    "# fit: x_data\n",
    "# trans: y_data\n",
    "# fit: my_data\n",
    "# trans: my_data"
   ]
  },
  {
   "cell_type": "markdown",
   "metadata": {},
   "source": [
    "### 평균이동(Mean Shift)\n",
    "- 대역폭(bandwith)를 사용하여밀도가 높는곳으로 이동하여 중심을 찾는다\n",
    "- cluster(군집)의 갯수를 지정하지 않아도 자동으로 설정된다\n",
    "- 이미지나 영상데이터 처리에 자주 사용된다"
   ]
  },
  {
   "cell_type": "code",
   "execution_count": 119,
   "metadata": {},
   "outputs": [
    {
     "name": "stdout",
     "output_type": "stream",
     "text": [
      "x: (200, 2)\n",
      "y: (200,)\n",
      "cluster labels: [0 1 2 3 4 5 6 7]\n",
      "cluster labels: [0 1 2]\n"
     ]
    }
   ],
   "source": [
    "import numpy as np\n",
    "from sklearn.datasets import make_blobs\n",
    "from sklearn.cluster import MeanShift\n",
    "\n",
    "# make_blobs(): 임의의 데이터셋을 생성\n",
    "x, y = make_blobs(n_samples=200,n_features=2, centers=3,\n",
    "                 cluster_std=0.6, random_state=0)  # 원본소스수정 0.8-->0.6\n",
    "print('x:',x.shape)  # (200,2)\n",
    "print('y:',y.shape)  # (200,)\n",
    "\n",
    "# bandwidth=0.62일때  --> 8개 cluster\n",
    "meanshift = MeanShift(bandwidth=0.62)\n",
    "cluster_labels = meanshift.fit_predict(x)\n",
    "print('cluster labels:',np.unique(cluster_labels))  \n",
    "\n",
    "# bandwidth=1.114 일때  --. 3개 cluster\n",
    "meanshift = MeanShift(bandwidth=1.114)\n",
    "cluster_labels = meanshift.fit_predict(x)\n",
    "print('cluster labels:',np.unique(cluster_labels))\n"
   ]
  },
  {
   "cell_type": "code",
   "execution_count": 120,
   "metadata": {},
   "outputs": [
    {
     "name": "stdout",
     "output_type": "stream",
     "text": [
      "bandwidth: 1.114\n"
     ]
    }
   ],
   "source": [
    "# bandwidth 의 최적값을 구하기\n",
    "from sklearn.cluster import estimate_bandwidth\n",
    "\n",
    "bandwidth = estimate_bandwidth(x, quantile=0.2)\n",
    "print('bandwidth:',round(bandwidth,3) ) # 1.114"
   ]
  },
  {
   "cell_type": "code",
   "execution_count": 121,
   "metadata": {},
   "outputs": [
    {
     "name": "stdout",
     "output_type": "stream",
     "text": [
      "1.113759224777449\n",
      "cluster labels: [0 1 2]\n"
     ]
    }
   ],
   "source": [
    "# 평균이동(Mean Shift) 및 시각화\n",
    "\n",
    "import pandas as pd\n",
    "\n",
    "clusterDF = pd.DataFrame(data=x,columns=['ftr1','ftr2'])\n",
    "clusterDF['target'] = y     # [0,1,2]\n",
    "clusterDF\n",
    "\n",
    "# estimate_bandwidth() 사용하여 최적의 bandwidth계산\n",
    "best_bandwidth = estimate_bandwidth(x,quantile=0.2)\n",
    "print(best_bandwidth)\n",
    "\n",
    "meanshift = MeanShift(bandwidth=best_bandwidth) # 원본소스 오타\n",
    "cluster_labels = meanshift.fit_predict(x)\n",
    "print('cluster labels:',np.unique(cluster_labels))"
   ]
  },
  {
   "cell_type": "code",
   "execution_count": 122,
   "metadata": {},
   "outputs": [
    {
     "data": {
      "image/png": "[encoded data removed]",
      "text/plain": [
       "<Figure size 432x288 with 1 Axes>"
      ]
     },
     "metadata": {
      "needs_background": "light"
     },
     "output_type": "display_data"
    },
    {
     "name": "stdout",
     "output_type": "stream",
     "text": [
      "target  meanshift_label\n",
      "0       2                  67\n",
      "1       0                  67\n",
      "2       1                  66\n",
      "Name: meanshift_label, dtype: int64\n"
     ]
    }
   ],
   "source": [
    "# matplotlib로 시각화\n",
    "clusterDF['meanshift_label'] = cluster_labels\n",
    "# clusterDF\n",
    "centers = meanshift.cluster_centers_\n",
    "# centers\n",
    "unique_labels = np.unique(cluster_labels)   # [0 1 2]\n",
    "markers = ['o','s','^','x','*']\n",
    "\n",
    "for label in unique_labels :\n",
    "    label_cluster = clusterDF[clusterDF['meanshift_label']==label]\n",
    "    center_x_y = centers[label]\n",
    "    \n",
    "    plt.scatter(x=label_cluster['ftr1'],y=label_cluster['ftr2'],\n",
    "               edgecolor='k',marker=markers[label])\n",
    "    # 중심점(center)을 표시\n",
    "    plt.scatter(x=center_x_y[0],y=center_x_y[1],s=300,color='white',\n",
    "               edgecolor='k',alpha = 0.7, marker=markers[label])\n",
    "\n",
    "    plt.scatter(x=center_x_y[0],y=center_x_y[1],s=100,color='k',\n",
    "               edgecolor='k', marker='$%d$'%label)\n",
    "              \n",
    "    \n",
    "plt.show()\n",
    "print(clusterDF.groupby('target')['meanshift_label'].value_counts())"
   ]
  },
  {
   "cell_type": "code",
   "execution_count": 126,
   "metadata": {},
   "outputs": [
    {
     "name": "stdout",
     "output_type": "stream",
     "text": [
      "Mean Shift 평균 실루엣 계수: 0.6771591392061186\n"
     ]
    }
   ],
   "source": [
    "# 실루엣(silhouette) 분석\n",
    "# 실루엣 계수 : 군집화의 지표, 높을수로 좋음\n",
    "\n",
    "from sklearn.metrics import silhouette_samples,silhouette_score\n",
    "\n",
    "# silhouette_samples() : 모든 개별데이터의 실루엣 계수를 구함\n",
    "score_samples = silhouette_samples(x,clusterDF['meanshift_label'])\n",
    "# print(score_samples)   \n",
    "\n",
    "clusterDF['silhouette_coeff'] = score_samples\n",
    "clusterDF\n",
    "\n",
    "# silhouette_score( ): 평균 실루엣 계수를 구함\n",
    "average_score = silhouette_score(x,clusterDF['meanshift_label'])\n",
    "print('Mean Shift 평균 실루엣 계수:',average_score) # 0.677"
   ]
  },
  {
   "cell_type": "code",
   "execution_count": 35,
   "metadata": {},
   "outputs": [
    {
     "name": "stdout",
     "output_type": "stream",
     "text": [
      "cluster_centers: [[ 0.92284077 -0.94786827]\n",
      " [-0.92331159 -0.99553816]\n",
      " [ 0.98305835  0.89701482]]\n",
      "number of estimated clusters : 3\n"
     ]
    },
    {
     "data": {
      "image/png": "[encoded data removed]",
      "text/plain": [
       "<Figure size 432x288 with 1 Axes>"
      ]
     },
     "metadata": {
      "needs_background": "light"
     },
     "output_type": "display_data"
    }
   ],
   "source": [
    "# A demo of the mean-shift clustering algorithm\n",
    "import numpy as np\n",
    "from sklearn.cluster import MeanShift, estimate_bandwidth\n",
    "from sklearn.datasets.samples_generator import make_blobs\n",
    "\n",
    "# #############################################################################\n",
    "# Generate sample data\n",
    "centers = [[1, 1], [-1, -1], [1, -1]]\n",
    "X, _ = make_blobs(n_samples=10000, centers=centers, cluster_std=0.6)\n",
    "\n",
    "# #############################################################################\n",
    "# Compute clustering with MeanShift\n",
    "\n",
    "# The following bandwidth can be automatically detected using\n",
    "bandwidth = estimate_bandwidth(X, quantile=0.2, n_samples=500)\n",
    "\n",
    "ms = MeanShift(bandwidth=bandwidth, bin_seeding=True)\n",
    "ms.fit(X)\n",
    "labels = ms.labels_\n",
    "cluster_centers = ms.cluster_centers_\n",
    "print('cluster_centers:',cluster_centers)\n",
    "labels_unique = np.unique(labels)\n",
    "n_clusters_ = len(labels_unique)\n",
    "\n",
    "print(\"number of estimated clusters : %d\" % n_clusters_)\n",
    "\n",
    "# #############################################################################\n",
    "# Plot result\n",
    "import matplotlib.pyplot as plt\n",
    "from itertools import cycle\n",
    "\n",
    "plt.figure(1)\n",
    "plt.clf()\n",
    "\n",
    "colors = cycle('bgrcmykbgrcmykbgrcmykbgrcmyk')\n",
    "for k, col in zip(range(n_clusters_), colors):\n",
    "    my_members = labels == k\n",
    "    cluster_center = cluster_centers[k]\n",
    "    plt.plot(X[my_members, 0], X[my_members, 1], col + '.')\n",
    "    plt.plot(cluster_center[0], cluster_center[1], 'o', markerfacecolor=col,\n",
    "             markeredgecolor='k', markersize=14)\n",
    "plt.title('Estimated number of clusters: %d' % n_clusters_)\n",
    "plt.show()\n",
    "\n",
    "# Generate sample data\n",
    "# centers = [[1, 1], [-1, -1], [1, -1]]"
   ]
  },
  {
   "cell_type": "code",
   "execution_count": null,
   "metadata": {},
   "outputs": [],
   "source": []
  }
 ],
 "metadata": {
  "kernelspec": {
   "display_name": "Python 3",
   "language": "python",
   "name": "python3"
  },
  "language_info": {
   "codemirror_mode": {
    "name": "ipython",
    "version": 3
   },
   "file_extension": ".py",
   "mimetype": "text/x-python",
   "name": "python",
   "nbconvert_exporter": "python",
   "pygments_lexer": "ipython3",
   "version": "3.7.4"
  }
 },
 "nbformat": 4,
 "nbformat_minor": 2
}
