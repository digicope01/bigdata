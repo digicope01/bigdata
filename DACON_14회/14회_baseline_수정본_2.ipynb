{
 "cells": [
  {
   "cell_type": "markdown",
   "metadata": {
    "colab_type": "text",
    "id": "hg9Hca7UdzV_"
   },
   "source": [
    "# 사전 사용 패키지 다운로드"
   ]
  },
  {
   "cell_type": "code",
   "execution_count": 261,
   "metadata": {
    "colab": {},
    "colab_type": "code",
    "id": "ikJyW_h8ONQv"
   },
   "outputs": [],
   "source": [
    "import pandas as pd # 데이터 전처리\n",
    "import numpy as np # 데이터 전처리\n",
    "import random #데이터 전처리\n",
    "from pandas import DataFrame #데이터 전처리\n",
    "from collections import Counter #데이터 전처리\n",
    "\n",
    "from tqdm import tqdm #시간 측정용\n",
    "\n",
    "from sklearn.feature_extraction.text import CountVectorizer # model setting\n",
    "from sklearn.model_selection import train_test_split  # model setting\n",
    "\n",
    "from sklearn.naive_bayes import MultinomialNB  # model 관련\n",
    "from sklearn.metrics import roc_auc_score  # model 성능 확인\n",
    "\n",
    "# konlpy 설치\n",
    "# pip install konlpy\n",
    "\n",
    "# Mecab 설치\n",
    "# http://konlpy.org/en/latest/install/\n",
    "# https://cleancode-ws.tistory.com/97\n",
    "\n",
    "import konlpy\n",
    "from konlpy.tag import Mecab\n",
    "\n",
    "tokenizer = Mecab('C:\\mecab\\mecab-ko-dic') # setting tokenizer using Mecab()\n",
    "\n",
    "\n",
    "pd.set_option('display.max_rows', 5000)"
   ]
  },
  {
   "cell_type": "markdown",
   "metadata": {
    "colab_type": "text",
    "id": "Jcsrk4Iuqxbn"
   },
   "source": [
    "# 대회 데이터 다운로드 및 사전 확인"
   ]
  },
  {
   "cell_type": "code",
   "execution_count": 262,
   "metadata": {
    "colab": {
     "base_uri": "https://localhost:8080/",
     "height": 111
    },
    "colab_type": "code",
    "executionInfo": {
     "elapsed": 25988,
     "status": "ok",
     "timestamp": 1575262021307,
     "user": {
      "displayName": "Dacon Service",
      "photoUrl": "",
      "userId": "00192245294648390361"
     },
     "user_tz": -540
    },
    "id": "1k9lNWs3qxb8",
    "outputId": "c8a9122d-c18b-49d2-9637-7a2bf69ea0d4"
   },
   "outputs": [],
   "source": [
    "train = pd.read_csv(\"train.csv\") #해당 14th data의 csv 파일 중 train.csv 불러오기\n",
    "\n",
    "# train.head(2)"
   ]
  },
  {
   "cell_type": "code",
   "execution_count": 263,
   "metadata": {},
   "outputs": [],
   "source": [
    "# train.shape"
   ]
  },
  {
   "cell_type": "code",
   "execution_count": 264,
   "metadata": {},
   "outputs": [],
   "source": [
    "# train['smishing'].value_counts()"
   ]
  },
  {
   "cell_type": "code",
   "execution_count": 265,
   "metadata": {},
   "outputs": [],
   "source": [
    "# train[train['smishing'] == 1]"
   ]
  },
  {
   "cell_type": "code",
   "execution_count": 266,
   "metadata": {
    "colab": {
     "base_uri": "https://localhost:8080/",
     "height": 111
    },
    "colab_type": "code",
    "executionInfo": {
     "elapsed": 26216,
     "status": "ok",
     "timestamp": 1575262021546,
     "user": {
      "displayName": "Dacon Service",
      "photoUrl": "",
      "userId": "00192245294648390361"
     },
     "user_tz": -540
    },
    "id": "JMLfiB9zqxb9",
    "outputId": "7da64a09-4af4-4382-e077-ac05c04e4f19"
   },
   "outputs": [],
   "source": [
    "# test = pd.read_csv(\"public_test.csv\")\n",
    "\n",
    "# test.head(2)"
   ]
  },
  {
   "cell_type": "code",
   "execution_count": 267,
   "metadata": {
    "colab": {
     "base_uri": "https://localhost:8080/",
     "height": 111
    },
    "colab_type": "code",
    "executionInfo": {
     "elapsed": 26785,
     "status": "ok",
     "timestamp": 1575262022126,
     "user": {
      "displayName": "Dacon Service",
      "photoUrl": "",
      "userId": "00192245294648390361"
     },
     "user_tz": -540
    },
    "id": "87QelyNYqxb-",
    "outputId": "37b0c4bb-4ac3-4da8-94ee-7063b68eb4ff"
   },
   "outputs": [],
   "source": [
    "# submission=pd.read_csv(\"submission_제출양식.csv\")\n",
    "\n",
    "# submission.head(2)"
   ]
  },
  {
   "cell_type": "code",
   "execution_count": 268,
   "metadata": {
    "colab": {
     "base_uri": "https://localhost:8080/",
     "height": 35
    },
    "colab_type": "code",
    "executionInfo": {
     "elapsed": 621,
     "status": "ok",
     "timestamp": 1575262029751,
     "user": {
      "displayName": "Dacon Service",
      "photoUrl": "",
      "userId": "00192245294648390361"
     },
     "user_tz": -540
    },
    "id": "dQy5n59tq_QK",
    "outputId": "3e7383b0-2d28-4ce1-eb1e-38292e55b879"
   },
   "outputs": [],
   "source": [
    "# train.shape, test.shape, submission.shape"
   ]
  },
  {
   "cell_type": "markdown",
   "metadata": {
    "colab_type": "text",
    "id": "u5J14Z_Qq_QO"
   },
   "source": [
    "총 train data의 행은 약 29만개, test data의 행은 약 1600개로 되어있다."
   ]
  },
  {
   "cell_type": "markdown",
   "metadata": {
    "colab_type": "text",
    "id": "CAWAdzm7rILB"
   },
   "source": [
    "## train data under-sampling method"
   ]
  },
  {
   "cell_type": "code",
   "execution_count": 269,
   "metadata": {
    "colab": {
     "base_uri": "https://localhost:8080/",
     "height": 35
    },
    "colab_type": "code",
    "executionInfo": {
     "elapsed": 815,
     "status": "ok",
     "timestamp": 1575262042601,
     "user": {
      "displayName": "Dacon Service",
      "photoUrl": "",
      "userId": "00192245294648390361"
     },
     "user_tz": -540
    },
    "id": "kgxwmC6wrILF",
    "outputId": "d2208963-4ade-4dc2-dae8-03ae45d7417c"
   },
   "outputs": [],
   "source": [
    "# Counter(train['smishing'])"
   ]
  },
  {
   "cell_type": "code",
   "execution_count": 270,
   "metadata": {
    "colab": {
     "base_uri": "https://localhost:8080/",
     "height": 35
    },
    "colab_type": "code",
    "executionInfo": {
     "elapsed": 501,
     "status": "ok",
     "timestamp": 1575262042603,
     "user": {
      "displayName": "Dacon Service",
      "photoUrl": "",
      "userId": "00192245294648390361"
     },
     "user_tz": -540
    },
    "id": "AkUHl9gPrILK",
    "outputId": "8b887deb-1b5b-4d29-c6d6-d280678453fe"
   },
   "outputs": [],
   "source": [
    "# 19646/train.shape[0]"
   ]
  },
  {
   "cell_type": "markdown",
   "metadata": {
    "colab_type": "text",
    "id": "jJqzp-SCrILN"
   },
   "source": [
    "NLP 특성상 해당 train data를 모두 tokenizing 한 뒤, CountVectorizer를 하게 되면,\n",
    "\n",
    " colab 상에서는 과하게 ram을 잡아먹어 다운이 되는 경우가 생기기 때문에, 스미싱 비율에 맞게 under sampling을 수행하였다."
   ]
  },
  {
   "cell_type": "code",
   "execution_count": 271,
   "metadata": {
    "colab": {
     "base_uri": "https://localhost:8080/",
     "height": 35
    },
    "colab_type": "code",
    "executionInfo": {
     "elapsed": 422,
     "status": "ok",
     "timestamp": 1575262043450,
     "user": {
      "displayName": "Dacon Service",
      "photoUrl": "",
      "userId": "00192245294648390361"
     },
     "user_tz": -540
    },
    "id": "HOX3hMNtrILN",
    "outputId": "57c3d6aa-fc73-4869-f80e-ea89d9028434"
   },
   "outputs": [],
   "source": [
    "# 850/12600\n",
    "\n",
    "#  smishing:850개  non-smishing :12600개       , 비율 0.06:0.94"
   ]
  },
  {
   "cell_type": "code",
   "execution_count": 272,
   "metadata": {
    "colab": {},
    "colab_type": "code",
    "id": "qFmf-J2_rILR"
   },
   "outputs": [],
   "source": [
    "# random.seed(2019) #반복 수행시에도 동일한 결과 나올 수 있도록 시드 번호 지정\n",
    "# train_nsm_list=list(train[train['smishing']!=1].index)\n",
    "# train_nsmishing=random.sample(train_nsm_list, 11750*7 )\n",
    "\n",
    "# random.seed(2019)\n",
    "# train_sm_list=list(train[train['smishing']==1].index)\n",
    "# train_smishing=random.sample(train_sm_list, 850*7 ) #0.066과 제일 비슷하게 나올 수 있도록  train data under sampling\n",
    "\n",
    "# 성능 저하됨\n"
   ]
  },
  {
   "cell_type": "code",
   "execution_count": 273,
   "metadata": {},
   "outputs": [
    {
     "name": "stdout",
     "output_type": "stream",
     "text": [
      "X_train: (266350, 3)\n",
      "X_test: (29595, 3)\n"
     ]
    }
   ],
   "source": [
    "\n",
    "# train 데이터내에서 다시 train: 70% , test : 30%  데이터 추출\n",
    "from sklearn.model_selection import train_test_split\n",
    "import numpy as np\n",
    "from sklearn.metrics import mean_squared_error\n",
    "\n",
    "def get_train_test_split(X_train, y_train, test_size=0.3, random_state=0) :\n",
    "    X_train, X_test, y_train, y_test = train_test_split(X_train, y_train,\n",
    "                                       test_size=test_size, random_state=random_state)\n",
    "    print('X_train:',X_train.shape)\n",
    "    print('X_test:',X_test.shape)\n",
    "    return  X_train, X_test, y_train, y_test\n",
    "\n",
    "\n",
    "X_train, X_test, y_train, y_test = get_train_test_split(train.iloc[:,:-1], train.iloc[:,-1], test_size=0.1, random_state=0)\n",
    "X_train['smishing'] = y_train\n",
    "# X_train.drop(['smishing'],axis=1,inplace =True)\n",
    "\n",
    "X_train.reset_index(drop=True,inplace=True)\n",
    "X_test.reset_index(drop=True,inplace=True)\n",
    "# X_train\n",
    "y_test.reset_index(drop=True,inplace=True)"
   ]
  },
  {
   "cell_type": "code",
   "execution_count": 274,
   "metadata": {},
   "outputs": [
    {
     "data": {
      "text/plain": [
       "0    27774\n",
       "1     1821\n",
       "Name: smishing, dtype: int64"
      ]
     },
     "execution_count": 274,
     "metadata": {},
     "output_type": "execute_result"
    }
   ],
   "source": [
    "y_test.value_counts()\n",
    "# y_train\n",
    "# type(y_test)"
   ]
  },
  {
   "cell_type": "code",
   "execution_count": 275,
   "metadata": {},
   "outputs": [],
   "source": [
    "random.seed(2019) #반복 수행시에도 동일한 결과 나올 수 있도록 시드 번호 지정\n",
    "train_nsm_list=list(X_train[X_train['smishing']!=1].index)\n",
    "train_nsmishing=random.sample(train_nsm_list, 11750)\n",
    "\n",
    "random.seed(2019)\n",
    "train_sm_list=list(X_train[X_train['smishing']==1].index)\n",
    "train_smishing=random.sample(train_sm_list, 850 ) #0.066과 제일 비슷하게 나올 수 있도록  train data under sampling"
   ]
  },
  {
   "cell_type": "code",
   "execution_count": 276,
   "metadata": {},
   "outputs": [],
   "source": [
    "# random.seed(2019) #반복 수행시에도 동일한 결과 나올 수 있도록 시드 번호 지정\n",
    "# train_nsm_list=list(train[train['smishing']!=1].index)\n",
    "# train_nsmishing=random.sample(train_nsm_list, 11750 )\n",
    "\n",
    "# random.seed(2019)\n",
    "# train_sm_list=list(train[train['smishing']==1].index)\n",
    "# train_smishing=random.sample(train_sm_list, 850 ) #0.066과 제일 비슷하게 나올 수 있도록  train data under sampling"
   ]
  },
  {
   "cell_type": "code",
   "execution_count": 277,
   "metadata": {
    "colab": {},
    "colab_type": "code",
    "id": "WB1Xigh6rILU"
   },
   "outputs": [],
   "source": [
    "train_xx=X_train.iloc[train_smishing+train_nsmishing].reset_index(drop=True) #under sampling으로 나온 index들로 train data 선별\n",
    "\n",
    "train_yy=DataFrame(X_train['smishing'],columns=['smishing']) \n",
    "train_yyy=train_yy.iloc[train_smishing+train_nsmishing,:].reset_index(drop=True)\n"
   ]
  },
  {
   "cell_type": "code",
   "execution_count": 278,
   "metadata": {
    "colab": {},
    "colab_type": "code",
    "id": "eS6CzBnjrILX"
   },
   "outputs": [],
   "source": [
    "# test['smishing']=2 #train data와 동일한 형태 생성을 위해 임의의 숫자를 추가 #이후 스미싱 여부 확률 값으로 덮어 씌워짐\n",
    "# test_xx=DataFrame(test['text'])\n",
    "# test_yyy=DataFrame(test['smishing'])\n",
    "# train_xx.head(100)"
   ]
  },
  {
   "cell_type": "code",
   "execution_count": 279,
   "metadata": {},
   "outputs": [
    {
     "data": {
      "text/html": [
       "<div>\n",
       "<style scoped>\n",
       "    .dataframe tbody tr th:only-of-type {\n",
       "        vertical-align: middle;\n",
       "    }\n",
       "\n",
       "    .dataframe tbody tr th {\n",
       "        vertical-align: top;\n",
       "    }\n",
       "\n",
       "    .dataframe thead th {\n",
       "        text-align: right;\n",
       "    }\n",
       "</style>\n",
       "<table border=\"1\" class=\"dataframe\">\n",
       "  <thead>\n",
       "    <tr style=\"text-align: right;\">\n",
       "      <th></th>\n",
       "      <th>smishing</th>\n",
       "    </tr>\n",
       "  </thead>\n",
       "  <tbody>\n",
       "    <tr>\n",
       "      <td>0</td>\n",
       "      <td>0</td>\n",
       "    </tr>\n",
       "    <tr>\n",
       "      <td>1</td>\n",
       "      <td>0</td>\n",
       "    </tr>\n",
       "    <tr>\n",
       "      <td>2</td>\n",
       "      <td>0</td>\n",
       "    </tr>\n",
       "    <tr>\n",
       "      <td>3</td>\n",
       "      <td>0</td>\n",
       "    </tr>\n",
       "    <tr>\n",
       "      <td>4</td>\n",
       "      <td>1</td>\n",
       "    </tr>\n",
       "    <tr>\n",
       "      <td>...</td>\n",
       "      <td>...</td>\n",
       "    </tr>\n",
       "    <tr>\n",
       "      <td>29590</td>\n",
       "      <td>0</td>\n",
       "    </tr>\n",
       "    <tr>\n",
       "      <td>29591</td>\n",
       "      <td>1</td>\n",
       "    </tr>\n",
       "    <tr>\n",
       "      <td>29592</td>\n",
       "      <td>0</td>\n",
       "    </tr>\n",
       "    <tr>\n",
       "      <td>29593</td>\n",
       "      <td>0</td>\n",
       "    </tr>\n",
       "    <tr>\n",
       "      <td>29594</td>\n",
       "      <td>0</td>\n",
       "    </tr>\n",
       "  </tbody>\n",
       "</table>\n",
       "<p>29595 rows × 1 columns</p>\n",
       "</div>"
      ],
      "text/plain": [
       "       smishing\n",
       "0             0\n",
       "1             0\n",
       "2             0\n",
       "3             0\n",
       "4             1\n",
       "...         ...\n",
       "29590         0\n",
       "29591         1\n",
       "29592         0\n",
       "29593         0\n",
       "29594         0\n",
       "\n",
       "[29595 rows x 1 columns]"
      ]
     },
     "execution_count": 279,
     "metadata": {},
     "output_type": "execute_result"
    }
   ],
   "source": [
    "X_test['smishing']=2 #train data와 동일한 형태 생성을 위해 임의의 숫자를 추가 #이후 스미싱 여부 확률 값으로 덮어 씌워짐\n",
    "test_xx=X_test\n",
    "test_yyy=DataFrame(y_test)\n",
    "test_yyy"
   ]
  },
  {
   "cell_type": "code",
   "execution_count": 280,
   "metadata": {
    "colab": {
     "base_uri": "https://localhost:8080/",
     "height": 35
    },
    "colab_type": "code",
    "executionInfo": {
     "elapsed": 607,
     "status": "ok",
     "timestamp": 1575262046695,
     "user": {
      "displayName": "Dacon Service",
      "photoUrl": "",
      "userId": "00192245294648390361"
     },
     "user_tz": -540
    },
    "id": "li61SsKLrILa",
    "outputId": "1aa29f94-9e26-4020-e0a9-a528b48cfced"
   },
   "outputs": [
    {
     "data": {
      "text/plain": [
       "((12600, 4), (12600, 1), (29595, 4), (29595, 1))"
      ]
     },
     "execution_count": 280,
     "metadata": {},
     "output_type": "execute_result"
    }
   ],
   "source": [
    "train_xx.shape,train_yyy.shape,test_xx.shape,test_yyy.shape"
   ]
  },
  {
   "cell_type": "code",
   "execution_count": null,
   "metadata": {
    "colab": {},
    "colab_type": "code",
    "id": "yNwT4vAp11bx"
   },
   "outputs": [],
   "source": []
  },
  {
   "cell_type": "code",
   "execution_count": 281,
   "metadata": {
    "colab": {
     "base_uri": "https://localhost:8080/",
     "height": 53
    },
    "colab_type": "code",
    "executionInfo": {
     "elapsed": 6892,
     "status": "ok",
     "timestamp": 1575262272752,
     "user": {
      "displayName": "Dacon Service",
      "photoUrl": "",
      "userId": "00192245294648390361"
     },
     "user_tz": -540
    },
    "id": "JGfLRGdC_r6B",
    "outputId": "5d3cde24-efd1-42ba-95c4-b1e6d9ced3ab"
   },
   "outputs": [
    {
     "name": "stderr",
     "output_type": "stream",
     "text": [
      "12600it [00:02, 4877.20it/s]\n",
      "29595it [00:06, 4827.38it/s]\n"
     ]
    }
   ],
   "source": [
    "train_doc = [ ( tokenizer.pos(x), y ) for x, y in tqdm( zip( train_xx['text'], train_yyy['smishing'] ) )  ] # Mecab를 활용하여 text를 토큰화 시킴\n",
    "test_doc = [ ( tokenizer.pos(x), y ) for x, y in tqdm( zip( test_xx['text'], test_yyy['smishing'] ) )  ]"
   ]
  },
  {
   "cell_type": "code",
   "execution_count": 282,
   "metadata": {
    "colab": {},
    "colab_type": "code",
    "id": "jNEbl5QGlmPG"
   },
   "outputs": [],
   "source": [
    "stopwords = ['XXX', '.', '을', '를', '이', '가', '-', '(', ')', ':', '!', '?', ')-', '.-', 'ㅡ', 'XXXXXX', '..', '.(', '은', '는'] #필요없는 단어 리스트\n",
    "\n",
    "def get_couple(_words): #필요없는 단어들 없애는 함수\n",
    "    global stopwords\n",
    "    _words = [x for x in _words if x[0] not in stopwords]\n",
    "    l = len(_words)\n",
    "    for i in range(l-1):\n",
    "        yield _words[i][0], _words[i+1][0]\n"
   ]
  },
  {
   "cell_type": "markdown",
   "metadata": {
    "colab_type": "text",
    "id": "LtZPJDdknsr6"
   },
   "source": [
    "필요없는 단어들을 제거하면서 동시에 모형에 사용하기 위한, X_train,test, Y_train,test를 생성한다"
   ]
  },
  {
   "cell_type": "code",
   "execution_count": 283,
   "metadata": {
    "colab": {},
    "colab_type": "code",
    "id": "xqgpLM_JluSD"
   },
   "outputs": [],
   "source": [
    "X_train, Y_train = [], []\n",
    "for lwords in train_doc:\n",
    "    Y_train.append(lwords[1])\n",
    "    \n",
    "    temp = []\n",
    "    for x, y in get_couple(lwords[0]):\n",
    "        temp.append(\"{}.{}\".format(x, y))\n",
    "    \n",
    "    X_train.append(\" \".join(temp))"
   ]
  },
  {
   "cell_type": "code",
   "execution_count": 284,
   "metadata": {
    "colab": {},
    "colab_type": "code",
    "id": "pXnpvMpa-ccj"
   },
   "outputs": [],
   "source": [
    "X_test = []\n",
    "for lwords in test_doc:\n",
    "    \n",
    "    temp = []\n",
    "    for x, y in get_couple(lwords[0]):\n",
    "        temp.append(\"{}.{}\".format(x, y))\n",
    "    \n",
    "    X_test.append(\" \".join(temp))"
   ]
  },
  {
   "cell_type": "markdown",
   "metadata": {
    "colab_type": "text",
    "id": "bNG-KUu4n3UT"
   },
   "source": [
    "CountVecotrizer를 사용하여서 학습 데이터를 바탕으로 벡터화를 시키고 이를 test data에 적용한다"
   ]
  },
  {
   "cell_type": "code",
   "execution_count": 285,
   "metadata": {
    "colab": {},
    "colab_type": "code",
    "id": "iZahrdkiluNI"
   },
   "outputs": [],
   "source": [
    "# v=CountVectorizer()\n",
    "\n",
    "# v.fit(X_train)\n",
    "\n",
    "# vec_x_train= v.transform(X_train).toarray()\n",
    "# vec_x_test= v.transform(X_test).toarray()\n",
    "#  TfidfVectorizer로 대체"
   ]
  },
  {
   "cell_type": "code",
   "execution_count": 286,
   "metadata": {
    "colab": {},
    "colab_type": "code",
    "id": "iZahrdkiluNI"
   },
   "outputs": [],
   "source": [
    "from sklearn.feature_extraction.text import TfidfVectorizer\n",
    "\n",
    "tfidf_vect = TfidfVectorizer()\n",
    "tfidf_vect.fit(X_train)\n",
    "\n",
    "vec_x_train= tfidf_vect.transform(X_train).toarray()\n",
    "vec_x_test= tfidf_vect.transform(X_test).toarray()\n",
    "# 0.833643058 으로 향상\n"
   ]
  },
  {
   "cell_type": "code",
   "execution_count": 287,
   "metadata": {},
   "outputs": [
    {
     "data": {
      "text/plain": [
       "((12600, 12976), (29595, 12976))"
      ]
     },
     "execution_count": 287,
     "metadata": {},
     "output_type": "execute_result"
    }
   ],
   "source": [
    "vec_x_train.shape, vec_x_test.shape"
   ]
  },
  {
   "cell_type": "markdown",
   "metadata": {
    "colab_type": "text",
    "id": "YJHpPQZ9oDhU"
   },
   "source": [
    "naive bayes중 MultinomialNB를 사용하여서 학습 모형을 만들고 이를 test data에 적용한다"
   ]
  },
  {
   "cell_type": "code",
   "execution_count": 288,
   "metadata": {
    "colab": {},
    "colab_type": "code",
    "id": "TzLUO9WMlmMM"
   },
   "outputs": [],
   "source": [
    "# m1= MultinomialNB()\n",
    "# m1.fit(vec_x_train,Y_train)"
   ]
  },
  {
   "cell_type": "code",
   "execution_count": 289,
   "metadata": {},
   "outputs": [],
   "source": [
    "# from sklearn.linear_model import LogisticRegression\n",
    "# m1 = LogisticRegression()\n",
    "# m1.fit(vec_x_train,Y_train)"
   ]
  },
  {
   "cell_type": "code",
   "execution_count": 290,
   "metadata": {},
   "outputs": [
    {
     "name": "stdout",
     "output_type": "stream",
     "text": [
      "Fitting 3 folds for each of 5 candidates, totalling 15 fits\n"
     ]
    },
    {
     "name": "stderr",
     "output_type": "stream",
     "text": [
      "[Parallel(n_jobs=1)]: Using backend SequentialBackend with 1 concurrent workers.\n",
      "C:\\ProgramData\\Anaconda3\\lib\\site-packages\\sklearn\\linear_model\\logistic.py:432: FutureWarning: Default solver will be changed to 'lbfgs' in 0.22. Specify a solver to silence this warning.\n",
      "  FutureWarning)\n",
      "C:\\ProgramData\\Anaconda3\\lib\\site-packages\\sklearn\\linear_model\\logistic.py:432: FutureWarning: Default solver will be changed to 'lbfgs' in 0.22. Specify a solver to silence this warning.\n",
      "  FutureWarning)\n",
      "C:\\ProgramData\\Anaconda3\\lib\\site-packages\\sklearn\\linear_model\\logistic.py:432: FutureWarning: Default solver will be changed to 'lbfgs' in 0.22. Specify a solver to silence this warning.\n",
      "  FutureWarning)\n",
      "C:\\ProgramData\\Anaconda3\\lib\\site-packages\\sklearn\\linear_model\\logistic.py:432: FutureWarning: Default solver will be changed to 'lbfgs' in 0.22. Specify a solver to silence this warning.\n",
      "  FutureWarning)\n",
      "C:\\ProgramData\\Anaconda3\\lib\\site-packages\\sklearn\\linear_model\\logistic.py:432: FutureWarning: Default solver will be changed to 'lbfgs' in 0.22. Specify a solver to silence this warning.\n",
      "  FutureWarning)\n",
      "C:\\ProgramData\\Anaconda3\\lib\\site-packages\\sklearn\\linear_model\\logistic.py:432: FutureWarning: Default solver will be changed to 'lbfgs' in 0.22. Specify a solver to silence this warning.\n",
      "  FutureWarning)\n",
      "C:\\ProgramData\\Anaconda3\\lib\\site-packages\\sklearn\\linear_model\\logistic.py:432: FutureWarning: Default solver will be changed to 'lbfgs' in 0.22. Specify a solver to silence this warning.\n",
      "  FutureWarning)\n",
      "C:\\ProgramData\\Anaconda3\\lib\\site-packages\\sklearn\\linear_model\\logistic.py:432: FutureWarning: Default solver will be changed to 'lbfgs' in 0.22. Specify a solver to silence this warning.\n",
      "  FutureWarning)\n",
      "C:\\ProgramData\\Anaconda3\\lib\\site-packages\\sklearn\\linear_model\\logistic.py:432: FutureWarning: Default solver will be changed to 'lbfgs' in 0.22. Specify a solver to silence this warning.\n",
      "  FutureWarning)\n",
      "C:\\ProgramData\\Anaconda3\\lib\\site-packages\\sklearn\\linear_model\\logistic.py:432: FutureWarning: Default solver will be changed to 'lbfgs' in 0.22. Specify a solver to silence this warning.\n",
      "  FutureWarning)\n",
      "C:\\ProgramData\\Anaconda3\\lib\\site-packages\\sklearn\\linear_model\\logistic.py:432: FutureWarning: Default solver will be changed to 'lbfgs' in 0.22. Specify a solver to silence this warning.\n",
      "  FutureWarning)\n",
      "C:\\ProgramData\\Anaconda3\\lib\\site-packages\\sklearn\\linear_model\\logistic.py:432: FutureWarning: Default solver will be changed to 'lbfgs' in 0.22. Specify a solver to silence this warning.\n",
      "  FutureWarning)\n",
      "C:\\ProgramData\\Anaconda3\\lib\\site-packages\\sklearn\\linear_model\\logistic.py:432: FutureWarning: Default solver will be changed to 'lbfgs' in 0.22. Specify a solver to silence this warning.\n",
      "  FutureWarning)\n",
      "C:\\ProgramData\\Anaconda3\\lib\\site-packages\\sklearn\\linear_model\\logistic.py:432: FutureWarning: Default solver will be changed to 'lbfgs' in 0.22. Specify a solver to silence this warning.\n",
      "  FutureWarning)\n",
      "C:\\ProgramData\\Anaconda3\\lib\\site-packages\\sklearn\\linear_model\\logistic.py:432: FutureWarning: Default solver will be changed to 'lbfgs' in 0.22. Specify a solver to silence this warning.\n",
      "  FutureWarning)\n",
      "[Parallel(n_jobs=1)]: Done  15 out of  15 | elapsed:   15.8s finished\n",
      "C:\\ProgramData\\Anaconda3\\lib\\site-packages\\sklearn\\linear_model\\logistic.py:432: FutureWarning: Default solver will be changed to 'lbfgs' in 0.22. Specify a solver to silence this warning.\n",
      "  FutureWarning)\n"
     ]
    },
    {
     "name": "stdout",
     "output_type": "stream",
     "text": [
      "Logistic Regression best C parameter : {'C': 5}\n"
     ]
    }
   ],
   "source": [
    "from sklearn.model_selection import GridSearchCV\n",
    "\n",
    "lr_clf = LogisticRegression()\n",
    "# 최적 C 값 도출 튜닝 수행. CV는 3 Fold셋으로 설정. \n",
    "params = { 'C':[0.01, 0.1, 1, 5, 10]}\n",
    "m1 = GridSearchCV(lr_clf ,param_grid=params , cv=3 , scoring='accuracy' , verbose=1 )\n",
    "m1.fit(vec_x_train , Y_train)\n",
    "print('Logistic Regression best C parameter :',m1.best_params_ )\n",
    "\n",
    "# # 최적 C 값으로 학습된 grid_cv로 예측 수행하고 정확도 평가. \n",
    "# pred = grid_cv_lr.predict(X_test_tfidf_vect)\n",
    "# print('TF-IDF Vectorized Logistic Regression 의 예측 정확도는 {0:.3f}'.format(accuracy_score(y_test ,pred)))"
   ]
  },
  {
   "cell_type": "code",
   "execution_count": 291,
   "metadata": {},
   "outputs": [],
   "source": [
    "y_test_pred1=m1.predict_proba(vec_x_test)"
   ]
  },
  {
   "cell_type": "code",
   "execution_count": 292,
   "metadata": {
    "colab": {},
    "colab_type": "code",
    "id": "TzLUO9WMlmMM"
   },
   "outputs": [
    {
     "data": {
      "text/plain": [
       "array([[9.98436388e-01, 1.56361174e-03],\n",
       "       [9.99484024e-01, 5.15976289e-04],\n",
       "       [9.90579760e-01, 9.42024003e-03],\n",
       "       ...,\n",
       "       [9.99757474e-01, 2.42525812e-04],\n",
       "       [9.97261816e-01, 2.73818381e-03],\n",
       "       [9.95606006e-01, 4.39399434e-03]])"
      ]
     },
     "execution_count": 292,
     "metadata": {},
     "output_type": "execute_result"
    }
   ],
   "source": [
    "y_test_pred1_one= [ i[1]  for i in y_test_pred1]\n",
    "\n",
    "for i in range(len(y_test_pred1_one)) :\n",
    "    if y_test_pred1_one[i] > 0.5:\n",
    "        y_test_pred1_one[i] = 1\n",
    "    else :\n",
    "         y_test_pred1_one[i] = 0\n",
    "\n",
    "y_test_pred1       "
   ]
  },
  {
   "cell_type": "code",
   "execution_count": 293,
   "metadata": {},
   "outputs": [
    {
     "name": "stdout",
     "output_type": "stream",
     "text": [
      "accuracy: 0.9994931576279777\n",
      "roc_auc: 0.9958813838550247\n"
     ]
    }
   ],
   "source": [
    "# 정확도 평가\n",
    "\n",
    "preds = y_test_pred1_one\n",
    "y_test = test_yyy\n",
    "from sklearn.metrics import accuracy_score,confusion_matrix\n",
    "from sklearn.metrics import precision_score,recall_score\n",
    "from sklearn.metrics import f1_score,roc_auc_score\n",
    "# from sklearn.metrics import classification_report\n",
    "\n",
    "# accurqacy\n",
    "accuracy = accuracy_score(y_test,preds)\n",
    "\n",
    "print('accuracy:',accuracy)\n",
    "\n",
    "\n",
    "# roc_auc\n",
    "roc_auc = roc_auc_score(y_test,preds)\n",
    "\n",
    "print('roc_auc:',roc_auc)\n",
    "# preds"
   ]
  },
  {
   "cell_type": "code",
   "execution_count": 294,
   "metadata": {},
   "outputs": [
    {
     "data": {
      "text/plain": [
       "(29595, 29595)"
      ]
     },
     "execution_count": 294,
     "metadata": {},
     "output_type": "execute_result"
    }
   ],
   "source": [
    "len(preds),len(y_test)"
   ]
  },
  {
   "cell_type": "code",
   "execution_count": 192,
   "metadata": {},
   "outputs": [],
   "source": [
    "# y_test_pred1=m1.predict_proba(vec_x_test)\n",
    "# y_test_pred1_one= [ i[1]  for i in y_test_pred1]"
   ]
  },
  {
   "cell_type": "code",
   "execution_count": 295,
   "metadata": {},
   "outputs": [
    {
     "name": "stderr",
     "output_type": "stream",
     "text": [
      "1626it [00:00, 3049.04it/s]\n"
     ]
    }
   ],
   "source": [
    "test = pd.read_csv(\"public_test.csv\")\n",
    "\n",
    "test['smishing']=2 #train data와 동일한 형태 생성을 위해 임의의 숫자를 추가 #이후 스미싱 여부 확률 값으로 덮어 씌워짐\n",
    "test_xx=DataFrame(test['text'])\n",
    "test_yyy=DataFrame(test['smishing'])\n",
    "\n",
    "\n",
    "test_doc = [ ( tokenizer.pos(x), y ) for x, y in tqdm( zip( test_xx['text'], test_yyy['smishing'] ) )  ]"
   ]
  },
  {
   "cell_type": "code",
   "execution_count": 296,
   "metadata": {},
   "outputs": [],
   "source": [
    "X_test = []\n",
    "for lwords in test_doc:\n",
    "    \n",
    "    temp = []\n",
    "    for x, y in get_couple(lwords[0]):\n",
    "        temp.append(\"{}.{}\".format(x, y))\n",
    "    \n",
    "    X_test.append(\" \".join(temp))"
   ]
  },
  {
   "cell_type": "code",
   "execution_count": 297,
   "metadata": {},
   "outputs": [],
   "source": [
    "vec_x_test= v.transform(X_test).toarray()"
   ]
  },
  {
   "cell_type": "code",
   "execution_count": 298,
   "metadata": {},
   "outputs": [],
   "source": [
    "y_test_pred1=m1.predict_proba(vec_x_test)\n",
    "y_test_pred1_one= [ i[1]  for i in y_test_pred1]"
   ]
  },
  {
   "cell_type": "markdown",
   "metadata": {
    "colab_type": "text",
    "id": "6sVPNg3wpBL8"
   },
   "source": [
    "test data에서 각 text당 스미싱 확률을 구할 수 있으니 이를 제출양식의 smishing 변수에 넣고 csv 파일로 내보낸다"
   ]
  },
  {
   "cell_type": "code",
   "execution_count": 299,
   "metadata": {
    "colab": {},
    "colab_type": "code",
    "id": "tcuDUSK-m8x1"
   },
   "outputs": [],
   "source": [
    "submission=pd.read_csv(\"submission_제출양식.csv\")\n",
    "submission['smishing'] = y_test_pred1_one\n",
    "\n",
    "submission.to_csv(\"2019-12-10-Smishing_0313_Logistic_Grid.csv\",index=False) \n",
    "#현재 결과물인 output2를 구글 드라이브에 submission_test라는 이름으로 저장\n",
    "\n",
    "#  2019-12-06-Smishing_12_12 --->   train roc_auc: 0.9997338673341677,     test score:  0.73841      52위\n",
    "#  2019-12-10-Smishing_0251  --->                                         test score :  0.833643058  59위"
   ]
  },
  {
   "cell_type": "markdown",
   "metadata": {
    "colab_type": "text",
    "id": "T3Y7W2JP8JzK"
   },
   "source": [
    "이제 csv 파일로 나온 답지 파일을 14회 대회 제출 게시판을 통해 제출하시면 됩니다"
   ]
  }
 ],
 "metadata": {
  "accelerator": "GPU",
  "colab": {
   "collapsed_sections": [],
   "machine_shape": "hm",
   "name": "14회_colab_baseline.ipynb",
   "provenance": []
  },
  "kernelspec": {
   "display_name": "Python 3",
   "language": "python",
   "name": "python3"
  },
  "language_info": {
   "codemirror_mode": {
    "name": "ipython",
    "version": 3
   },
   "file_extension": ".py",
   "mimetype": "text/x-python",
   "name": "python",
   "nbconvert_exporter": "python",
   "pygments_lexer": "ipython3",
   "version": "3.7.4"
  }
 },
 "nbformat": 4,
 "nbformat_minor": 1
}
