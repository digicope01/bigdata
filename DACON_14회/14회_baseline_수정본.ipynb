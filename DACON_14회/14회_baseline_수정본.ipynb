{
 "cells": [
  {
   "cell_type": "markdown",
   "metadata": {
    "colab_type": "text",
    "id": "hg9Hca7UdzV_"
   },
   "source": [
    "# 사전 사용 패키지 다운로드"
   ]
  },
  {
   "cell_type": "code",
   "execution_count": 1,
   "metadata": {
    "colab": {},
    "colab_type": "code",
    "id": "ikJyW_h8ONQv"
   },
   "outputs": [],
   "source": [
    "import pandas as pd # 데이터 전처리\n",
    "import numpy as np # 데이터 전처리\n",
    "import random #데이터 전처리\n",
    "from pandas import DataFrame #데이터 전처리\n",
    "from collections import Counter #데이터 전처리\n",
    "\n",
    "from tqdm import tqdm #시간 측정용\n",
    "\n",
    "from sklearn.feature_extraction.text import CountVectorizer # model setting\n",
    "from sklearn.model_selection import train_test_split  # model setting\n",
    "\n",
    "from sklearn.naive_bayes import MultinomialNB  # model 관련\n",
    "from sklearn.metrics import roc_auc_score  # model 성능 확인"
   ]
  },
  {
   "cell_type": "markdown",
   "metadata": {
    "colab_type": "text",
    "id": "Jcsrk4Iuqxbn"
   },
   "source": [
    "# 대회 데이터 다운로드 및 사전 확인"
   ]
  },
  {
   "cell_type": "code",
   "execution_count": 2,
   "metadata": {
    "colab": {
     "base_uri": "https://localhost:8080/",
     "height": 111
    },
    "colab_type": "code",
    "executionInfo": {
     "elapsed": 25988,
     "status": "ok",
     "timestamp": 1575262021307,
     "user": {
      "displayName": "Dacon Service",
      "photoUrl": "",
      "userId": "00192245294648390361"
     },
     "user_tz": -540
    },
    "id": "1k9lNWs3qxb8",
    "outputId": "c8a9122d-c18b-49d2-9637-7a2bf69ea0d4"
   },
   "outputs": [
    {
     "data": {
      "text/html": [
       "<div>\n",
       "<style scoped>\n",
       "    .dataframe tbody tr th:only-of-type {\n",
       "        vertical-align: middle;\n",
       "    }\n",
       "\n",
       "    .dataframe tbody tr th {\n",
       "        vertical-align: top;\n",
       "    }\n",
       "\n",
       "    .dataframe thead th {\n",
       "        text-align: right;\n",
       "    }\n",
       "</style>\n",
       "<table border=\"1\" class=\"dataframe\">\n",
       "  <thead>\n",
       "    <tr style=\"text-align: right;\">\n",
       "      <th></th>\n",
       "      <th>id</th>\n",
       "      <th>year_month</th>\n",
       "      <th>text</th>\n",
       "      <th>smishing</th>\n",
       "    </tr>\n",
       "  </thead>\n",
       "  <tbody>\n",
       "    <tr>\n",
       "      <td>0</td>\n",
       "      <td>0</td>\n",
       "      <td>2017-01</td>\n",
       "      <td>XXX은행성산XXX팀장입니다.행복한주말되세요</td>\n",
       "      <td>0</td>\n",
       "    </tr>\n",
       "    <tr>\n",
       "      <td>1</td>\n",
       "      <td>1</td>\n",
       "      <td>2017-01</td>\n",
       "      <td>오늘도많이웃으시는하루시작하세요XXX은행 진월동VIP라운지 XXX올림</td>\n",
       "      <td>0</td>\n",
       "    </tr>\n",
       "  </tbody>\n",
       "</table>\n",
       "</div>"
      ],
      "text/plain": [
       "   id year_month                                   text  smishing\n",
       "0   0    2017-01               XXX은행성산XXX팀장입니다.행복한주말되세요         0\n",
       "1   1    2017-01  오늘도많이웃으시는하루시작하세요XXX은행 진월동VIP라운지 XXX올림         0"
      ]
     },
     "execution_count": 2,
     "metadata": {},
     "output_type": "execute_result"
    }
   ],
   "source": [
    "train = pd.read_csv(\"train.csv\") #해당 14th data의 csv 파일 중 train.csv 불러오기\n",
    "\n",
    "train.head(2)"
   ]
  },
  {
   "cell_type": "code",
   "execution_count": 3,
   "metadata": {},
   "outputs": [
    {
     "data": {
      "text/plain": [
       "(295945, 4)"
      ]
     },
     "execution_count": 3,
     "metadata": {},
     "output_type": "execute_result"
    }
   ],
   "source": [
    "train.shape"
   ]
  },
  {
   "cell_type": "code",
   "execution_count": 4,
   "metadata": {},
   "outputs": [
    {
     "data": {
      "text/plain": [
       "0    277242\n",
       "1     18703\n",
       "Name: smishing, dtype: int64"
      ]
     },
     "execution_count": 4,
     "metadata": {},
     "output_type": "execute_result"
    }
   ],
   "source": [
    "train['smishing'].value_counts()"
   ]
  },
  {
   "cell_type": "code",
   "execution_count": 5,
   "metadata": {},
   "outputs": [
    {
     "data": {
      "text/html": [
       "<div>\n",
       "<style scoped>\n",
       "    .dataframe tbody tr th:only-of-type {\n",
       "        vertical-align: middle;\n",
       "    }\n",
       "\n",
       "    .dataframe tbody tr th {\n",
       "        vertical-align: top;\n",
       "    }\n",
       "\n",
       "    .dataframe thead th {\n",
       "        text-align: right;\n",
       "    }\n",
       "</style>\n",
       "<table border=\"1\" class=\"dataframe\">\n",
       "  <thead>\n",
       "    <tr style=\"text-align: right;\">\n",
       "      <th></th>\n",
       "      <th>id</th>\n",
       "      <th>year_month</th>\n",
       "      <th>text</th>\n",
       "      <th>smishing</th>\n",
       "    </tr>\n",
       "  </thead>\n",
       "  <tbody>\n",
       "    <tr>\n",
       "      <td>9</td>\n",
       "      <td>10</td>\n",
       "      <td>2017-01</td>\n",
       "      <td>(광고)XXXBaXXX고객님들 뒤엔XXX 언제나 XXX새로운 마음가짐으로 새롭게 준...</td>\n",
       "      <td>1</td>\n",
       "    </tr>\n",
       "    <tr>\n",
       "      <td>23</td>\n",
       "      <td>26</td>\n",
       "      <td>2017-01</td>\n",
       "      <td>(광고)XXX추가 XXX품   특판 안내문XXX 지점에서 취급하고 있는 여신 XXX...</td>\n",
       "      <td>1</td>\n",
       "    </tr>\n",
       "    <tr>\n",
       "      <td>31</td>\n",
       "      <td>36</td>\n",
       "      <td>2017-01</td>\n",
       "      <td>(광고)XXX신용관리 XXX 알고 싶다나의 신용과 재무상태는 직접 관리해야지 누군가...</td>\n",
       "      <td>1</td>\n",
       "    </tr>\n",
       "    <tr>\n",
       "      <td>40</td>\n",
       "      <td>45</td>\n",
       "      <td>2017-01</td>\n",
       "      <td>(광고)안녕하세요수신을 희망하지 않으실 경우에는 거부 라는 답장을 주시면 KISA ...</td>\n",
       "      <td>1</td>\n",
       "    </tr>\n",
       "    <tr>\n",
       "      <td>50</td>\n",
       "      <td>58</td>\n",
       "      <td>2017-01</td>\n",
       "      <td>(광고)한국citi bank 나의 대출한도와 금리는? 대출때문에 고민하고 있다거나 ...</td>\n",
       "      <td>1</td>\n",
       "    </tr>\n",
       "    <tr>\n",
       "      <td>...</td>\n",
       "      <td>...</td>\n",
       "      <td>...</td>\n",
       "      <td>...</td>\n",
       "      <td>...</td>\n",
       "    </tr>\n",
       "    <tr>\n",
       "      <td>295927</td>\n",
       "      <td>336357</td>\n",
       "      <td>2018-12</td>\n",
       "      <td>(광고)XXX금전을 요구하는건 사기입니다. 유의하세요!1.부득이하게 높은 이자를 내...</td>\n",
       "      <td>1</td>\n",
       "    </tr>\n",
       "    <tr>\n",
       "      <td>295932</td>\n",
       "      <td>336362</td>\n",
       "      <td>2018-12</td>\n",
       "      <td>(광고)XXX금전을 요구하는건 사기입니다. 유의하세요!1.부득이하게 높은 이자를 내...</td>\n",
       "      <td>1</td>\n",
       "    </tr>\n",
       "    <tr>\n",
       "      <td>295934</td>\n",
       "      <td>336366</td>\n",
       "      <td>2018-12</td>\n",
       "      <td>(광고)XXX나의 한도금리를 알아보자금전을 요구하는건 사기입니다. 유의하세요!1.부...</td>\n",
       "      <td>1</td>\n",
       "    </tr>\n",
       "    <tr>\n",
       "      <td>295936</td>\n",
       "      <td>336369</td>\n",
       "      <td>2018-12</td>\n",
       "      <td>(광고) XXX항상 (XXX국민)은행을 이용해주셔서 감사합니다. 2018년 12월 ...</td>\n",
       "      <td>1</td>\n",
       "    </tr>\n",
       "    <tr>\n",
       "      <td>295937</td>\n",
       "      <td>336370</td>\n",
       "      <td>2018-12</td>\n",
       "      <td>(광고)XXX가이드 변경 안내정확하고 올바른 신용상품 당사상품의 자격기준과 심사기준...</td>\n",
       "      <td>1</td>\n",
       "    </tr>\n",
       "  </tbody>\n",
       "</table>\n",
       "<p>18703 rows × 4 columns</p>\n",
       "</div>"
      ],
      "text/plain": [
       "            id year_month                                               text  \\\n",
       "9           10    2017-01  (광고)XXXBaXXX고객님들 뒤엔XXX 언제나 XXX새로운 마음가짐으로 새롭게 준...   \n",
       "23          26    2017-01  (광고)XXX추가 XXX품   특판 안내문XXX 지점에서 취급하고 있는 여신 XXX...   \n",
       "31          36    2017-01  (광고)XXX신용관리 XXX 알고 싶다나의 신용과 재무상태는 직접 관리해야지 누군가...   \n",
       "40          45    2017-01  (광고)안녕하세요수신을 희망하지 않으실 경우에는 거부 라는 답장을 주시면 KISA ...   \n",
       "50          58    2017-01  (광고)한국citi bank 나의 대출한도와 금리는? 대출때문에 고민하고 있다거나 ...   \n",
       "...        ...        ...                                                ...   \n",
       "295927  336357    2018-12  (광고)XXX금전을 요구하는건 사기입니다. 유의하세요!1.부득이하게 높은 이자를 내...   \n",
       "295932  336362    2018-12  (광고)XXX금전을 요구하는건 사기입니다. 유의하세요!1.부득이하게 높은 이자를 내...   \n",
       "295934  336366    2018-12  (광고)XXX나의 한도금리를 알아보자금전을 요구하는건 사기입니다. 유의하세요!1.부...   \n",
       "295936  336369    2018-12  (광고) XXX항상 (XXX국민)은행을 이용해주셔서 감사합니다. 2018년 12월 ...   \n",
       "295937  336370    2018-12  (광고)XXX가이드 변경 안내정확하고 올바른 신용상품 당사상품의 자격기준과 심사기준...   \n",
       "\n",
       "        smishing  \n",
       "9              1  \n",
       "23             1  \n",
       "31             1  \n",
       "40             1  \n",
       "50             1  \n",
       "...          ...  \n",
       "295927         1  \n",
       "295932         1  \n",
       "295934         1  \n",
       "295936         1  \n",
       "295937         1  \n",
       "\n",
       "[18703 rows x 4 columns]"
      ]
     },
     "execution_count": 5,
     "metadata": {},
     "output_type": "execute_result"
    }
   ],
   "source": [
    "train[train['smishing'] == 1]"
   ]
  },
  {
   "cell_type": "code",
   "execution_count": 6,
   "metadata": {
    "colab": {
     "base_uri": "https://localhost:8080/",
     "height": 111
    },
    "colab_type": "code",
    "executionInfo": {
     "elapsed": 26216,
     "status": "ok",
     "timestamp": 1575262021546,
     "user": {
      "displayName": "Dacon Service",
      "photoUrl": "",
      "userId": "00192245294648390361"
     },
     "user_tz": -540
    },
    "id": "JMLfiB9zqxb9",
    "outputId": "7da64a09-4af4-4382-e077-ac05c04e4f19"
   },
   "outputs": [
    {
     "data": {
      "text/html": [
       "<div>\n",
       "<style scoped>\n",
       "    .dataframe tbody tr th:only-of-type {\n",
       "        vertical-align: middle;\n",
       "    }\n",
       "\n",
       "    .dataframe tbody tr th {\n",
       "        vertical-align: top;\n",
       "    }\n",
       "\n",
       "    .dataframe thead th {\n",
       "        text-align: right;\n",
       "    }\n",
       "</style>\n",
       "<table border=\"1\" class=\"dataframe\">\n",
       "  <thead>\n",
       "    <tr style=\"text-align: right;\">\n",
       "      <th></th>\n",
       "      <th>id</th>\n",
       "      <th>year_month</th>\n",
       "      <th>text</th>\n",
       "    </tr>\n",
       "  </thead>\n",
       "  <tbody>\n",
       "    <tr>\n",
       "      <td>0</td>\n",
       "      <td>340000</td>\n",
       "      <td>2019-01</td>\n",
       "      <td>XXX고객님! 안녕하세요? 새롭게 시작하는 한 주 행복 가득하시길 기원합니다. 지난...</td>\n",
       "    </tr>\n",
       "    <tr>\n",
       "      <td>1</td>\n",
       "      <td>340001</td>\n",
       "      <td>2019-01</td>\n",
       "      <td>긴급 안내  XXX은행 가락동 지점  - 헬리오XXX 기본XXX    대출이자를 ...</td>\n",
       "    </tr>\n",
       "  </tbody>\n",
       "</table>\n",
       "</div>"
      ],
      "text/plain": [
       "       id year_month                                               text\n",
       "0  340000    2019-01  XXX고객님! 안녕하세요? 새롭게 시작하는 한 주 행복 가득하시길 기원합니다. 지난...\n",
       "1  340001    2019-01   긴급 안내  XXX은행 가락동 지점  - 헬리오XXX 기본XXX    대출이자를 ..."
      ]
     },
     "execution_count": 6,
     "metadata": {},
     "output_type": "execute_result"
    }
   ],
   "source": [
    "test = pd.read_csv(\"public_test.csv\")\n",
    "\n",
    "test.head(2)"
   ]
  },
  {
   "cell_type": "code",
   "execution_count": 7,
   "metadata": {
    "colab": {
     "base_uri": "https://localhost:8080/",
     "height": 111
    },
    "colab_type": "code",
    "executionInfo": {
     "elapsed": 26785,
     "status": "ok",
     "timestamp": 1575262022126,
     "user": {
      "displayName": "Dacon Service",
      "photoUrl": "",
      "userId": "00192245294648390361"
     },
     "user_tz": -540
    },
    "id": "87QelyNYqxb-",
    "outputId": "37b0c4bb-4ac3-4da8-94ee-7063b68eb4ff"
   },
   "outputs": [
    {
     "data": {
      "text/html": [
       "<div>\n",
       "<style scoped>\n",
       "    .dataframe tbody tr th:only-of-type {\n",
       "        vertical-align: middle;\n",
       "    }\n",
       "\n",
       "    .dataframe tbody tr th {\n",
       "        vertical-align: top;\n",
       "    }\n",
       "\n",
       "    .dataframe thead th {\n",
       "        text-align: right;\n",
       "    }\n",
       "</style>\n",
       "<table border=\"1\" class=\"dataframe\">\n",
       "  <thead>\n",
       "    <tr style=\"text-align: right;\">\n",
       "      <th></th>\n",
       "      <th>id</th>\n",
       "      <th>smishing</th>\n",
       "    </tr>\n",
       "  </thead>\n",
       "  <tbody>\n",
       "    <tr>\n",
       "      <td>0</td>\n",
       "      <td>340000</td>\n",
       "      <td>1.000000e-09</td>\n",
       "    </tr>\n",
       "    <tr>\n",
       "      <td>1</td>\n",
       "      <td>340001</td>\n",
       "      <td>1.000000e-09</td>\n",
       "    </tr>\n",
       "  </tbody>\n",
       "</table>\n",
       "</div>"
      ],
      "text/plain": [
       "       id      smishing\n",
       "0  340000  1.000000e-09\n",
       "1  340001  1.000000e-09"
      ]
     },
     "execution_count": 7,
     "metadata": {},
     "output_type": "execute_result"
    }
   ],
   "source": [
    "submission=pd.read_csv(\"submission_제출양식.csv\")\n",
    "\n",
    "submission.head(2)"
   ]
  },
  {
   "cell_type": "code",
   "execution_count": 8,
   "metadata": {
    "colab": {
     "base_uri": "https://localhost:8080/",
     "height": 35
    },
    "colab_type": "code",
    "executionInfo": {
     "elapsed": 621,
     "status": "ok",
     "timestamp": 1575262029751,
     "user": {
      "displayName": "Dacon Service",
      "photoUrl": "",
      "userId": "00192245294648390361"
     },
     "user_tz": -540
    },
    "id": "dQy5n59tq_QK",
    "outputId": "3e7383b0-2d28-4ce1-eb1e-38292e55b879"
   },
   "outputs": [
    {
     "data": {
      "text/plain": [
       "((295945, 4), (1626, 3), (1626, 2))"
      ]
     },
     "execution_count": 8,
     "metadata": {},
     "output_type": "execute_result"
    }
   ],
   "source": [
    "train.shape, test.shape, submission.shape"
   ]
  },
  {
   "cell_type": "markdown",
   "metadata": {
    "colab_type": "text",
    "id": "u5J14Z_Qq_QO"
   },
   "source": [
    "총 train data의 행은 약 29만개, test data의 행은 약 1600개로 되어있다."
   ]
  },
  {
   "cell_type": "markdown",
   "metadata": {
    "colab_type": "text",
    "id": "CAWAdzm7rILB"
   },
   "source": [
    "## train data under-sampling method"
   ]
  },
  {
   "cell_type": "code",
   "execution_count": 9,
   "metadata": {
    "colab": {
     "base_uri": "https://localhost:8080/",
     "height": 35
    },
    "colab_type": "code",
    "executionInfo": {
     "elapsed": 815,
     "status": "ok",
     "timestamp": 1575262042601,
     "user": {
      "displayName": "Dacon Service",
      "photoUrl": "",
      "userId": "00192245294648390361"
     },
     "user_tz": -540
    },
    "id": "kgxwmC6wrILF",
    "outputId": "d2208963-4ade-4dc2-dae8-03ae45d7417c"
   },
   "outputs": [
    {
     "data": {
      "text/plain": [
       "Counter({0: 277242, 1: 18703})"
      ]
     },
     "execution_count": 9,
     "metadata": {},
     "output_type": "execute_result"
    }
   ],
   "source": [
    "Counter(train['smishing'])"
   ]
  },
  {
   "cell_type": "code",
   "execution_count": 10,
   "metadata": {
    "colab": {
     "base_uri": "https://localhost:8080/",
     "height": 35
    },
    "colab_type": "code",
    "executionInfo": {
     "elapsed": 501,
     "status": "ok",
     "timestamp": 1575262042603,
     "user": {
      "displayName": "Dacon Service",
      "photoUrl": "",
      "userId": "00192245294648390361"
     },
     "user_tz": -540
    },
    "id": "AkUHl9gPrILK",
    "outputId": "8b887deb-1b5b-4d29-c6d6-d280678453fe"
   },
   "outputs": [
    {
     "data": {
      "text/plain": [
       "0.0663839564783997"
      ]
     },
     "execution_count": 10,
     "metadata": {},
     "output_type": "execute_result"
    }
   ],
   "source": [
    "19646/train.shape[0]"
   ]
  },
  {
   "cell_type": "markdown",
   "metadata": {
    "colab_type": "text",
    "id": "jJqzp-SCrILN"
   },
   "source": [
    "NLP 특성상 해당 train data를 모두 tokenizing 한 뒤, CountVectorizer를 하게 되면,\n",
    "\n",
    " colab 상에서는 과하게 ram을 잡아먹어 다운이 되는 경우가 생기기 때문에, 스미싱 비율에 맞게 under sampling을 수행하였다."
   ]
  },
  {
   "cell_type": "code",
   "execution_count": 11,
   "metadata": {
    "colab": {
     "base_uri": "https://localhost:8080/",
     "height": 35
    },
    "colab_type": "code",
    "executionInfo": {
     "elapsed": 422,
     "status": "ok",
     "timestamp": 1575262043450,
     "user": {
      "displayName": "Dacon Service",
      "photoUrl": "",
      "userId": "00192245294648390361"
     },
     "user_tz": -540
    },
    "id": "HOX3hMNtrILN",
    "outputId": "57c3d6aa-fc73-4869-f80e-ea89d9028434"
   },
   "outputs": [
    {
     "data": {
      "text/plain": [
       "0.06746031746031746"
      ]
     },
     "execution_count": 11,
     "metadata": {},
     "output_type": "execute_result"
    }
   ],
   "source": [
    "850/12600\n",
    "\n",
    "#  smishing:850개  non-smishing :12600개       , 비율 0.06:0.94"
   ]
  },
  {
   "cell_type": "code",
   "execution_count": 12,
   "metadata": {
    "colab": {},
    "colab_type": "code",
    "id": "qFmf-J2_rILR"
   },
   "outputs": [],
   "source": [
    "random.seed(2019) #반복 수행시에도 동일한 결과 나올 수 있도록 시드 번호 지정\n",
    "train_nsm_list=list(train[train['smishing']!=1].index)\n",
    "train_nsmishing=random.sample(train_nsm_list, 11750 )\n",
    "\n",
    "random.seed(2019)\n",
    "train_sm_list=list(train[train['smishing']==1].index)\n",
    "train_smishing=random.sample(train_sm_list, 850 ) #0.066과 제일 비슷하게 나올 수 있도록  train data under sampling"
   ]
  },
  {
   "cell_type": "code",
   "execution_count": 13,
   "metadata": {
    "colab": {},
    "colab_type": "code",
    "id": "qFmf-J2_rILR"
   },
   "outputs": [],
   "source": [
    "# random.seed(2019) #반복 수행시에도 동일한 결과 나올 수 있도록 시드 번호 지정\n",
    "# train_nsm_list=list(train[train['smishing']!=1].index)\n",
    "# train_nsmishing=random.sample(train_nsm_list, 11750*7 )\n",
    "\n",
    "# random.seed(2019)\n",
    "# train_sm_list=list(train[train['smishing']==1].index)\n",
    "# train_smishing=random.sample(train_sm_list, 850*7 ) #0.066과 제일 비슷하게 나올 수 있도록  train data under sampling\n",
    "\n",
    "# 성능 저하됨"
   ]
  },
  {
   "cell_type": "code",
   "execution_count": null,
   "metadata": {},
   "outputs": [],
   "source": []
  },
  {
   "cell_type": "code",
   "execution_count": 14,
   "metadata": {
    "colab": {},
    "colab_type": "code",
    "id": "WB1Xigh6rILU"
   },
   "outputs": [],
   "source": [
    "train_xx=train.iloc[train_smishing+train_nsmishing,:].reset_index(drop=True) #under sampling으로 나온 index들로 train data 선별\n",
    "\n",
    "train_yy=DataFrame(train['smishing'],columns=['smishing']) \n",
    "train_yyy=train_yy.iloc[train_smishing+train_nsmishing,:].reset_index(drop=True)"
   ]
  },
  {
   "cell_type": "code",
   "execution_count": 15,
   "metadata": {
    "colab": {},
    "colab_type": "code",
    "id": "eS6CzBnjrILX"
   },
   "outputs": [],
   "source": [
    "test['smishing']=2 #train data와 동일한 형태 생성을 위해 임의의 숫자를 추가 #이후 스미싱 여부 확률 값으로 덮어 씌워짐\n",
    "test_xx=DataFrame(test['text'])\n",
    "test_yyy=DataFrame(test['smishing'])"
   ]
  },
  {
   "cell_type": "code",
   "execution_count": 16,
   "metadata": {
    "colab": {
     "base_uri": "https://localhost:8080/",
     "height": 35
    },
    "colab_type": "code",
    "executionInfo": {
     "elapsed": 607,
     "status": "ok",
     "timestamp": 1575262046695,
     "user": {
      "displayName": "Dacon Service",
      "photoUrl": "",
      "userId": "00192245294648390361"
     },
     "user_tz": -540
    },
    "id": "li61SsKLrILa",
    "outputId": "1aa29f94-9e26-4020-e0a9-a528b48cfced"
   },
   "outputs": [
    {
     "data": {
      "text/plain": [
       "((12600, 4), (12600, 1), (1626, 1), (1626, 1))"
      ]
     },
     "execution_count": 16,
     "metadata": {},
     "output_type": "execute_result"
    }
   ],
   "source": [
    "train_xx.shape,train_yyy.shape,test_xx.shape,test_yyy.shape"
   ]
  },
  {
   "cell_type": "code",
   "execution_count": 17,
   "metadata": {
    "colab": {},
    "colab_type": "code",
    "id": "yNwT4vAp11bx"
   },
   "outputs": [],
   "source": [
    "# konlpy 설치\n",
    "# pip install konlpy\n",
    "\n",
    "# Mecab 설치\n",
    "# http://konlpy.org/en/latest/install/\n",
    "# https://cleancode-ws.tistory.com/97\n",
    "\n",
    "import konlpy\n",
    "from konlpy.tag import Mecab\n",
    "\n",
    "tokenizer = Mecab('C:\\mecab\\mecab-ko-dic') # setting tokenizer using Mecab()"
   ]
  },
  {
   "cell_type": "code",
   "execution_count": 18,
   "metadata": {
    "colab": {
     "base_uri": "https://localhost:8080/",
     "height": 53
    },
    "colab_type": "code",
    "executionInfo": {
     "elapsed": 6892,
     "status": "ok",
     "timestamp": 1575262272752,
     "user": {
      "displayName": "Dacon Service",
      "photoUrl": "",
      "userId": "00192245294648390361"
     },
     "user_tz": -540
    },
    "id": "JGfLRGdC_r6B",
    "outputId": "5d3cde24-efd1-42ba-95c4-b1e6d9ced3ab"
   },
   "outputs": [
    {
     "name": "stderr",
     "output_type": "stream",
     "text": [
      "12600it [00:02, 4826.96it/s]\n",
      "1626it [00:00, 3216.35it/s]\n"
     ]
    }
   ],
   "source": [
    "train_doc = [ ( tokenizer.pos(x), y ) for x, y in tqdm( zip( train_xx['text'], train_yyy['smishing'] ) )  ] # Mecab를 활용하여 text를 토큰화 시킴\n",
    "test_doc = [ ( tokenizer.pos(x), y ) for x, y in tqdm( zip( test_xx['text'], test_yyy['smishing'] ) )  ]"
   ]
  },
  {
   "cell_type": "code",
   "execution_count": 19,
   "metadata": {
    "colab": {},
    "colab_type": "code",
    "id": "jNEbl5QGlmPG"
   },
   "outputs": [],
   "source": [
    "stopwords = ['XXX', '.', '을', '를', '이', '가', '-', '(', ')', ':', '!', '?', ')-', '.-', 'ㅡ', 'XXXXXX', '..', '.(', '은', '는'] #필요없는 단어 리스트\n",
    "\n",
    "def get_couple(_words): #필요없는 단어들 없애는 함수\n",
    "    global stopwords\n",
    "    _words = [x for x in _words if x[0] not in stopwords]\n",
    "    l = len(_words)\n",
    "    for i in range(l-1):\n",
    "        yield _words[i][0], _words[i+1][0]"
   ]
  },
  {
   "cell_type": "markdown",
   "metadata": {
    "colab_type": "text",
    "id": "LtZPJDdknsr6"
   },
   "source": [
    "필요없는 단어들을 제거하면서 동시에 모형에 사용하기 위한, X_train,test, Y_train,test를 생성한다"
   ]
  },
  {
   "cell_type": "code",
   "execution_count": 20,
   "metadata": {
    "colab": {},
    "colab_type": "code",
    "id": "xqgpLM_JluSD"
   },
   "outputs": [],
   "source": [
    "X_train, Y_train = [], []\n",
    "for lwords in train_doc:\n",
    "    Y_train.append(lwords[1])\n",
    "    \n",
    "    temp = []\n",
    "    for x, y in get_couple(lwords[0]):\n",
    "        temp.append(\"{}.{}\".format(x, y))\n",
    "    \n",
    "    X_train.append(\" \".join(temp))"
   ]
  },
  {
   "cell_type": "code",
   "execution_count": 21,
   "metadata": {
    "colab": {},
    "colab_type": "code",
    "id": "pXnpvMpa-ccj"
   },
   "outputs": [],
   "source": [
    "X_test = []\n",
    "for lwords in test_doc:\n",
    "    \n",
    "    temp = []\n",
    "    for x, y in get_couple(lwords[0]):\n",
    "        temp.append(\"{}.{}\".format(x, y))\n",
    "    \n",
    "    X_test.append(\" \".join(temp))"
   ]
  },
  {
   "cell_type": "markdown",
   "metadata": {
    "colab_type": "text",
    "id": "bNG-KUu4n3UT"
   },
   "source": [
    "CountVecotrizer를 사용하여서 학습 데이터를 바탕으로 벡터화를 시키고 이를 test data에 적용한다"
   ]
  },
  {
   "cell_type": "code",
   "execution_count": 22,
   "metadata": {
    "colab": {},
    "colab_type": "code",
    "id": "iZahrdkiluNI"
   },
   "outputs": [],
   "source": [
    "v=CountVectorizer()\n",
    "\n",
    "v.fit(X_train)\n",
    "\n",
    "vec_x_train= v.transform(X_train).toarray()\n",
    "vec_x_test= v.transform(X_test).toarray()"
   ]
  },
  {
   "cell_type": "markdown",
   "metadata": {
    "colab_type": "text",
    "id": "YJHpPQZ9oDhU"
   },
   "source": [
    "naive bayes중 MultinomialNB를 사용하여서 학습 모형을 만들고 이를 test data에 적용한다"
   ]
  },
  {
   "cell_type": "code",
   "execution_count": 23,
   "metadata": {
    "colab": {},
    "colab_type": "code",
    "id": "TzLUO9WMlmMM"
   },
   "outputs": [],
   "source": [
    "m1= MultinomialNB()\n",
    "m1.fit(vec_x_train,Y_train)\n",
    "\n",
    "y_train_pred1=m1.predict_proba(vec_x_train)\n",
    "y_train_pred1_one= [ i[1]  for i in y_train_pred1]\n",
    "\n",
    "y_test_pred1=m1.predict_proba(vec_x_test)\n",
    "y_test_pred1_one= [ i[1]  for i in y_test_pred1]"
   ]
  },
  {
   "cell_type": "markdown",
   "metadata": {
    "colab_type": "text",
    "id": "6sVPNg3wpBL8"
   },
   "source": [
    "test data에서 각 text당 스미싱 확률을 구할 수 있으니 이를 제출양식의 smishing 변수에 넣고 csv 파일로 내보낸다"
   ]
  },
  {
   "cell_type": "code",
   "execution_count": 22,
   "metadata": {
    "colab": {},
    "colab_type": "code",
    "id": "tcuDUSK-m8x1"
   },
   "outputs": [],
   "source": [
    "submission['smishing'] = y_test_pred1_one\n",
    "\n",
    "submission.to_csv(\"2019-12-06-Smishing_12_12.csv\",index=False) #현재 결과물인 output2를 구글 드라이브에 submission_test라는 이름으로 저장"
   ]
  },
  {
   "cell_type": "markdown",
   "metadata": {
    "colab_type": "text",
    "id": "T3Y7W2JP8JzK"
   },
   "source": [
    "이제 csv 파일로 나온 답지 파일을 14회 대회 제출 게시판을 통해 제출하시면 됩니다"
   ]
  }
 ],
 "metadata": {
  "accelerator": "GPU",
  "colab": {
   "collapsed_sections": [],
   "machine_shape": "hm",
   "name": "14회_colab_baseline.ipynb",
   "provenance": []
  },
  "kernelspec": {
   "display_name": "Python 3",
   "language": "python",
   "name": "python3"
  },
  "language_info": {
   "codemirror_mode": {
    "name": "ipython",
    "version": 3
   },
   "file_extension": ".py",
   "mimetype": "text/x-python",
   "name": "python",
   "nbconvert_exporter": "python",
   "pygments_lexer": "ipython3",
   "version": "3.7.4"
  }
 },
 "nbformat": 4,
 "nbformat_minor": 1
}
